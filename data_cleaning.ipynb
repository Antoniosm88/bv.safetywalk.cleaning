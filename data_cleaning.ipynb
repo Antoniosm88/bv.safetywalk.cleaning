{
 "cells": [
  {
   "cell_type": "code",
   "execution_count": 1,
   "metadata": {},
   "outputs": [],
   "source": [
    "import pandas as pd\n",
    "import missingno"
   ]
  },
  {
   "cell_type": "code",
   "execution_count": 2,
   "metadata": {},
   "outputs": [
    {
     "data": {
      "text/plain": [
       "Index(['Application: BV Safety', 'Unnamed: 1', 'Unnamed: 2', 'Unnamed: 3',\n",
       "       'Unnamed: 4', 'Unnamed: 5', 'Unnamed: 6', 'Unnamed: 7', 'Unnamed: 8',\n",
       "       'Unnamed: 9', 'Unnamed: 10', 'Unnamed: 11', 'Unnamed: 12',\n",
       "       'Unnamed: 13', 'Unnamed: 14', 'Unnamed: 15', 'Unnamed: 16',\n",
       "       'Unnamed: 17', 'Unnamed: 18', 'Unnamed: 19', 'Unnamed: 20',\n",
       "       'Unnamed: 21', 'Unnamed: 22', 'Unnamed: 23', 'Unnamed: 24',\n",
       "       'Unnamed: 25', 'Unnamed: 26', 'Unnamed: 27', 'Unnamed: 28',\n",
       "       'Unnamed: 29', 'Unnamed: 30', 'Unnamed: 31', 'Unnamed: 32',\n",
       "       'Unnamed: 33', 'Unnamed: 34', 'Unnamed: 35', 'Unnamed: 36',\n",
       "       'Unnamed: 37', 'Unnamed: 38', 'Unnamed: 39'],\n",
       "      dtype='object')"
      ]
     },
     "execution_count": 2,
     "metadata": {},
     "output_type": "execute_result"
    }
   ],
   "source": [
    "#Carga el excel en un Dataframe (datos de las SW)\n",
    "df= pd.read_excel('../Data/BV Safety_All Safety Walks.xlsx',engine='openpyxl')\n",
    "df.columns"
   ]
  },
  {
   "cell_type": "code",
   "execution_count": 3,
   "metadata": {},
   "outputs": [],
   "source": [
    "df1=df.drop([0,1,2,3])"
   ]
  },
  {
   "cell_type": "code",
   "execution_count": 4,
   "metadata": {},
   "outputs": [],
   "source": [
    "new_header = df1.iloc[0] #grab the first row for the header\n",
    "df2 = df1[1:] #take the data less the header row\n",
    "df2.columns = new_header #set the header row as the df header"
   ]
  },
  {
   "cell_type": "code",
   "execution_count": 5,
   "metadata": {},
   "outputs": [],
   "source": [
    "df3=df2.reset_index()"
   ]
  },
  {
   "cell_type": "code",
   "execution_count": 6,
   "metadata": {},
   "outputs": [],
   "source": [
    "df4 = df3.rename(columns = {'Number':'Número',\n",
    "                            'Created Date':'Fecha de creación',\n",
    "                            'Name of the Observer':'Nombre del observador',\n",
    "                            'Name of the Observed Person(s)':'Nombre de la persona o personas observadas',\n",
    "                            'Operating Group':'Grupo Operativo',\n",
    "                            'Country':'País',\n",
    "                            'Entity':'Entidad',\n",
    "                            'Site':'Sitio',\n",
    "                            'BV Site Name':'Nombre del sitio de BV',\n",
    "                            'Client Name':'Nombre del cliente',\n",
    "                            'Site Address':'Dirección del sitio',\n",
    "                            '1. Mind On Task?': '1. ¿Mente en la tarea?', \n",
    "                            '2. Eyes on Task?': '2. ¿Ojos puestos en la tarea?',\n",
    "                            '3. Using equpment properly?': \"3. ¿Utiliza el equipo correctamente?\",\n",
    "                            '4. Performing task while not rushing?': \"4. ¿Realiza la tarea sin apresurarse?\",\n",
    "                            '5. Wearing prescribed PPE?': '5. ¿Usa el EPI definido?',\n",
    "                            '6. Following Safe Working Procedures?':'6. ¿Sigue procedimientos de trabajo seguros?',\n",
    "                            '7. Authorization is obtained...':'7. Se obtiene la autorización ...',\n",
    "                            '8. Check surrounding work areas...':'8. Verifica el entorno de trabajo, 2 min para mi seguridad',\n",
    "                            '9. Personnel acted safely for the task observed':'9. El personal actuó con seguridad para la tarea observada.',\n",
    "                            '10. Aware of the Emergency Evacuation...':'10.Conoce la Ruta de Evaluación de Emergencias y el Punto de Reunión',\n",
    "                            '11. The person is aware of the need to report near hit and unsafe situation.':'11. La persona es consciente de la necesidad de reportar Cuasi Accidentes y Condiciones Inseguras?.',\n",
    "                            '12. Personnel stops Working if the situation is unsafe.':'12. El personal deja de trabajar si la situación no es segura.',\n",
    "                            '13. Personnel is competent and trained...':'13. El personal esta capacitado y suficientemente formado para la Tarea.',\n",
    "                            '14. Adequate and worn correctly the applicable PPE':'14. Los EPIS definidos son adecuados y se usan correctamente.',\n",
    "                            '15. Good conditions, well maintained and properly stored.':'15. los EPIS estan en buen estado, bien mantenidos y se almacenan correctamente.',\n",
    "                            '16. Good housekeeping of the work area...':'16. Buena limpieza del área de trabajo',\n",
    "                            '17. Area Free of Slip Trip and Fall Hazards':'17. Área libre de riesgos de resbalones, tropiezos y caídas',\n",
    "                            '18. Walkways, aisles, emergency exits...':'18. Pasillos, salidas de emergencia y equipos de emergencia no estan obstruidos.',\n",
    "                            '19. Spillage controlled':'19. Derrames controlados',\n",
    "                            '20. All containers in use and in the area are labelled.':'20. Todos los contenedores en uso y en el área están etiquetados.',\n",
    "                            '21. No Noise, Dust, Odor Issues':'21. Sin ruidos, polvo ni olores',\n",
    "                            '22. Hazardous substances are stored properly':'22. Las sustancias peligrosas se almacenan adecuadamente',\n",
    "                            '23. The work area is secured from hazards...':'23. El área de trabajo está protegida contra riesgos',\n",
    "                            '24. Sufficient lighting and ventilation.':'24. Iluminación y ventilación suficientes.',\n",
    "                            '25. Use intrinsically safe equipment...':'25. Uso de equipos intrínsecamente seguro.',\n",
    "                            '26. Machine guarding or Lock-Out-Tag-Out...':'26. Protección de la maquina o señal de bloqueo-etiquetado disponible',\n",
    "                            '27. Scaffold or ladder is safe for use.':'27. El andamio o la escalera son seguros para su uso.',\n",
    "                            'Did I use my Stop Work Authority?':'¿Usé mi autorización para detener el trabajo?',\n",
    "                            'Comments / Action Plan':'Comentarios / Plan de acción'},\n",
    "                            \n",
    "                                             inplace = False)\n",
    "                                        \n",
    "                                        \n",
    "                                        \n",
    "                                        "
   ]
  },
  {
   "cell_type": "code",
   "execution_count": 7,
   "metadata": {},
   "outputs": [],
   "source": [
    "#missingno.heatmap(df4[list_preguntas], figsize=(30,15))"
   ]
  },
  {
   "cell_type": "code",
   "execution_count": 8,
   "metadata": {},
   "outputs": [],
   "source": [
    "nombres=[]\n",
    "for e in df4['Nombre del observador']:\n",
    "    word_list = e.split()\n",
    "    if word_list[-1].isupper()==True:\n",
    "        nombres.append(word_list)\n",
    "    if word_list[-1].isupper()==False:\n",
    "        word_list.remove(word_list[-1])\n",
    "        nombres.append(word_list)"
   ]
  },
  {
   "cell_type": "code",
   "execution_count": 9,
   "metadata": {},
   "outputs": [
    {
     "data": {
      "text/plain": [
       "18215"
      ]
     },
     "execution_count": 9,
     "metadata": {},
     "output_type": "execute_result"
    }
   ],
   "source": [
    "for e in nombres:\n",
    "    if len(e)==2:\n",
    "        e.extend([\".\"])\n",
    "len(nombres)"
   ]
  },
  {
   "cell_type": "code",
   "execution_count": 10,
   "metadata": {},
   "outputs": [],
   "source": [
    "def listToString(s):  \n",
    "    \n",
    "    # initialize an empty string \n",
    "    str1 = \" \" \n",
    "    \n",
    "    # return string   \n",
    "    return (str1.join(s))"
   ]
  },
  {
   "cell_type": "code",
   "execution_count": 11,
   "metadata": {},
   "outputs": [],
   "source": [
    "nombres2=[]\n",
    "for e in nombres:\n",
    "    nombres2.append(listToString(e))  "
   ]
  },
  {
   "cell_type": "code",
   "execution_count": 12,
   "metadata": {},
   "outputs": [
    {
     "data": {
      "text/plain": [
       "18215"
      ]
     },
     "execution_count": 12,
     "metadata": {},
     "output_type": "execute_result"
    }
   ],
   "source": [
    "len(nombres2)"
   ]
  },
  {
   "cell_type": "code",
   "execution_count": 13,
   "metadata": {},
   "outputs": [
    {
     "data": {
      "text/plain": [
       "18215"
      ]
     },
     "execution_count": 13,
     "metadata": {},
     "output_type": "execute_result"
    }
   ],
   "source": [
    "len(df4['Nombre del observador'])"
   ]
  },
  {
   "cell_type": "code",
   "execution_count": 14,
   "metadata": {},
   "outputs": [],
   "source": [
    "df4['Nombre del observador']=nombres2\n",
    "df4['Nombre del observador']= df4['Nombre del observador'].str.lower()"
   ]
  },
  {
   "cell_type": "code",
   "execution_count": 15,
   "metadata": {},
   "outputs": [],
   "source": [
    "df4.reset_index(drop=True, inplace=True)"
   ]
  },
  {
   "cell_type": "code",
   "execution_count": 16,
   "metadata": {},
   "outputs": [],
   "source": [
    "lista_pais=pd.unique(df4['País']).tolist()"
   ]
  },
  {
   "cell_type": "code",
   "execution_count": 17,
   "metadata": {},
   "outputs": [],
   "source": [
    "\n",
    "clean_country = df4[(df4['País'] != ' Spain ')& (df4['País'] != ' Portugal ')].index\n",
    "# Delete these row indexes from dataFrame\n",
    "df4.drop(clean_country , inplace=True)"
   ]
  },
  {
   "cell_type": "code",
   "execution_count": 18,
   "metadata": {},
   "outputs": [
    {
     "data": {
      "text/plain": [
       "['CPS ', 'M&O ', 'S&WE - CTD WE ', 'S&WE - SWE ']"
      ]
     },
     "execution_count": 18,
     "metadata": {},
     "output_type": "execute_result"
    }
   ],
   "source": [
    "lista_grupo=pd.unique(df4['Grupo Operativo']).tolist()\n",
    "lista_grupo"
   ]
  },
  {
   "cell_type": "code",
   "execution_count": 19,
   "metadata": {},
   "outputs": [],
   "source": [
    "# Filtro para S&WE - SWE\n",
    "#clean_grupo = df4[(df4['Grupo Operativo'] != 'S&WE - SWE ')].index\n",
    "#Delete these row indexes from dataFrame\n",
    "#df4.drop(clean_grupo, inplace=True)"
   ]
  },
  {
   "cell_type": "code",
   "execution_count": 20,
   "metadata": {},
   "outputs": [],
   "source": [
    "#fecha=[]\n",
    "#for e in df4['Fecha de creación']:\n",
    "    #date_list = e.split()\n",
    "    #date_list.remove(date_list[-1])\n",
    "    #fecha.append(date_list)"
   ]
  },
  {
   "cell_type": "code",
   "execution_count": 21,
   "metadata": {},
   "outputs": [],
   "source": [
    "#fecha2=[]\n",
    "#for e in fecha:\n",
    "    #fecha2.append(listToString(e))  "
   ]
  },
  {
   "cell_type": "code",
   "execution_count": 22,
   "metadata": {},
   "outputs": [],
   "source": [
    "#df4['Fecha de creación']=fecha2\n"
   ]
  },
  {
   "cell_type": "code",
   "execution_count": 23,
   "metadata": {},
   "outputs": [],
   "source": [
    "df4 = df4.rename(columns={'Nombre del observador':'Nombre completo OBSERVADOR'})\n"
   ]
  },
  {
   "cell_type": "code",
   "execution_count": 24,
   "metadata": {},
   "outputs": [],
   "source": [
    "for e in df4['Nombre completo OBSERVADOR']:\n",
    "    if len(e.split())==2:\n",
    "        e.split().extend([\".\"])\n",
    "        "
   ]
  },
  {
   "cell_type": "code",
   "execution_count": 26,
   "metadata": {},
   "outputs": [],
   "source": [
    "list_preguntas=['1. ¿Mente en la tarea?',\n",
    "       '2. ¿Ojos puestos en la tarea?', '3. ¿Utiliza el equipo correctamente?',\n",
    "       '4. ¿Realiza la tarea sin apresurarse?', '5. ¿Usa el EPI definido?',\n",
    "       '6. ¿Sigue procedimientos de trabajo seguros?',\n",
    "       '7. Se obtiene la autorización ...',\n",
    "       '8. Verifica el entorno de trabajo, 2 min para mi seguridad',\n",
    "       '9. El personal actuó con seguridad para la tarea observada.',\n",
    "       '10.Conoce la Ruta de Evaluación de Emergencias y el Punto de Reunión',\n",
    "       '11. La persona es consciente de la necesidad de reportar Cuasi Accidentes y Condiciones Inseguras?.',\n",
    "       '12. El personal deja de trabajar si la situación no es segura.',\n",
    "       '13. El personal esta capacitado y suficientemente formado para la Tarea.',\n",
    "       '14. Los EPIS definidos son adecuados y se usan correctamente.',\n",
    "       '15. los EPIS estan en buen estado, bien mantenidos y se almacenan correctamente.',\n",
    "       '16. Buena limpieza del área de trabajo',\n",
    "       '17. Área libre de riesgos de resbalones, tropiezos y caídas',\n",
    "       '18. Pasillos, salidas de emergencia y equipos de emergencia no estan obstruidos.',\n",
    "       '19. Derrames controlados',\n",
    "       '20. Todos los contenedores en uso y en el área están etiquetados.',\n",
    "       '21. Sin ruidos, polvo ni olores',\n",
    "       '22. Las sustancias peligrosas se almacenan adecuadamente',\n",
    "       '23. El área de trabajo está protegida contra riesgos',\n",
    "       '24. Iluminación y ventilación suficientes.',\n",
    "       '25. Uso de equipos intrínsecamente seguro.',\n",
    "       '26. Protección de la maquina o señal de bloqueo-etiquetado disponible',\n",
    "       '27. El andamio o la escalera son seguros para su uso.']"
   ]
  },
  {
   "cell_type": "code",
   "execution_count": 27,
   "metadata": {},
   "outputs": [],
   "source": [
    "df4[list_preguntas] = df4[list_preguntas].fillna('N/A')"
   ]
  },
  {
   "cell_type": "code",
   "execution_count": 28,
   "metadata": {},
   "outputs": [],
   "source": [
    "df4.to_excel('../Data/Safety_Clean.xlsx')"
   ]
  },
  {
   "cell_type": "code",
   "execution_count": 29,
   "metadata": {},
   "outputs": [
    {
     "data": {
      "text/plain": [
       "Index(['PAIS', 'EMPRESA', 'RAZON SOCIAL', 'CIF', 'CODIGO FLEX EMPRESA',\n",
       "       'CODIGO GPCN', 'PRIMER APELLIDO', 'SEGUNDO APELLIDO', 'NOMBRE',\n",
       "       'FECHA NACIMIENTO', 'Nº FLEX', 'CODIGO SF', 'MAIL TRABAJADOR',\n",
       "       'FECHA ANTIGUEDAD', 'NIF', 'SEXO', 'MODALIDAD DEL CONTRATO', 'NIVEL1',\n",
       "       'NIVEL2', 'NIVEL3', 'PC', 'OFICINA FISICA', 'CODIGO FLEX OFICINA',\n",
       "       'CATEGORIA / PUESTO', 'CONVENIO', 'NIVEL SALARIAL', 'FTE',\n",
       "       'GRUPO COSTE', 'MANAGER', 'Nº S.S.', 'GRUPO COTIZACION',\n",
       "       'CENTRO DE COTIZACION', 'RESPONSABLE PC',\n",
       "       'APROBADOR PORTAL DEL EMPLEADO', 'MAIL APROBADOR',\n",
       "       'SEGUNDO APROBADOR COMPRAS', 'MAIL SEGUNDO APROB. COMPRAS'],\n",
       "      dtype='object')"
      ]
     },
     "execution_count": 29,
     "metadata": {},
     "output_type": "execute_result"
    }
   ],
   "source": [
    "#Carga el excel en un Dataframe (datos de las SW)\n",
    "df_empleados= pd.read_excel('../Data/Resumen HC Diciembre 2020.xlsx',engine='openpyxl',sheet_name='Hoja19')\n",
    "df_empleados.columns"
   ]
  },
  {
   "cell_type": "code",
   "execution_count": 30,
   "metadata": {},
   "outputs": [],
   "source": [
    "df_empleados['SEGUNDO APELLIDO'] = df_empleados['SEGUNDO APELLIDO'].fillna('.')"
   ]
  },
  {
   "cell_type": "code",
   "execution_count": 31,
   "metadata": {},
   "outputs": [],
   "source": [
    "df_empleados['Nombre completo OBSERVADOR'] = df_empleados['NOMBRE'] + \" \" + df_empleados['PRIMER APELLIDO']+ \" \" +df_empleados['SEGUNDO APELLIDO']"
   ]
  },
  {
   "cell_type": "code",
   "execution_count": 41,
   "metadata": {},
   "outputs": [],
   "source": [
    "df_empleados['Nombre completo OBSERVADOR']=df_empleados['Nombre completo OBSERVADOR'].str.lower()\n"
   ]
  },
  {
   "cell_type": "code",
   "execution_count": 33,
   "metadata": {},
   "outputs": [],
   "source": [
    "df_empleados.to_excel('../Data/empleados_limpios.xlsx')"
   ]
  },
  {
   "cell_type": "code",
   "execution_count": 34,
   "metadata": {},
   "outputs": [],
   "source": [
    "#Combina los 2 archivos EXCEL por el Nombre del empleado\n",
    "SW=pd.merge(df_empleados, df4, on='Nombre completo OBSERVADOR', how='outer')"
   ]
  },
  {
   "cell_type": "code",
   "execution_count": 36,
   "metadata": {},
   "outputs": [],
   "source": [
    "SW['Nombre completo OBSERVADOR']=SW['Nombre completo OBSERVADOR'].str.upper()\n"
   ]
  },
  {
   "cell_type": "code",
   "execution_count": 37,
   "metadata": {},
   "outputs": [],
   "source": [
    "SW['ESTADO DEL EMPLEADO'] = (SW['PAIS'] == SW['PAIS'].isnull())"
   ]
  },
  {
   "cell_type": "code",
   "execution_count": 38,
   "metadata": {},
   "outputs": [],
   "source": [
    "SW['ESTADO DEL EMPLEADO'] =SW['ESTADO DEL EMPLEADO'].astype(object).replace({False: 'Avtivo', True: 'Baja'})"
   ]
  },
  {
   "cell_type": "code",
   "execution_count": 40,
   "metadata": {},
   "outputs": [],
   "source": [
    "SW.to_excel('../Data/SW.xlsx')"
   ]
  },
  {
   "cell_type": "code",
   "execution_count": null,
   "metadata": {},
   "outputs": [],
   "source": []
  },
  {
   "cell_type": "code",
   "execution_count": null,
   "metadata": {},
   "outputs": [],
   "source": []
  }
 ],
 "metadata": {
  "kernelspec": {
   "display_name": "Python 3",
   "language": "python",
   "name": "python3"
  },
  "language_info": {
   "codemirror_mode": {
    "name": "ipython",
    "version": 3
   },
   "file_extension": ".py",
   "mimetype": "text/x-python",
   "name": "python",
   "nbconvert_exporter": "python",
   "pygments_lexer": "ipython3",
   "version": "3.6.9"
  }
 },
 "nbformat": 4,
 "nbformat_minor": 4
}
