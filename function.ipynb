{
 "cells": [
  {
   "cell_type": "code",
   "execution_count": 2,
   "metadata": {},
   "outputs": [],
   "source": [
    "import pandas as pd"
   ]
  },
  {
   "cell_type": "code",
   "execution_count": 3,
   "metadata": {},
   "outputs": [],
   "source": [
    "#Carga el excel en un Dataframe\n",
    "df= pd.read_excel('../Data/BV Safety_All Safety Walks.xlsx',engine='openpyxl')\n"
   ]
  },
  {
   "cell_type": "code",
   "execution_count": 8,
   "metadata": {},
   "outputs": [],
   "source": [
    "def cleandata(df):\n",
    "    df1=df.drop([0,1,2,3])\n",
    "    new_header = df1.iloc[0] #grab the first row for the header\n",
    "    df2 = df1[1:] #take the data less the header row\n",
    "    df2.columns = new_header #set the header row as the df header\n",
    "    df3=df2.reset_index()\n",
    "    df4 = df3.rename(columns = {'Number':'Número',\n",
    "                            'Created Date':'Fecha de creación',\n",
    "                            'Name of the Observer':'Nombre del observador',\n",
    "                            'Name of the Observed Person(s)':'Nombre de la persona o personas observadas',\n",
    "                            'Operating Group':'Grupo Operativo',\n",
    "                            'Country':'País',\n",
    "                            'Entity':'Entidad',\n",
    "                            'Site':'Sitio',\n",
    "                            'BV Site Name':'Nombre del sitio de BV',\n",
    "                            'Client Name':'Nombre del cliente',\n",
    "                            'Site Address':'Dirección del sitio',\n",
    "                            '1. Mind On Task?': '1. ¿Mente en la tarea?', \n",
    "                            '2. Eyes on Task?': '2. ¿Ojos puestos en la tarea?',\n",
    "                            '3. Using equpment properly?': \"3. ¿Utiliza el equipo correctamente?\",\n",
    "                            '4. Performing task while not rushing?': \"4. ¿Realiza una tarea sin apresurarse?\",\n",
    "                            '5. Wearing prescribed PPE?': '5. ¿Lleva el PPE prescrito?',\n",
    "                            '6. Following Safe Working Procedures?':'6. ¿Sigue procedimientos de trabajo seguros?',\n",
    "                            '7. Authorization is obtained...':'7. Se obtiene la autorización ...',\n",
    "                            '8. Check surrounding work areas...':'8. Revise las áreas de trabajo circundantes ...',\n",
    "                            '9. Personnel acted safely for the task observed':'9. El personal actuó con seguridad para la tarea observada.',\n",
    "                            '10. Aware of the Emergency Evacuation...':'10. Consciente de la evacuación de emergencia ...',\n",
    "                            '11. The person is aware of the need to report near hit and unsafe situation.':'11. La persona es consciente de la necesidad de informar de una situación peligrosa y cercana al impacto.',\n",
    "                            '12. Personnel stops Working if the situation is unsafe.':'12. El personal deja de trabajar si la situación no es segura.',\n",
    "                            '13. Personnel is competent and trained...':'13. El personal es competente y está capacitado ...',\n",
    "                            '14. Adequate and worn correctly the applicable PPE':'14. Adecuado y usado correctamente el PPE aplicable',\n",
    "                            '15. Good conditions, well maintained and properly stored.':'15. Buen estado, bien mantenido y almacenado correctamente.',\n",
    "                            '16. Good housekeeping of the work area...':'16. Buen mantenimiento del área de trabajo ...',\n",
    "                            '17. Area Free of Slip Trip and Fall Hazards':'17. Área libre de peligros de tropiezos y caídas',\n",
    "                            '18. Walkways, aisles, emergency exits...':'18. Pasillos, pasillos, salidas de emergencia ...',\n",
    "                            '19. Spillage controlled':'19. Derrames controlados',\n",
    "                            '20. All containers in use and in the area are labelled.':'20. Todos los contenedores en uso y en el área están etiquetados.',\n",
    "                            '21. No Noise, Dust, Odor Issues':'21. Sin ruidos, polvo ni olores',\n",
    "                            '22. Hazardous substances are stored properly':'22. Las sustancias peligrosas se almacenan adecuadamente',\n",
    "                            '23. The work area is secured from hazards...':'23. El área de trabajo está protegida contra peligros ...',\n",
    "                            '24. Sufficient lighting and ventilation.':'24. Iluminación y ventilación suficientes.',\n",
    "                            '25. Use intrinsically safe equipment...':'25. Utilice equipo intrínsecamente seguro ...',\n",
    "                            '26. Machine guarding or Lock-Out-Tag-Out...':'26. Protección o bloqueo-etiquetado de la máquina ...',\n",
    "                            '27. Scaffold or ladder is safe for use.':'27. El andamio o la escalera son seguros para su uso.',\n",
    "                            'Did I use my Stop Work Authority?':'¿Usé mi autorización para detener el trabajo?',\n",
    "                            'Comments / Action Plan':'Comentarios / Plan de acción'},\n",
    "                            \n",
    "                                             inplace = False)\n",
    "    nombres=[]\n",
    "    for e in df4['Nombre del observador']:\n",
    "        word_list = e.split()\n",
    "        if word_list[-1].isupper()==True:\n",
    "            nombres.append(word_list)\n",
    "        if word_list[-1].isupper()==False:\n",
    "            word_list.remove(word_list[-1])\n",
    "            nombres.append(word_list)\n",
    "    def listToString(s):  \n",
    "    \n",
    "    # initialize an empty string \n",
    "        str1 = \" \" \n",
    "    \n",
    "    # return string   \n",
    "        return (str1.join(s))\n",
    "    nombres2=[]\n",
    "    for e in nombres:\n",
    "        nombres2.append(listToString(e))\n",
    "    df4['Nombre del observador']=nombres2\n",
    "    df4['Nombre del observador']= df4['Nombre del observador'].str.lower()\n",
    "\n",
    "    clean_country = df4[(df4['País'] != ' Spain ')& (df4['País'] != ' Portugal ')].index\n",
    "    # Delete these row indexes from dataFrame\n",
    "    df4.drop(clean_country , inplace=True)\n",
    "    clean_grupo = df4[(df4['Grupo Operativo'] != 'S&WE - SWE ')].index\n",
    "    # Delete these row indexes from dataFrame\n",
    "    df4.drop(clean_grupo, inplace=True)\n",
    "    return df4.to_excel('../Data/Safety_Clean2.xlsx')"
   ]
  },
  {
   "cell_type": "code",
   "execution_count": 9,
   "metadata": {},
   "outputs": [],
   "source": [
    "cleandata(df)"
   ]
  },
  {
   "cell_type": "code",
   "execution_count": null,
   "metadata": {},
   "outputs": [],
   "source": []
  }
 ],
 "metadata": {
  "kernelspec": {
   "display_name": "Python 3",
   "language": "python",
   "name": "python3"
  },
  "language_info": {
   "codemirror_mode": {
    "name": "ipython",
    "version": 3
   },
   "file_extension": ".py",
   "mimetype": "text/x-python",
   "name": "python",
   "nbconvert_exporter": "python",
   "pygments_lexer": "ipython3",
   "version": "3.6.9"
  }
 },
 "nbformat": 4,
 "nbformat_minor": 4
}
