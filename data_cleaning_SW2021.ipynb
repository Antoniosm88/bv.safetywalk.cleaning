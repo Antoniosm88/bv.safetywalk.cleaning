{
 "cells": [
  {
   "cell_type": "code",
   "execution_count": 1,
   "metadata": {},
   "outputs": [],
   "source": [
    "import pandas as pd\n",
    "import missingno"
   ]
  },
  {
   "cell_type": "code",
   "execution_count": 2,
   "metadata": {},
   "outputs": [
    {
     "data": {
      "text/plain": [
       "Index(['Application: BV Safety', 'Unnamed: 1', 'Unnamed: 2', 'Unnamed: 3',\n",
       "       'Unnamed: 4', 'Unnamed: 5', 'Unnamed: 6', 'Unnamed: 7', 'Unnamed: 8',\n",
       "       'Unnamed: 9', 'Unnamed: 10', 'Unnamed: 11', 'Unnamed: 12',\n",
       "       'Unnamed: 13', 'Unnamed: 14', 'Unnamed: 15', 'Unnamed: 16',\n",
       "       'Unnamed: 17', 'Unnamed: 18', 'Unnamed: 19', 'Unnamed: 20',\n",
       "       'Unnamed: 21', 'Unnamed: 22', 'Unnamed: 23', 'Unnamed: 24',\n",
       "       'Unnamed: 25', 'Unnamed: 26', 'Unnamed: 27', 'Unnamed: 28',\n",
       "       'Unnamed: 29', 'Unnamed: 30', 'Unnamed: 31', 'Unnamed: 32',\n",
       "       'Unnamed: 33', 'Unnamed: 34', 'Unnamed: 35', 'Unnamed: 36',\n",
       "       'Unnamed: 37', 'Unnamed: 38', 'Unnamed: 39'],\n",
       "      dtype='object')"
      ]
     },
     "execution_count": 2,
     "metadata": {},
     "output_type": "execute_result"
    }
   ],
   "source": [
    "#Carga el excel en un Dataframe (datos de las SW)\n",
    "df= pd.read_excel('../Data/BV Safety_All Safety Walks2021.xlsx',engine='openpyxl')\n",
    "df.columns"
   ]
  },
  {
   "cell_type": "code",
   "execution_count": 3,
   "metadata": {},
   "outputs": [],
   "source": [
    "df1=df.drop([0,1,2,3])"
   ]
  },
  {
   "cell_type": "code",
   "execution_count": 4,
   "metadata": {},
   "outputs": [],
   "source": [
    "new_header = df1.iloc[0] #grab the first row for the header\n",
    "df2 = df1[1:] #take the data less the header row\n",
    "df2.columns = new_header #set the header row as the df header"
   ]
  },
  {
   "cell_type": "code",
   "execution_count": 5,
   "metadata": {},
   "outputs": [],
   "source": [
    "df3=df2.reset_index()"
   ]
  },
  {
   "cell_type": "code",
   "execution_count": 6,
   "metadata": {},
   "outputs": [],
   "source": [
    "df4 = df3.rename(columns = {'Number':'Número',\n",
    "                            'Created Date':'Fecha de creación',\n",
    "                            'Name of the Observer':'Nombre del observador',\n",
    "                            'Name of the Observed Person(s)':'Nombre de la persona o personas observadas',\n",
    "                            'Operating Group':'Grupo Operativo',\n",
    "                            'Country':'País',\n",
    "                            'Entity':'Entidad',\n",
    "                            'Site':'Sitio',\n",
    "                            'BV Site Name':'Nombre del sitio de BV',\n",
    "                            'Client Name':'Nombre del cliente',\n",
    "                            'Site Address':'Dirección del sitio',\n",
    "                            '1. Mind On Task?': '1. ¿Mente en la tarea?', \n",
    "                            '2. Eyes on Task?': '2. ¿Ojos puestos en la tarea?',\n",
    "                            '3. Using equpment properly?': \"3. ¿Utiliza el equipo correctamente?\",\n",
    "                            '4. Performing task while not rushing?': \"4. ¿Realiza la tarea sin apresurarse?\",\n",
    "                            '5. Wearing prescribed PPE?': '5. ¿Usa el EPI definido?',\n",
    "                            '6. Following Safe Working Procedures?':'6. ¿Sigue procedimientos de trabajo seguros?',\n",
    "                            '7. Authorization is obtained...':'7. Se obtiene la autorización ...',\n",
    "                            '8. Check surrounding work areas...':'8. Verifica el entorno de trabajo, 2 min para mi seguridad',\n",
    "                            '9. Personnel acted safely for the task observed':'9. El personal actuó con seguridad para la tarea observada.',\n",
    "                            '10. Aware of the Emergency Evacuation...':'10.Conoce la Ruta de Evaluación de Emergencias y el Punto de Reunión',\n",
    "                            '11. The person is aware of the need to report near hit and unsafe situation.':'11. La persona es consciente de la necesidad de reportar Cuasi Accidentes y Condiciones Inseguras?.',\n",
    "                            '12. Personnel stops Working if the situation is unsafe.':'12. El personal deja de trabajar si la situación no es segura.',\n",
    "                            '13. Personnel is competent and trained...':'13. El personal esta capacitado y suficientemente formado para la Tarea.',\n",
    "                            '14. Adequate and worn correctly the applicable PPE':'14. Los EPIS definidos son adecuados y se usan correctamente.',\n",
    "                            '15. Good conditions, well maintained and properly stored.':'15. los EPIS estan en buen estado, bien mantenidos y se almacenan correctamente.',\n",
    "                            '16. Good housekeeping of the work area...':'16. Buena limpieza del área de trabajo',\n",
    "                            '17. Area Free of Slip Trip and Fall Hazards':'17. Área libre de riesgos de resbalones, tropiezos y caídas',\n",
    "                            '18. Walkways, aisles, emergency exits...':'18. Pasillos, salidas de emergencia y equipos de emergencia no estan obstruidos.',\n",
    "                            '19. Spillage controlled':'19. Derrames controlados',\n",
    "                            '20. All containers in use and in the area are labelled.':'20. Todos los contenedores en uso y en el área están etiquetados.',\n",
    "                            '21. No Noise, Dust, Odor Issues':'21. Sin ruidos, polvo ni olores',\n",
    "                            '22. Hazardous substances are stored properly':'22. Las sustancias peligrosas se almacenan adecuadamente',\n",
    "                            '23. The work area is secured from hazards...':'23. El área de trabajo está protegida contra riesgos',\n",
    "                            '24. Sufficient lighting and ventilation.':'24. Iluminación y ventilación suficientes.',\n",
    "                            '25. Use intrinsically safe equipment...':'25. Uso de equipos intrínsecamente seguro.',\n",
    "                            '26. Machine guarding or Lock-Out-Tag-Out...':'26. Protección de la maquina o señal de bloqueo-etiquetado disponible',\n",
    "                            '27. Scaffold or ladder is safe for use.':'27. El andamio o la escalera son seguros para su uso.',\n",
    "                            'Did I use my Stop Work Authority?':'¿Usé mi autorización para detener el trabajo?',\n",
    "                            'Comments / Action Plan':'Comentarios / Plan de acción'},\n",
    "                            \n",
    "                                             inplace = False)\n",
    "                                        \n",
    "                                        \n",
    "                                        \n",
    "                                        "
   ]
  },
  {
   "cell_type": "code",
   "execution_count": 7,
   "metadata": {},
   "outputs": [],
   "source": [
    "#missingno.heatmap(df4[list_preguntas], figsize=(30,15))"
   ]
  },
  {
   "cell_type": "code",
   "execution_count": 8,
   "metadata": {},
   "outputs": [],
   "source": [
    "nombres=[]\n",
    "for e in df4['Nombre del observador']:\n",
    "    word_list = e.split()\n",
    "    if word_list[-1].isupper()==True:\n",
    "        nombres.append(word_list)\n",
    "    if word_list[-1].isupper()==False:\n",
    "        word_list.remove(word_list[-1])\n",
    "        nombres.append(word_list)"
   ]
  },
  {
   "cell_type": "code",
   "execution_count": 9,
   "metadata": {},
   "outputs": [
    {
     "data": {
      "text/plain": [
       "1647"
      ]
     },
     "execution_count": 9,
     "metadata": {},
     "output_type": "execute_result"
    }
   ],
   "source": [
    "for e in nombres:\n",
    "    if len(e)==2:\n",
    "        e.extend([\".\"])\n",
    "len(nombres)"
   ]
  },
  {
   "cell_type": "code",
   "execution_count": 10,
   "metadata": {},
   "outputs": [],
   "source": [
    "def listToString(s):  \n",
    "    \n",
    "    # initialize an empty string \n",
    "    str1 = \" \" \n",
    "    \n",
    "    # return string   \n",
    "    return (str1.join(s))"
   ]
  },
  {
   "cell_type": "code",
   "execution_count": 11,
   "metadata": {},
   "outputs": [],
   "source": [
    "nombres2=[]\n",
    "for e in nombres:\n",
    "    nombres2.append(listToString(e))  "
   ]
  },
  {
   "cell_type": "code",
   "execution_count": 12,
   "metadata": {},
   "outputs": [
    {
     "data": {
      "text/plain": [
       "1647"
      ]
     },
     "execution_count": 12,
     "metadata": {},
     "output_type": "execute_result"
    }
   ],
   "source": [
    "len(nombres2)"
   ]
  },
  {
   "cell_type": "code",
   "execution_count": 13,
   "metadata": {},
   "outputs": [
    {
     "data": {
      "text/plain": [
       "1647"
      ]
     },
     "execution_count": 13,
     "metadata": {},
     "output_type": "execute_result"
    }
   ],
   "source": [
    "len(df4['Nombre del observador'])"
   ]
  },
  {
   "cell_type": "code",
   "execution_count": 14,
   "metadata": {},
   "outputs": [],
   "source": [
    "df4['Nombre del observador']=nombres2\n",
    "df4['Nombre del observador']= df4['Nombre del observador'].str.lower()\n"
   ]
  },
  {
   "cell_type": "code",
   "execution_count": 15,
   "metadata": {},
   "outputs": [
    {
     "data": {
      "text/plain": [
       "Index(['index', 'Número', 'Fecha de creación', 'Nombre del observador',\n",
       "       'Nombre de la persona o personas observadas', 'Grupo Operativo', 'País',\n",
       "       'Entidad', 'Sitio', 'Nombre del sitio de BV', 'Nombre del cliente',\n",
       "       'Dirección del sitio', '1. ¿Mente en la tarea?',\n",
       "       '2. ¿Ojos puestos en la tarea?', '3. ¿Utiliza el equipo correctamente?',\n",
       "       '4. ¿Realiza la tarea sin apresurarse?', '5. ¿Usa el EPI definido?',\n",
       "       '6. ¿Sigue procedimientos de trabajo seguros?',\n",
       "       '7. Se obtiene la autorización ...',\n",
       "       '8. Verifica el entorno de trabajo, 2 min para mi seguridad',\n",
       "       '9. El personal actuó con seguridad para la tarea observada.',\n",
       "       '10.Conoce la Ruta de Evaluación de Emergencias y el Punto de Reunión',\n",
       "       '11. La persona es consciente de la necesidad de reportar Cuasi Accidentes y Condiciones Inseguras?.',\n",
       "       '12. El personal deja de trabajar si la situación no es segura.',\n",
       "       '13. El personal esta capacitado y suficientemente formado para la Tarea.',\n",
       "       '14. Los EPIS definidos son adecuados y se usan correctamente.',\n",
       "       '15. los EPIS estan en buen estado, bien mantenidos y se almacenan correctamente.',\n",
       "       '16. Buena limpieza del área de trabajo',\n",
       "       '17. Área libre de riesgos de resbalones, tropiezos y caídas',\n",
       "       '18. Pasillos, salidas de emergencia y equipos de emergencia no estan obstruidos.',\n",
       "       '19. Derrames controlados',\n",
       "       '20. Todos los contenedores en uso y en el área están etiquetados.',\n",
       "       '21. Sin ruidos, polvo ni olores',\n",
       "       '22. Las sustancias peligrosas se almacenan adecuadamente',\n",
       "       '23. El área de trabajo está protegida contra riesgos',\n",
       "       '24. Iluminación y ventilación suficientes.',\n",
       "       '25. Uso de equipos intrínsecamente seguro.',\n",
       "       '26. Protección de la maquina o señal de bloqueo-etiquetado disponible',\n",
       "       '27. El andamio o la escalera son seguros para su uso.',\n",
       "       '¿Usé mi autorización para detener el trabajo?',\n",
       "       'Comentarios / Plan de acción'],\n",
       "      dtype='object', name=4)"
      ]
     },
     "execution_count": 15,
     "metadata": {},
     "output_type": "execute_result"
    }
   ],
   "source": [
    "df4.columns"
   ]
  },
  {
   "cell_type": "code",
   "execution_count": 16,
   "metadata": {},
   "outputs": [],
   "source": [
    "#METER LISTA"
   ]
  },
  {
   "cell_type": "code",
   "execution_count": 17,
   "metadata": {},
   "outputs": [],
   "source": [
    "for i in range(len(lista_sw)):\n",
    "    lista_sw[i] = lista_sw[i].lower()  "
   ]
  },
  {
   "cell_type": "code",
   "execution_count": 19,
   "metadata": {},
   "outputs": [],
   "source": [
    "df4=df4[df4['Nombre del observador'].isin(lista_sw)]"
   ]
  },
  {
   "cell_type": "code",
   "execution_count": 20,
   "metadata": {},
   "outputs": [],
   "source": [
    "df4.reset_index(drop=True, inplace=True)"
   ]
  },
  {
   "cell_type": "code",
   "execution_count": 21,
   "metadata": {},
   "outputs": [],
   "source": [
    "lista_pais=pd.unique(df4['País']).tolist()"
   ]
  },
  {
   "cell_type": "code",
   "execution_count": 22,
   "metadata": {},
   "outputs": [],
   "source": [
    "\n",
    "clean_country = df4[(df4['País'] != ' Spain ')& (df4['País'] != ' Portugal ')].index\n",
    "# Delete these row indexes from dataFrame\n",
    "df4.drop(clean_country , inplace=True)"
   ]
  },
  {
   "cell_type": "code",
   "execution_count": 23,
   "metadata": {},
   "outputs": [
    {
     "data": {
      "text/plain": [
       "['S&WE - SWE ']"
      ]
     },
     "execution_count": 23,
     "metadata": {},
     "output_type": "execute_result"
    }
   ],
   "source": [
    "lista_grupo=pd.unique(df4['Grupo Operativo']).tolist()\n",
    "lista_grupo"
   ]
  },
  {
   "cell_type": "code",
   "execution_count": 24,
   "metadata": {},
   "outputs": [],
   "source": [
    "# Filtro para S&WE - SWE\n",
    "#clean_grupo = df4[(df4['Grupo Operativo'] != 'S&WE - SWE ')].index\n",
    "#Delete these row indexes from dataFrame\n",
    "#df4.drop(clean_grupo, inplace=True)"
   ]
  },
  {
   "cell_type": "code",
   "execution_count": 25,
   "metadata": {},
   "outputs": [],
   "source": [
    "#fecha=[]\n",
    "#for e in df4['Fecha de creación']:\n",
    "    #date_list = e.split()\n",
    "    #date_list.remove(date_list[-1])\n",
    "    #fecha.append(date_list)"
   ]
  },
  {
   "cell_type": "code",
   "execution_count": 26,
   "metadata": {},
   "outputs": [],
   "source": [
    "#fecha2=[]\n",
    "#for e in fecha:\n",
    "    #fecha2.append(listToString(e))  "
   ]
  },
  {
   "cell_type": "code",
   "execution_count": 27,
   "metadata": {},
   "outputs": [],
   "source": [
    "#df4['Fecha de creación']=fecha2\n"
   ]
  },
  {
   "cell_type": "code",
   "execution_count": 28,
   "metadata": {},
   "outputs": [],
   "source": [
    "df4 = df4.rename(columns={'Nombre del observador':'Nombre completo OBSERVADOR'})\n"
   ]
  },
  {
   "cell_type": "code",
   "execution_count": 29,
   "metadata": {},
   "outputs": [],
   "source": [
    "for e in df4['Nombre completo OBSERVADOR']:\n",
    "    if len(e.split())==2:\n",
    "        e.split().extend([\".\"])\n",
    "        "
   ]
  },
  {
   "cell_type": "code",
   "execution_count": 30,
   "metadata": {},
   "outputs": [],
   "source": [
    "list_preguntas=['1. ¿Mente en la tarea?',\n",
    "       '2. ¿Ojos puestos en la tarea?', '3. ¿Utiliza el equipo correctamente?',\n",
    "       '4. ¿Realiza la tarea sin apresurarse?', '5. ¿Usa el EPI definido?',\n",
    "       '6. ¿Sigue procedimientos de trabajo seguros?',\n",
    "       '7. Se obtiene la autorización ...',\n",
    "       '8. Verifica el entorno de trabajo, 2 min para mi seguridad',\n",
    "       '9. El personal actuó con seguridad para la tarea observada.',\n",
    "       '10.Conoce la Ruta de Evaluación de Emergencias y el Punto de Reunión',\n",
    "       '11. La persona es consciente de la necesidad de reportar Cuasi Accidentes y Condiciones Inseguras?.',\n",
    "       '12. El personal deja de trabajar si la situación no es segura.',\n",
    "       '13. El personal esta capacitado y suficientemente formado para la Tarea.',\n",
    "       '14. Los EPIS definidos son adecuados y se usan correctamente.',\n",
    "       '15. los EPIS estan en buen estado, bien mantenidos y se almacenan correctamente.',\n",
    "       '16. Buena limpieza del área de trabajo',\n",
    "       '17. Área libre de riesgos de resbalones, tropiezos y caídas',\n",
    "       '18. Pasillos, salidas de emergencia y equipos de emergencia no estan obstruidos.',\n",
    "       '19. Derrames controlados',\n",
    "       '20. Todos los contenedores en uso y en el área están etiquetados.',\n",
    "       '21. Sin ruidos, polvo ni olores',\n",
    "       '22. Las sustancias peligrosas se almacenan adecuadamente',\n",
    "       '23. El área de trabajo está protegida contra riesgos',\n",
    "       '24. Iluminación y ventilación suficientes.',\n",
    "       '25. Uso de equipos intrínsecamente seguro.',\n",
    "       '26. Protección de la maquina o señal de bloqueo-etiquetado disponible',\n",
    "       '27. El andamio o la escalera son seguros para su uso.']"
   ]
  },
  {
   "cell_type": "code",
   "execution_count": 31,
   "metadata": {},
   "outputs": [],
   "source": [
    "df4[list_preguntas] = df4[list_preguntas].fillna('N/A')"
   ]
  },
  {
   "cell_type": "code",
   "execution_count": 32,
   "metadata": {},
   "outputs": [
    {
     "data": {
      "text/plain": [
       "Index(['PAIS', 'EMPRESA', 'RAZON SOCIAL', 'CIF', 'CODIGO FLEX EMPRESA',\n",
       "       'CODIGO GPCN', 'PRIMER APELLIDO', 'SEGUNDO APELLIDO', 'NOMBRE',\n",
       "       'FECHA NACIMIENTO', 'Nº FLEX', 'CODIGO SF', 'MAIL TRABAJADOR',\n",
       "       'FECHA ANTIGUEDAD', 'NIF', 'SEXO', 'MODALIDAD DEL CONTRATO', 'NIVEL1',\n",
       "       'NIVEL2', 'NIVEL3', 'PC', 'OFICINA FISICA', 'CODIGO FLEX OFICINA',\n",
       "       'CATEGORIA / PUESTO', 'CONVENIO', 'NIVEL SALARIAL', 'FTE',\n",
       "       'GRUPO COSTE', 'MANAGER', 'Nº S.S.', 'GRUPO COTIZACION',\n",
       "       'CENTRO DE COTIZACION', 'RESPONSABLE PC',\n",
       "       'APROBADOR PORTAL DEL EMPLEADO', 'MAIL APROBADOR',\n",
       "       'SEGUNDO APROBADOR COMPRAS', 'MAIL SEGUNDO APROV. COMPRAS',\n",
       "       'Unnamed: 37', 'Unnamed: 38', 'HC y FTE (sin contar ETT)',\n",
       "       'Unnamed: 40', 'Unnamed: 41', 'Unnamed: 42',\n",
       "       'FTE GRUPO DE COSTE (sin contar ETT)', 'Unnamed: 44', 'Unnamed: 45',\n",
       "       'Unnamed: 46', 'Unnamed: 47', 'Unnamed: 48', 'FTE MANAGERS',\n",
       "       'Unnamed: 50', 'Unnamed: 51', 'Unnamed: 52',\n",
       "       'INDEFINIDOS MENSUALES (sin contar ETT)', 'Unnamed: 54'],\n",
       "      dtype='object')"
      ]
     },
     "execution_count": 32,
     "metadata": {},
     "output_type": "execute_result"
    }
   ],
   "source": [
    "#Carga el excel en un Dataframe (datos de las SW)\n",
    "df_empleados= pd.read_excel('../Data/Resumen HC Enero 2021.xlsx',engine='openpyxl',sheet_name='HC ENERO')\n",
    "df_empleados.columns"
   ]
  },
  {
   "cell_type": "code",
   "execution_count": 33,
   "metadata": {},
   "outputs": [],
   "source": [
    "df_empleados['SEGUNDO APELLIDO'] = df_empleados['SEGUNDO APELLIDO'].fillna('.')"
   ]
  },
  {
   "cell_type": "code",
   "execution_count": 34,
   "metadata": {},
   "outputs": [],
   "source": [
    "clean_country_PORTUGAL = df_empleados[(df_empleados['PAIS'] != 'ESPAÑA')& (df_empleados['SEGUNDO APELLIDO'] != '.')]"
   ]
  },
  {
   "cell_type": "code",
   "execution_count": 35,
   "metadata": {},
   "outputs": [
    {
     "name": "stderr",
     "output_type": "stream",
     "text": [
      "/home/antonio/.local/lib/python3.6/site-packages/ipykernel_launcher.py:1: SettingWithCopyWarning: \n",
      "A value is trying to be set on a copy of a slice from a DataFrame.\n",
      "Try using .loc[row_indexer,col_indexer] = value instead\n",
      "\n",
      "See the caveats in the documentation: https://pandas.pydata.org/pandas-docs/stable/user_guide/indexing.html#returning-a-view-versus-a-copy\n",
      "  \"\"\"Entry point for launching an IPython kernel.\n"
     ]
    }
   ],
   "source": [
    "clean_country_PORTUGAL['PRIMER APELLIDO']=clean_country_PORTUGAL['SEGUNDO APELLIDO']"
   ]
  },
  {
   "cell_type": "code",
   "execution_count": 36,
   "metadata": {},
   "outputs": [
    {
     "name": "stderr",
     "output_type": "stream",
     "text": [
      "/home/antonio/.local/lib/python3.6/site-packages/ipykernel_launcher.py:1: SettingWithCopyWarning: \n",
      "A value is trying to be set on a copy of a slice from a DataFrame.\n",
      "Try using .loc[row_indexer,col_indexer] = value instead\n",
      "\n",
      "See the caveats in the documentation: https://pandas.pydata.org/pandas-docs/stable/user_guide/indexing.html#returning-a-view-versus-a-copy\n",
      "  \"\"\"Entry point for launching an IPython kernel.\n"
     ]
    }
   ],
   "source": [
    "clean_country_PORTUGAL['SEGUNDO APELLIDO']='.'"
   ]
  },
  {
   "cell_type": "code",
   "execution_count": 37,
   "metadata": {},
   "outputs": [],
   "source": [
    "df_empleados = pd.concat([df_empleados, clean_country_PORTUGAL],ignore_index=True)\n"
   ]
  },
  {
   "cell_type": "code",
   "execution_count": 38,
   "metadata": {},
   "outputs": [],
   "source": [
    "df_empleados['Nombre completo OBSERVADOR'] = df_empleados['NOMBRE'] + \" \" + df_empleados['PRIMER APELLIDO']+ \" \" +df_empleados['SEGUNDO APELLIDO']"
   ]
  },
  {
   "cell_type": "code",
   "execution_count": 39,
   "metadata": {},
   "outputs": [],
   "source": [
    "df_empleados['Nombre completo OBSERVADOR']=df_empleados['Nombre completo OBSERVADOR'].str.lower()\n"
   ]
  },
  {
   "cell_type": "code",
   "execution_count": 40,
   "metadata": {},
   "outputs": [],
   "source": [
    "df4=df4[df4['Nombre completo OBSERVADOR'].isin(lista_sw)]"
   ]
  },
  {
   "cell_type": "code",
   "execution_count": 41,
   "metadata": {},
   "outputs": [],
   "source": [
    "df_empleados.to_excel('../Data/empleados_limpios.xlsx')"
   ]
  },
  {
   "cell_type": "code",
   "execution_count": 42,
   "metadata": {},
   "outputs": [],
   "source": [
    "#Combina los 2 archivos EXCEL por el Nombre del empleado\n",
    "SW2021=pd.merge(df4, df_empleados, on='Nombre completo OBSERVADOR', how='outer')"
   ]
  },
  {
   "cell_type": "code",
   "execution_count": 107,
   "metadata": {},
   "outputs": [],
   "source": [
    "#SW2021.drop(['index'], axis=1)"
   ]
  },
  {
   "cell_type": "code",
   "execution_count": 44,
   "metadata": {},
   "outputs": [],
   "source": [
    "SW2021['Nombre completo OBSERVADOR']=SW2021['Nombre completo OBSERVADOR'].str.upper()\n"
   ]
  },
  {
   "cell_type": "code",
   "execution_count": 45,
   "metadata": {},
   "outputs": [
    {
     "data": {
      "text/plain": [
       "0       False\n",
       "1       False\n",
       "2       False\n",
       "3       False\n",
       "4       False\n",
       "        ...  \n",
       "2153    False\n",
       "2154    False\n",
       "2155    False\n",
       "2156    False\n",
       "2157    False\n",
       "Name: ESTADO DEL EMPLEADO, Length: 2158, dtype: bool"
      ]
     },
     "execution_count": 45,
     "metadata": {},
     "output_type": "execute_result"
    }
   ],
   "source": [
    "SW2021['ESTADO DEL EMPLEADO'] = SW2021['PAIS'].isnull()\n",
    "SW2021['ESTADO DEL EMPLEADO']"
   ]
  },
  {
   "cell_type": "code",
   "execution_count": 46,
   "metadata": {},
   "outputs": [],
   "source": [
    "SW2021['ESTADO DEL EMPLEADO'] =SW2021['ESTADO DEL EMPLEADO'].replace({True: 'Baja',False: 'Activo',})"
   ]
  },
  {
   "cell_type": "code",
   "execution_count": 47,
   "metadata": {},
   "outputs": [
    {
     "data": {
      "text/plain": [
       "array(['Activo'], dtype=object)"
      ]
     },
     "execution_count": 47,
     "metadata": {},
     "output_type": "execute_result"
    }
   ],
   "source": [
    "SW2021['ESTADO DEL EMPLEADO'].unique()"
   ]
  },
  {
   "cell_type": "code",
   "execution_count": 48,
   "metadata": {},
   "outputs": [
    {
     "data": {
      "text/plain": [
       "Index(['index', 'Número', 'Fecha de creación', 'Nombre completo OBSERVADOR',\n",
       "       'Nombre de la persona o personas observadas', 'Grupo Operativo', 'País',\n",
       "       'Entidad', 'Sitio', 'Nombre del sitio de BV', 'Nombre del cliente',\n",
       "       'Dirección del sitio', '1. ¿Mente en la tarea?',\n",
       "       '2. ¿Ojos puestos en la tarea?', '3. ¿Utiliza el equipo correctamente?',\n",
       "       '4. ¿Realiza la tarea sin apresurarse?', '5. ¿Usa el EPI definido?',\n",
       "       '6. ¿Sigue procedimientos de trabajo seguros?',\n",
       "       '7. Se obtiene la autorización ...',\n",
       "       '8. Verifica el entorno de trabajo, 2 min para mi seguridad',\n",
       "       '9. El personal actuó con seguridad para la tarea observada.',\n",
       "       '10.Conoce la Ruta de Evaluación de Emergencias y el Punto de Reunión',\n",
       "       '11. La persona es consciente de la necesidad de reportar Cuasi Accidentes y Condiciones Inseguras?.',\n",
       "       '12. El personal deja de trabajar si la situación no es segura.',\n",
       "       '13. El personal esta capacitado y suficientemente formado para la Tarea.',\n",
       "       '14. Los EPIS definidos son adecuados y se usan correctamente.',\n",
       "       '15. los EPIS estan en buen estado, bien mantenidos y se almacenan correctamente.',\n",
       "       '16. Buena limpieza del área de trabajo',\n",
       "       '17. Área libre de riesgos de resbalones, tropiezos y caídas',\n",
       "       '18. Pasillos, salidas de emergencia y equipos de emergencia no estan obstruidos.',\n",
       "       '19. Derrames controlados',\n",
       "       '20. Todos los contenedores en uso y en el área están etiquetados.',\n",
       "       '21. Sin ruidos, polvo ni olores',\n",
       "       '22. Las sustancias peligrosas se almacenan adecuadamente',\n",
       "       '23. El área de trabajo está protegida contra riesgos',\n",
       "       '24. Iluminación y ventilación suficientes.',\n",
       "       '25. Uso de equipos intrínsecamente seguro.',\n",
       "       '26. Protección de la maquina o señal de bloqueo-etiquetado disponible',\n",
       "       '27. El andamio o la escalera son seguros para su uso.',\n",
       "       '¿Usé mi autorización para detener el trabajo?',\n",
       "       'Comentarios / Plan de acción', 'PAIS', 'EMPRESA', 'RAZON SOCIAL',\n",
       "       'CIF', 'CODIGO FLEX EMPRESA', 'CODIGO GPCN', 'PRIMER APELLIDO',\n",
       "       'SEGUNDO APELLIDO', 'NOMBRE', 'FECHA NACIMIENTO', 'Nº FLEX',\n",
       "       'CODIGO SF', 'MAIL TRABAJADOR', 'FECHA ANTIGUEDAD', 'NIF', 'SEXO',\n",
       "       'MODALIDAD DEL CONTRATO', 'NIVEL1', 'NIVEL2', 'NIVEL3', 'PC',\n",
       "       'OFICINA FISICA', 'CODIGO FLEX OFICINA', 'CATEGORIA / PUESTO',\n",
       "       'CONVENIO', 'NIVEL SALARIAL', 'FTE', 'GRUPO COSTE', 'MANAGER',\n",
       "       'Nº S.S.', 'GRUPO COTIZACION', 'CENTRO DE COTIZACION', 'RESPONSABLE PC',\n",
       "       'APROBADOR PORTAL DEL EMPLEADO', 'MAIL APROBADOR',\n",
       "       'SEGUNDO APROBADOR COMPRAS', 'MAIL SEGUNDO APROV. COMPRAS',\n",
       "       'Unnamed: 37', 'Unnamed: 38', 'HC y FTE (sin contar ETT)',\n",
       "       'Unnamed: 40', 'Unnamed: 41', 'Unnamed: 42',\n",
       "       'FTE GRUPO DE COSTE (sin contar ETT)', 'Unnamed: 44', 'Unnamed: 45',\n",
       "       'Unnamed: 46', 'Unnamed: 47', 'Unnamed: 48', 'FTE MANAGERS',\n",
       "       'Unnamed: 50', 'Unnamed: 51', 'Unnamed: 52',\n",
       "       'INDEFINIDOS MENSUALES (sin contar ETT)', 'Unnamed: 54',\n",
       "       'ESTADO DEL EMPLEADO'],\n",
       "      dtype='object')"
      ]
     },
     "execution_count": 48,
     "metadata": {},
     "output_type": "execute_result"
    }
   ],
   "source": [
    "SW2021.columns"
   ]
  },
  {
   "cell_type": "code",
   "execution_count": 49,
   "metadata": {},
   "outputs": [],
   "source": [
    "#SW2021['Fecha de creación'] = SW2021['Fecha de creación'].fillna('No realizada')"
   ]
  },
  {
   "cell_type": "code",
   "execution_count": 50,
   "metadata": {},
   "outputs": [
    {
     "data": {
      "text/plain": [
       "dtype('O')"
      ]
     },
     "execution_count": 50,
     "metadata": {},
     "output_type": "execute_result"
    }
   ],
   "source": [
    "SW2021['Fecha de creación'].dtypes"
   ]
  },
  {
   "cell_type": "code",
   "execution_count": 51,
   "metadata": {},
   "outputs": [
    {
     "data": {
      "text/plain": [
       "array(['ene', nan], dtype=object)"
      ]
     },
     "execution_count": 51,
     "metadata": {},
     "output_type": "execute_result"
    }
   ],
   "source": [
    "SW2021['Mes']=SW2021['Fecha de creación'].str.extract(r'([a-z]+)')\n",
    "SW2021['Mes'].unique()\n"
   ]
  },
  {
   "cell_type": "code",
   "execution_count": 52,
   "metadata": {},
   "outputs": [
    {
     "data": {
      "text/plain": [
       "Index(['index', 'Número', 'Fecha de creación', 'Nombre completo OBSERVADOR',\n",
       "       'Nombre de la persona o personas observadas', 'Grupo Operativo', 'País',\n",
       "       'Entidad', 'Sitio', 'Nombre del sitio de BV', 'Nombre del cliente',\n",
       "       'Dirección del sitio', '1. ¿Mente en la tarea?',\n",
       "       '2. ¿Ojos puestos en la tarea?', '3. ¿Utiliza el equipo correctamente?',\n",
       "       '4. ¿Realiza la tarea sin apresurarse?', '5. ¿Usa el EPI definido?',\n",
       "       '6. ¿Sigue procedimientos de trabajo seguros?',\n",
       "       '7. Se obtiene la autorización ...',\n",
       "       '8. Verifica el entorno de trabajo, 2 min para mi seguridad',\n",
       "       '9. El personal actuó con seguridad para la tarea observada.',\n",
       "       '10.Conoce la Ruta de Evaluación de Emergencias y el Punto de Reunión',\n",
       "       '11. La persona es consciente de la necesidad de reportar Cuasi Accidentes y Condiciones Inseguras?.',\n",
       "       '12. El personal deja de trabajar si la situación no es segura.',\n",
       "       '13. El personal esta capacitado y suficientemente formado para la Tarea.',\n",
       "       '14. Los EPIS definidos son adecuados y se usan correctamente.',\n",
       "       '15. los EPIS estan en buen estado, bien mantenidos y se almacenan correctamente.',\n",
       "       '16. Buena limpieza del área de trabajo',\n",
       "       '17. Área libre de riesgos de resbalones, tropiezos y caídas',\n",
       "       '18. Pasillos, salidas de emergencia y equipos de emergencia no estan obstruidos.',\n",
       "       '19. Derrames controlados',\n",
       "       '20. Todos los contenedores en uso y en el área están etiquetados.',\n",
       "       '21. Sin ruidos, polvo ni olores',\n",
       "       '22. Las sustancias peligrosas se almacenan adecuadamente',\n",
       "       '23. El área de trabajo está protegida contra riesgos',\n",
       "       '24. Iluminación y ventilación suficientes.',\n",
       "       '25. Uso de equipos intrínsecamente seguro.',\n",
       "       '26. Protección de la maquina o señal de bloqueo-etiquetado disponible',\n",
       "       '27. El andamio o la escalera son seguros para su uso.',\n",
       "       '¿Usé mi autorización para detener el trabajo?',\n",
       "       'Comentarios / Plan de acción', 'PAIS', 'EMPRESA', 'RAZON SOCIAL',\n",
       "       'CIF', 'CODIGO FLEX EMPRESA', 'CODIGO GPCN', 'PRIMER APELLIDO',\n",
       "       'SEGUNDO APELLIDO', 'NOMBRE', 'FECHA NACIMIENTO', 'Nº FLEX',\n",
       "       'CODIGO SF', 'MAIL TRABAJADOR', 'FECHA ANTIGUEDAD', 'NIF', 'SEXO',\n",
       "       'MODALIDAD DEL CONTRATO', 'NIVEL1', 'NIVEL2', 'NIVEL3', 'PC',\n",
       "       'OFICINA FISICA', 'CODIGO FLEX OFICINA', 'CATEGORIA / PUESTO',\n",
       "       'CONVENIO', 'NIVEL SALARIAL', 'FTE', 'GRUPO COSTE', 'MANAGER',\n",
       "       'Nº S.S.', 'GRUPO COTIZACION', 'CENTRO DE COTIZACION', 'RESPONSABLE PC',\n",
       "       'APROBADOR PORTAL DEL EMPLEADO', 'MAIL APROBADOR',\n",
       "       'SEGUNDO APROBADOR COMPRAS', 'MAIL SEGUNDO APROV. COMPRAS',\n",
       "       'Unnamed: 37', 'Unnamed: 38', 'HC y FTE (sin contar ETT)',\n",
       "       'Unnamed: 40', 'Unnamed: 41', 'Unnamed: 42',\n",
       "       'FTE GRUPO DE COSTE (sin contar ETT)', 'Unnamed: 44', 'Unnamed: 45',\n",
       "       'Unnamed: 46', 'Unnamed: 47', 'Unnamed: 48', 'FTE MANAGERS',\n",
       "       'Unnamed: 50', 'Unnamed: 51', 'Unnamed: 52',\n",
       "       'INDEFINIDOS MENSUALES (sin contar ETT)', 'Unnamed: 54',\n",
       "       'ESTADO DEL EMPLEADO', 'Mes'],\n",
       "      dtype='object')"
      ]
     },
     "execution_count": 52,
     "metadata": {},
     "output_type": "execute_result"
    }
   ],
   "source": [
    "SW2021.columns"
   ]
  },
  {
   "cell_type": "code",
   "execution_count": 53,
   "metadata": {},
   "outputs": [
    {
     "data": {
      "text/plain": [
       "array(['COORDINADOR 1', 'TECNICO PRL 2', 'COORDINADOR 2',\n",
       "       'GESTOR DE PROYECTOS 1', 'SCHEDULER 1', 'COMERCIAL BD3',\n",
       "       'AUDITOR 2', 'SCHEDULER 2', 'COMERCIAL BD2', 'INSPECTOR NAVAL 2',\n",
       "       'TECNICO DE CERTIFICACION 0', 'TECNICO SCS 1', 'INSPECTOR NAVAL 3',\n",
       "       'INSPECTOR/TECNICO AGRO 1', 'ADMINISTRATIVO 1',\n",
       "       'INSPECTOR NAVAL 0', 'ADMINISTRATIVO 2', 'INSPECTOR NAVAL 1',\n",
       "       'AUDITOR 1', 'MANAGER', 'PC MANAGER', 'ASISTENTE COMERCIAL 1',\n",
       "       'INSPECTOR ITD 2', 'DEPARTMENT ASSISTANT 1', 'TECNICO SCS 2',\n",
       "       'PRODUCT', 'INSPECTOR CDG 1', 'ADMINISTRATIVO 0', 'SCHEDULER 0',\n",
       "       'ASISTENTE COMERCIAL 0', 'COMERCIAL BD1',\n",
       "       'INSPECTOR INSTALACIONES 1', 'FORMADOR 1', 'DEP. ASSISTANT 2',\n",
       "       'TECNICO DAF 2', 'INSPECTOR/TECNICO AGRO 2',\n",
       "       'INSPECTOR INSTALACIONES 0', 'GESTOR DE PROYECTOS 2',\n",
       "       'AUX. TECNICO', 'COMERCIAL 2', 'INSPECTOR 1',\n",
       "       'AUXILIAR ADMINISTRATIVO', 'TECNICO PRL 1', 'INSPECTOR 2',\n",
       "       'INSPECTOR 3', 'COORD. SEG & SALUD', 'TECNICO 2',\n",
       "       'ASISTENTE COMERCIAL 2', 'INSPECTOR JUNIOR', 'INSPECTOR SENIOR',\n",
       "       'INSPECTOR 4', 'OPERADOR', 'ANALISTA RESPONSABLE LABORATORIO',\n",
       "       'ANALISTA DE LABORATORIO', 'COMERCIAL 3', 'COORDINADOR DE CALIDAD',\n",
       "       'GERENTE DE OPERACIONES', 'ANALISTA DE OPERACIONES', 'INSPECTOR',\n",
       "       'DELEGADO', 'COMERCIAL 1', 'JEFE DE LABORATORIO',\n",
       "       'ANALISTA DE FACTURACION', 'JEFE DE OPERACIONES', 'TECNICO 1',\n",
       "       'ADMINISTRATIVO', 'FORMADOR 2', 'FORMADOR 3', 'ANALISTA DE HSSE',\n",
       "       'TECNICO DESARROLLADOR 2', 'COORDINADOR DE COMPRAS_x000D_\\n',\n",
       "       'TELEFONISTA - RECEPCIONISTA', 'DIRECTOR DE AGRI', 'MENSAJERO',\n",
       "       'JEFE DE LABORATORIO P', 'MEDICO', 'TECNICO DESARROLLADOR 1',\n",
       "       'GERENTE PROYECTOS AGRI', 'DIRECTOR DE M+M', 'DUE',\n",
       "       'INSPECTOR/OPERADOR', 'INSPECTOR ITD 1',\n",
       "       'DIRECTOR TECNICO LABORATORIO', 'GERENTE PROCESOS',\n",
       "       'ANALISTA DE RH', 'COORDINADOR DE FACTURACION',\n",
       "       'TECNICO DESARROLLADOR 3', 'JEFE DE LABORATORIO M',\n",
       "       'ANALISTA DE COMPRAS', 'AUDITOR - INSPECTOR', 'RESP. PROYECTO',\n",
       "       'RESPONSABLE ESPAÑA NORTE', 'OFICIAL DE 2ª ADMON',\n",
       "       'ANALISTA DE 1ª LAB', 'ANALISTA DE 2ª LAB',\n",
       "       'JEFE/A DE LABORATORIO', 'AUXILIAR LAB', 'INGENIEROS, ARQ .Y LCDO',\n",
       "       'TECNICO ORGANIZACION 1ª', 'AUXILIAR ORGANIZACION',\n",
       "       'TECNICO ORGANZIACION 2ª', 'AUXILAR ADMON',\n",
       "       'PEON ORDIN. Y ESPECIAL', 'Administrativo', 'Tecnicos de Soporte',\n",
       "       'Coordinador', 'Manager', 'Ordenanza/Recepcionista', 'Presidente',\n",
       "       'Técnico Suporte 2', 'Administrativo 1', 'Técnico Suporte 1',\n",
       "       'Inspector Naval 3', 'Inspector IND 2', 'Inspector Instalações 1',\n",
       "       'Técnico IND 3', 'Técnico IND 2', 'Inspector CTC 1',\n",
       "       'Coordenador Actividade 1', 'Técnico Suporte 3',\n",
       "       'Inspector Instalações 2', 'Coordenador Actividade 3',\n",
       "       'Coordenador Actividade 2', 'Técnico IND 1', 'Administrativo 2',\n",
       "       'Inspector IND 1', 'Inspector CTC 2', 'Técnico Marketing 2',\n",
       "       'Técnico Formação 1', 'BD 2', 'Inspector Naval 1', 'Técnico CER 1',\n",
       "       'Auditor 1', 'Estagiário', 'Inspector IND 3', 'Técnico CTC 2',\n",
       "       'Inspector Naval 2', 'BD 3', 'Técnico CTC 1', 'BD 1',\n",
       "       'Assistente Comercial 1', 'Auditor 2', 'Auditor 3',\n",
       "       'Inspector CDG/ ITD/CPD 2', 'Analista Tecnico Lab MM', 'Inspector',\n",
       "       'Analista Tecnico Lab OP', 'Diretor M&M', 'Coordenador Sines',\n",
       "       'QHSE', 'Coordenador Lisboa', 'Coordenador Setubal',\n",
       "       'Director Operações'], dtype=object)"
      ]
     },
     "execution_count": 53,
     "metadata": {},
     "output_type": "execute_result"
    }
   ],
   "source": [
    "SW2021['CATEGORIA / PUESTO'].unique()"
   ]
  },
  {
   "cell_type": "code",
   "execution_count": 54,
   "metadata": {},
   "outputs": [],
   "source": [
    "coordinador=['COORDINADOR 2','COORDINADOR DE CALIDAD', 'COORDINADOR DE FACTURACION','COORDINADOR 1','COORD. SEG & SALUD','COORDINADOR DE COMPRAS_x000D_\\n',\n",
    "           'Coordenador Actividade 3','Coordenador Actividade 2','Coordenador Actividade 1','Coordenador Sines','Coordenador Lisboa','Coordenador Setubal']\n",
    "manager=['MANAGER','PC MANAGER']"
   ]
  },
  {
   "cell_type": "code",
   "execution_count": 55,
   "metadata": {},
   "outputs": [],
   "source": [
    "columna_categoria=[]\n",
    "for e in SW2021['CATEGORIA / PUESTO']:\n",
    "    if e in coordinador:\n",
    "        columna_categoria.append(\"COORDINADOR\")\n",
    "    elif e in manager:\n",
    "        columna_categoria.append(\"MANAGER\")\n",
    "    elif e not in manager or coordinador:\n",
    "        columna_categoria.append(\"Otra categoría\")\n",
    "          \n",
    "   "
   ]
  },
  {
   "cell_type": "code",
   "execution_count": 56,
   "metadata": {},
   "outputs": [],
   "source": [
    "SW2021['MANAGER/COORDINADOR']=columna_categoria"
   ]
  },
  {
   "cell_type": "code",
   "execution_count": 57,
   "metadata": {},
   "outputs": [
    {
     "data": {
      "text/plain": [
       "array(['COORDINADOR', 'Otra categoría', 'MANAGER'], dtype=object)"
      ]
     },
     "execution_count": 57,
     "metadata": {},
     "output_type": "execute_result"
    }
   ],
   "source": [
    "SW2021['MANAGER/COORDINADOR'].unique()"
   ]
  },
  {
   "cell_type": "code",
   "execution_count": 58,
   "metadata": {},
   "outputs": [
    {
     "data": {
      "text/plain": [
       "array(['HSE Endesa', 'IND', 'ISV', 'ENV', 'HSE', 'CER', 'IAA', 'GTS',\n",
       "       'NS', 'NC', 'ISO 17021/65', 'BVN', 'SALES&MARKETING', 'VOC',\n",
       "       'VOC MARRUECOS', 'C&O', 'TRAINING', 'OFFICE', 'ICA', 'SALES',\n",
       "       'STF', 'ISO17020', 'ISO17025', 'CTC', 'TQR', 'METAL & MINERAL',\n",
       "       'OIL & PETROL', 'CREDIT COLLECTION', 'AGRICOLA', 'HUMAN RESOURCES',\n",
       "       'VDT', 'INFORMATION TECHNOLOGY', 'INFORMATION SYSTEM', 'FINANCE',\n",
       "       'MANAGEMENT', 'LEGAL', 'PURCHASING & G.S.', 'GIS'], dtype=object)"
      ]
     },
     "execution_count": 58,
     "metadata": {},
     "output_type": "execute_result"
    }
   ],
   "source": [
    "\n",
    "SW2021['NIVEL3'].unique()"
   ]
  },
  {
   "cell_type": "code",
   "execution_count": 59,
   "metadata": {},
   "outputs": [],
   "source": [
    "\n",
    "operacional=['CER', 'SALES&MARKETING', 'GTS', 'NS', 'BVN',\n",
    "       'IoperacionalSO 17021/65', 'NC', 'VOC', 'HSE', 'IAA', 'C&O', 'TRAINING',\n",
    "       'IND', 'VOC MARRUECOS', 'ICA', 'STF', 'OIL & PETROL', 'ISV',\n",
    "       'METAL & MINERAL', 'AGRICOLA', 'CTC', 'ISO17020', 'ENV', 'TQR', 'HSI', 'ISO17025', \n",
    "          'HSI Endesa','VDT' ]\n",
    "\n",
    "\n",
    "sales=['SALES','SALES&MARKETING']\n",
    "\n",
    "soporte=['INFORMATION TECHNOLOGY','FINANCE','MANAGEMENT','HUMAN RESOURCES','OFFICE','LEGAL' 'INFORMATION SYSTEM','PURCHASING & G.S.',\n",
    "         'CREDIT COLLECTION','GIS']\n",
    "\n",
    "\n",
    "   \n",
    "    \n",
    "        "
   ]
  },
  {
   "cell_type": "code",
   "execution_count": 60,
   "metadata": {},
   "outputs": [
    {
     "name": "stdout",
     "output_type": "stream",
     "text": [
      "28\n",
      "2\n",
      "9\n"
     ]
    }
   ],
   "source": [
    "print(len(operacional))\n",
    "print(len(sales))\n",
    "print(len(soporte))"
   ]
  },
  {
   "cell_type": "code",
   "execution_count": 61,
   "metadata": {},
   "outputs": [],
   "source": [
    "columna_familia=[]\n",
    "for e in SW2021['NIVEL3']:\n",
    "    if e in operacional:\n",
    "        columna_familia.append(\"OPERACIONAL\")\n",
    "    elif e in sales:\n",
    "        columna_familia.append(\"SALES\")\n",
    "    elif e in soporte:\n",
    "        columna_familia.append(\"SOPORTE\")\n",
    "    elif e not in operacional or sales or soporte:\n",
    "        columna_familia.append(\"NIVEL 3 No definido\")"
   ]
  },
  {
   "cell_type": "code",
   "execution_count": 62,
   "metadata": {},
   "outputs": [],
   "source": [
    "SW2021['FAMILIA']=columna_familia"
   ]
  },
  {
   "cell_type": "code",
   "execution_count": 63,
   "metadata": {},
   "outputs": [
    {
     "data": {
      "text/plain": [
       "array(['NIVEL 3 No definido', 'OPERACIONAL', 'SOPORTE', 'SALES'],\n",
       "      dtype=object)"
      ]
     },
     "execution_count": 63,
     "metadata": {},
     "output_type": "execute_result"
    }
   ],
   "source": [
    "SW2021['FAMILIA'].unique()"
   ]
  },
  {
   "cell_type": "code",
   "execution_count": 64,
   "metadata": {},
   "outputs": [],
   "source": [
    "SW_MES=SW2021[['Nombre completo OBSERVADOR','ESTADO DEL EMPLEADO','MANAGER/COORDINADOR', 'FAMILIA','PAIS', 'EMPRESA', 'RAZON SOCIAL', 'CIF', 'CODIGO FLEX EMPRESA',\n",
    "       'CODIGO GPCN', 'PRIMER APELLIDO', 'SEGUNDO APELLIDO', 'NOMBRE',\n",
    "       'FECHA NACIMIENTO', 'Nº FLEX', 'CODIGO SF', 'MAIL TRABAJADOR',\n",
    "       'FECHA ANTIGUEDAD', 'NIF', 'SEXO', 'MODALIDAD DEL CONTRATO', 'NIVEL1',\n",
    "       'NIVEL2', 'NIVEL3', 'PC', 'OFICINA FISICA', 'CODIGO FLEX OFICINA',\n",
    "       'CATEGORIA / PUESTO', 'CONVENIO', 'NIVEL SALARIAL', 'FTE',\n",
    "       'GRUPO COSTE', 'MANAGER', 'Nº S.S.', 'GRUPO COTIZACION',\n",
    "       'CENTRO DE COTIZACION', 'RESPONSABLE PC',\n",
    "       'APROBADOR PORTAL DEL EMPLEADO', 'MAIL APROBADOR',\n",
    "       'SEGUNDO APROBADOR COMPRAS',\n",
    "       'Nombre completo OBSERVADOR', 'index', 'Número', 'Fecha de creación','Mes', 'Nombre de la persona o personas observadas', 'Grupo Operativo', 'País',\n",
    "       'Entidad', 'Sitio', 'Nombre del sitio de BV', 'Nombre del cliente',\n",
    "       'Dirección del sitio']]"
   ]
  },
  {
   "cell_type": "code",
   "execution_count": 65,
   "metadata": {},
   "outputs": [],
   "source": [
    "SW_MES=SW_MES.assign(eneP='',Acum_Ene='',febP='',Acum_Feb='',marP='',Acum_Mar='',abrP='',Acum_Abr='',mayP='',Acum_May='',\n",
    "       junP='',Acum_Jun='',julP='',Acum_Jul='',agoP='',Acum_Ago='',sepP='',Acum_Sep='',octP='',Acum_Oct='',\n",
    "        novP='',Acum_Nov='',dicP='',Acum_Dic='')"
   ]
  },
  {
   "cell_type": "code",
   "execution_count": 66,
   "metadata": {},
   "outputs": [
    {
     "data": {
      "text/plain": [
       "Index(['Nombre completo OBSERVADOR', 'ESTADO DEL EMPLEADO',\n",
       "       'MANAGER/COORDINADOR', 'FAMILIA', 'PAIS', 'EMPRESA', 'RAZON SOCIAL',\n",
       "       'CIF', 'CODIGO FLEX EMPRESA', 'CODIGO GPCN', 'PRIMER APELLIDO',\n",
       "       'SEGUNDO APELLIDO', 'NOMBRE', 'FECHA NACIMIENTO', 'Nº FLEX',\n",
       "       'CODIGO SF', 'MAIL TRABAJADOR', 'FECHA ANTIGUEDAD', 'NIF', 'SEXO',\n",
       "       'MODALIDAD DEL CONTRATO', 'NIVEL1', 'NIVEL2', 'NIVEL3', 'PC',\n",
       "       'OFICINA FISICA', 'CODIGO FLEX OFICINA', 'CATEGORIA / PUESTO',\n",
       "       'CONVENIO', 'NIVEL SALARIAL', 'FTE', 'GRUPO COSTE', 'MANAGER',\n",
       "       'Nº S.S.', 'GRUPO COTIZACION', 'CENTRO DE COTIZACION', 'RESPONSABLE PC',\n",
       "       'APROBADOR PORTAL DEL EMPLEADO', 'MAIL APROBADOR',\n",
       "       'SEGUNDO APROBADOR COMPRAS', 'Nombre completo OBSERVADOR', 'index',\n",
       "       'Número', 'Fecha de creación', 'Mes',\n",
       "       'Nombre de la persona o personas observadas', 'Grupo Operativo', 'País',\n",
       "       'Entidad', 'Sitio', 'Nombre del sitio de BV', 'Nombre del cliente',\n",
       "       'Dirección del sitio', 'eneP', 'Acum_Ene', 'febP', 'Acum_Feb', 'marP',\n",
       "       'Acum_Mar', 'abrP', 'Acum_Abr', 'mayP', 'Acum_May', 'junP', 'Acum_Jun',\n",
       "       'julP', 'Acum_Jul', 'agoP', 'Acum_Ago', 'sepP', 'Acum_Sep', 'octP',\n",
       "       'Acum_Oct', 'novP', 'Acum_Nov', 'dicP', 'Acum_Dic'],\n",
       "      dtype='object')"
      ]
     },
     "execution_count": 66,
     "metadata": {},
     "output_type": "execute_result"
    }
   ],
   "source": [
    "SW_MES.columns"
   ]
  },
  {
   "cell_type": "code",
   "execution_count": 67,
   "metadata": {},
   "outputs": [
    {
     "data": {
      "text/plain": [
       "2158"
      ]
     },
     "execution_count": 67,
     "metadata": {},
     "output_type": "execute_result"
    }
   ],
   "source": [
    "len(SW_MES['Nombre completo OBSERVADOR'])"
   ]
  },
  {
   "cell_type": "code",
   "execution_count": 68,
   "metadata": {},
   "outputs": [],
   "source": [
    "meses=['ene','feb','mar','abr','may','jun','jul','ago','sep','oct','nov','dic']"
   ]
  },
  {
   "cell_type": "code",
   "execution_count": 69,
   "metadata": {},
   "outputs": [],
   "source": [
    "lista_SW_MES=list(SW_MES['FAMILIA'])"
   ]
  },
  {
   "cell_type": "code",
   "execution_count": 70,
   "metadata": {},
   "outputs": [
    {
     "name": "stdout",
     "output_type": "stream",
     "text": [
      "2158\n"
     ]
    }
   ],
   "source": [
    "\n",
    "objetivo_operacional=[]\n",
    "\n",
    "for e in lista_SW_MES:\n",
    "    if e == 'OPERACIONAL':\n",
    "        objetivo_operacional.append(1)\n",
    "    else:\n",
    "        objetivo_operacional.append(0)\n",
    "print(len(objetivo_operacional))"
   ]
  },
  {
   "cell_type": "code",
   "execution_count": 71,
   "metadata": {},
   "outputs": [
    {
     "data": {
      "text/plain": [
       "2158"
      ]
     },
     "execution_count": 71,
     "metadata": {},
     "output_type": "execute_result"
    }
   ],
   "source": [
    "objetivo_soporte_sales=[]\n",
    "\n",
    "for e in lista_SW_MES:\n",
    "    if e == 'SOPORTE' or 'SALES':\n",
    "        \n",
    "        objetivo_soporte_sales.append(1)\n",
    "    else:\n",
    "        objetivo_soporte_sales.append(0)\n",
    "len(objetivo_soporte_sales)"
   ]
  },
  {
   "cell_type": "code",
   "execution_count": 72,
   "metadata": {},
   "outputs": [
    {
     "data": {
      "text/plain": [
       "array(['NIVEL 3 No definido', 'OPERACIONAL', 'SOPORTE', 'SALES'],\n",
       "      dtype=object)"
      ]
     },
     "execution_count": 72,
     "metadata": {},
     "output_type": "execute_result"
    }
   ],
   "source": [
    "SW_MES['FAMILIA'].unique()"
   ]
  },
  {
   "cell_type": "code",
   "execution_count": 73,
   "metadata": {},
   "outputs": [],
   "source": [
    "objetivos_Operacionales=[ 'eneP', 'febP', 'marP',\n",
    "        'abrP',  'mayP',  'junP','julP',  'agoP', 'sepP', 'octP', 'novP', 'dicP']"
   ]
  },
  {
   "cell_type": "code",
   "execution_count": 74,
   "metadata": {},
   "outputs": [],
   "source": [
    "for e in objetivos_Operacionales:\n",
    "    SW_MES[e]=objetivo_operacional"
   ]
  },
  {
   "cell_type": "code",
   "execution_count": 75,
   "metadata": {},
   "outputs": [],
   "source": [
    "objetivos_sales_soporte=[ 'marP', 'junP','sepP', 'dicP']"
   ]
  },
  {
   "cell_type": "code",
   "execution_count": 76,
   "metadata": {},
   "outputs": [],
   "source": [
    "for e in objetivos_sales_soporte:\n",
    "    SW_MES[e]=objetivo_soporte_sales"
   ]
  },
  {
   "cell_type": "code",
   "execution_count": 77,
   "metadata": {},
   "outputs": [
    {
     "data": {
      "text/html": [
       "<div>\n",
       "<style scoped>\n",
       "    .dataframe tbody tr th:only-of-type {\n",
       "        vertical-align: middle;\n",
       "    }\n",
       "\n",
       "    .dataframe tbody tr th {\n",
       "        vertical-align: top;\n",
       "    }\n",
       "\n",
       "    .dataframe thead th {\n",
       "        text-align: right;\n",
       "    }\n",
       "</style>\n",
       "<table border=\"1\" class=\"dataframe\">\n",
       "  <thead>\n",
       "    <tr style=\"text-align: right;\">\n",
       "      <th></th>\n",
       "      <th>FAMILIA</th>\n",
       "      <th>eneP</th>\n",
       "      <th>febP</th>\n",
       "      <th>marP</th>\n",
       "      <th>abrP</th>\n",
       "      <th>mayP</th>\n",
       "      <th>junP</th>\n",
       "      <th>julP</th>\n",
       "      <th>agoP</th>\n",
       "      <th>sepP</th>\n",
       "      <th>octP</th>\n",
       "      <th>novP</th>\n",
       "      <th>dicP</th>\n",
       "    </tr>\n",
       "  </thead>\n",
       "  <tbody>\n",
       "    <tr>\n",
       "      <th>0</th>\n",
       "      <td>NIVEL 3 No definido</td>\n",
       "      <td>0</td>\n",
       "      <td>0</td>\n",
       "      <td>1</td>\n",
       "      <td>0</td>\n",
       "      <td>0</td>\n",
       "      <td>1</td>\n",
       "      <td>0</td>\n",
       "      <td>0</td>\n",
       "      <td>1</td>\n",
       "      <td>0</td>\n",
       "      <td>0</td>\n",
       "      <td>1</td>\n",
       "    </tr>\n",
       "    <tr>\n",
       "      <th>1</th>\n",
       "      <td>NIVEL 3 No definido</td>\n",
       "      <td>0</td>\n",
       "      <td>0</td>\n",
       "      <td>1</td>\n",
       "      <td>0</td>\n",
       "      <td>0</td>\n",
       "      <td>1</td>\n",
       "      <td>0</td>\n",
       "      <td>0</td>\n",
       "      <td>1</td>\n",
       "      <td>0</td>\n",
       "      <td>0</td>\n",
       "      <td>1</td>\n",
       "    </tr>\n",
       "    <tr>\n",
       "      <th>2</th>\n",
       "      <td>NIVEL 3 No definido</td>\n",
       "      <td>0</td>\n",
       "      <td>0</td>\n",
       "      <td>1</td>\n",
       "      <td>0</td>\n",
       "      <td>0</td>\n",
       "      <td>1</td>\n",
       "      <td>0</td>\n",
       "      <td>0</td>\n",
       "      <td>1</td>\n",
       "      <td>0</td>\n",
       "      <td>0</td>\n",
       "      <td>1</td>\n",
       "    </tr>\n",
       "    <tr>\n",
       "      <th>3</th>\n",
       "      <td>NIVEL 3 No definido</td>\n",
       "      <td>0</td>\n",
       "      <td>0</td>\n",
       "      <td>1</td>\n",
       "      <td>0</td>\n",
       "      <td>0</td>\n",
       "      <td>1</td>\n",
       "      <td>0</td>\n",
       "      <td>0</td>\n",
       "      <td>1</td>\n",
       "      <td>0</td>\n",
       "      <td>0</td>\n",
       "      <td>1</td>\n",
       "    </tr>\n",
       "    <tr>\n",
       "      <th>4</th>\n",
       "      <td>NIVEL 3 No definido</td>\n",
       "      <td>0</td>\n",
       "      <td>0</td>\n",
       "      <td>1</td>\n",
       "      <td>0</td>\n",
       "      <td>0</td>\n",
       "      <td>1</td>\n",
       "      <td>0</td>\n",
       "      <td>0</td>\n",
       "      <td>1</td>\n",
       "      <td>0</td>\n",
       "      <td>0</td>\n",
       "      <td>1</td>\n",
       "    </tr>\n",
       "  </tbody>\n",
       "</table>\n",
       "</div>"
      ],
      "text/plain": [
       "               FAMILIA  eneP  febP  marP  abrP  mayP  junP  julP  agoP  sepP  \\\n",
       "0  NIVEL 3 No definido     0     0     1     0     0     1     0     0     1   \n",
       "1  NIVEL 3 No definido     0     0     1     0     0     1     0     0     1   \n",
       "2  NIVEL 3 No definido     0     0     1     0     0     1     0     0     1   \n",
       "3  NIVEL 3 No definido     0     0     1     0     0     1     0     0     1   \n",
       "4  NIVEL 3 No definido     0     0     1     0     0     1     0     0     1   \n",
       "\n",
       "   octP  novP  dicP  \n",
       "0     0     0     1  \n",
       "1     0     0     1  \n",
       "2     0     0     1  \n",
       "3     0     0     1  \n",
       "4     0     0     1  "
      ]
     },
     "execution_count": 77,
     "metadata": {},
     "output_type": "execute_result"
    }
   ],
   "source": [
    "SW_MES[[ 'FAMILIA','eneP', 'febP', 'marP',\n",
    "        'abrP',  'mayP',  'junP','julP',  'agoP', 'sepP', 'octP', 'novP', 'dicP']].head()"
   ]
  },
  {
   "cell_type": "markdown",
   "metadata": {},
   "source": [
    "objetivo_operacional=[]\n",
    "\n",
    "lista_SW_MES=list(SW_MES['FAMILIA'])\n",
    "\n",
    "for e in lista_SW_MES:\n",
    "    if e == 'OPERACIONAL':\n",
    "        objetivo_operacional.append(1)\n",
    "    else:\n",
    "        objetivo_operacional.append(0)"
   ]
  },
  {
   "cell_type": "code",
   "execution_count": 78,
   "metadata": {},
   "outputs": [],
   "source": [
    "SW_MES['Objetivos_año']=SW_MES[ 'eneP']+SW_MES[ 'febP']+SW_MES[ 'marP']+SW_MES['abrP']+SW_MES[ 'mayP']+SW_MES[ 'junP']+SW_MES[ 'julP']+SW_MES[ 'agoP']+SW_MES[ 'sepP']+SW_MES[ 'octP']+SW_MES[ 'novP']+SW_MES[ 'dicP']"
   ]
  },
  {
   "cell_type": "code",
   "execution_count": 79,
   "metadata": {},
   "outputs": [],
   "source": [
    "SW_MES['Acum_SW']=0"
   ]
  },
  {
   "cell_type": "code",
   "execution_count": 80,
   "metadata": {},
   "outputs": [
    {
     "data": {
      "text/html": [
       "<div>\n",
       "<style scoped>\n",
       "    .dataframe tbody tr th:only-of-type {\n",
       "        vertical-align: middle;\n",
       "    }\n",
       "\n",
       "    .dataframe tbody tr th {\n",
       "        vertical-align: top;\n",
       "    }\n",
       "\n",
       "    .dataframe thead th {\n",
       "        text-align: right;\n",
       "    }\n",
       "</style>\n",
       "<table border=\"1\" class=\"dataframe\">\n",
       "  <thead>\n",
       "    <tr style=\"text-align: right;\">\n",
       "      <th></th>\n",
       "      <th>FAMILIA</th>\n",
       "      <th>Acum_SW</th>\n",
       "      <th>Objetivos_año</th>\n",
       "    </tr>\n",
       "  </thead>\n",
       "  <tbody>\n",
       "    <tr>\n",
       "      <th>0</th>\n",
       "      <td>NIVEL 3 No definido</td>\n",
       "      <td>0</td>\n",
       "      <td>4</td>\n",
       "    </tr>\n",
       "    <tr>\n",
       "      <th>1</th>\n",
       "      <td>NIVEL 3 No definido</td>\n",
       "      <td>0</td>\n",
       "      <td>4</td>\n",
       "    </tr>\n",
       "    <tr>\n",
       "      <th>2</th>\n",
       "      <td>NIVEL 3 No definido</td>\n",
       "      <td>0</td>\n",
       "      <td>4</td>\n",
       "    </tr>\n",
       "    <tr>\n",
       "      <th>3</th>\n",
       "      <td>NIVEL 3 No definido</td>\n",
       "      <td>0</td>\n",
       "      <td>4</td>\n",
       "    </tr>\n",
       "    <tr>\n",
       "      <th>4</th>\n",
       "      <td>NIVEL 3 No definido</td>\n",
       "      <td>0</td>\n",
       "      <td>4</td>\n",
       "    </tr>\n",
       "  </tbody>\n",
       "</table>\n",
       "</div>"
      ],
      "text/plain": [
       "               FAMILIA  Acum_SW  Objetivos_año\n",
       "0  NIVEL 3 No definido        0              4\n",
       "1  NIVEL 3 No definido        0              4\n",
       "2  NIVEL 3 No definido        0              4\n",
       "3  NIVEL 3 No definido        0              4\n",
       "4  NIVEL 3 No definido        0              4"
      ]
     },
     "execution_count": 80,
     "metadata": {},
     "output_type": "execute_result"
    }
   ],
   "source": [
    "SW_MES[['FAMILIA','Acum_SW','Objetivos_año']].head()"
   ]
  },
  {
   "cell_type": "code",
   "execution_count": 81,
   "metadata": {},
   "outputs": [
    {
     "data": {
      "text/plain": [
       "array(['NIVEL 3 No definido', 'OPERACIONAL', 'SOPORTE', 'SALES'],\n",
       "      dtype=object)"
      ]
     },
     "execution_count": 81,
     "metadata": {},
     "output_type": "execute_result"
    }
   ],
   "source": [
    "SW_MES['FAMILIA'].unique()"
   ]
  },
  {
   "cell_type": "code",
   "execution_count": 82,
   "metadata": {},
   "outputs": [
    {
     "data": {
      "text/plain": [
       "Index(['Nombre completo OBSERVADOR', 'ESTADO DEL EMPLEADO',\n",
       "       'MANAGER/COORDINADOR', 'FAMILIA', 'PAIS', 'EMPRESA', 'RAZON SOCIAL',\n",
       "       'CIF', 'CODIGO FLEX EMPRESA', 'CODIGO GPCN', 'PRIMER APELLIDO',\n",
       "       'SEGUNDO APELLIDO', 'NOMBRE', 'FECHA NACIMIENTO', 'Nº FLEX',\n",
       "       'CODIGO SF', 'MAIL TRABAJADOR', 'FECHA ANTIGUEDAD', 'NIF', 'SEXO',\n",
       "       'MODALIDAD DEL CONTRATO', 'NIVEL1', 'NIVEL2', 'NIVEL3', 'PC',\n",
       "       'OFICINA FISICA', 'CODIGO FLEX OFICINA', 'CATEGORIA / PUESTO',\n",
       "       'CONVENIO', 'NIVEL SALARIAL', 'FTE', 'GRUPO COSTE', 'MANAGER',\n",
       "       'Nº S.S.', 'GRUPO COTIZACION', 'CENTRO DE COTIZACION', 'RESPONSABLE PC',\n",
       "       'APROBADOR PORTAL DEL EMPLEADO', 'MAIL APROBADOR',\n",
       "       'SEGUNDO APROBADOR COMPRAS', 'Nombre completo OBSERVADOR', 'index',\n",
       "       'Número', 'Fecha de creación', 'Mes',\n",
       "       'Nombre de la persona o personas observadas', 'Grupo Operativo', 'País',\n",
       "       'Entidad', 'Sitio', 'Nombre del sitio de BV', 'Nombre del cliente',\n",
       "       'Dirección del sitio', 'eneP', 'Acum_Ene', 'febP', 'Acum_Feb', 'marP',\n",
       "       'Acum_Mar', 'abrP', 'Acum_Abr', 'mayP', 'Acum_May', 'junP', 'Acum_Jun',\n",
       "       'julP', 'Acum_Jul', 'agoP', 'Acum_Ago', 'sepP', 'Acum_Sep', 'octP',\n",
       "       'Acum_Oct', 'novP', 'Acum_Nov', 'dicP', 'Acum_Dic', 'Objetivos_año',\n",
       "       'Acum_SW'],\n",
       "      dtype='object')"
      ]
     },
     "execution_count": 82,
     "metadata": {},
     "output_type": "execute_result"
    }
   ],
   "source": [
    "SW_MES.columns"
   ]
  },
  {
   "cell_type": "code",
   "execution_count": 83,
   "metadata": {},
   "outputs": [],
   "source": [
    "\n",
    "SW_MES['Mes'] = SW_MES['Mes'].fillna(0)"
   ]
  },
  {
   "cell_type": "code",
   "execution_count": 84,
   "metadata": {},
   "outputs": [
    {
     "data": {
      "text/plain": [
       "array(['ene', 0], dtype=object)"
      ]
     },
     "execution_count": 84,
     "metadata": {},
     "output_type": "execute_result"
    }
   ],
   "source": [
    "SW_MES['Mes'].unique()"
   ]
  },
  {
   "cell_type": "code",
   "execution_count": 85,
   "metadata": {},
   "outputs": [],
   "source": [
    "list_fechas=list(SW_MES['Mes'])\n",
    "acum_ene=[]\n",
    "for e in list_fechas:\n",
    "    contador=0\n",
    "    if e == 'ene':\n",
    "        acum_ene.append(contador+1)\n",
    "    else:\n",
    "        acum_ene.append(0)\n",
    "SW_MES['Acum_Ene']=acum_ene"
   ]
  },
  {
   "cell_type": "code",
   "execution_count": 86,
   "metadata": {},
   "outputs": [],
   "source": [
    "acum_feb=[]\n",
    "for e in list_fechas:\n",
    "    contador=0\n",
    "    if e == 'feb':\n",
    "        acum_feb.append(contador+1)\n",
    "    else:\n",
    "        acum_feb.append(0)\n",
    "SW_MES['Acum_Feb']=acum_feb"
   ]
  },
  {
   "cell_type": "code",
   "execution_count": 87,
   "metadata": {},
   "outputs": [],
   "source": [
    "acum_mar=[]\n",
    "for e in list_fechas:\n",
    "    contador=0\n",
    "    if e == 'mar':\n",
    "        acum_mar.append(contador+1)\n",
    "    else:\n",
    "        acum_mar.append(0)\n",
    "SW_MES['Acum_Mar']=acum_mar"
   ]
  },
  {
   "cell_type": "code",
   "execution_count": 88,
   "metadata": {},
   "outputs": [],
   "source": [
    "acum_abr=[]\n",
    "for e in list_fechas:\n",
    "    contador=0\n",
    "    if e == 'abr':\n",
    "        acum_abr.append(contador+1)\n",
    "    else:\n",
    "        acum_abr.append(0)\n",
    "SW_MES['Acum_Abr']=acum_abr"
   ]
  },
  {
   "cell_type": "code",
   "execution_count": 89,
   "metadata": {},
   "outputs": [],
   "source": [
    "acum_may=[]\n",
    "for e in list_fechas:\n",
    "    contador=0\n",
    "    if e == 'may':\n",
    "        acum_may.append(contador+1)\n",
    "    else:\n",
    "        acum_may.append(0)\n",
    "SW_MES['Acum_May']=acum_may"
   ]
  },
  {
   "cell_type": "code",
   "execution_count": 90,
   "metadata": {},
   "outputs": [],
   "source": [
    "acum_jun=[]\n",
    "for e in list_fechas:\n",
    "    contador=0\n",
    "    if e == 'jun':\n",
    "        acum_jun.append(contador+1)\n",
    "    else:\n",
    "        acum_jun.append(0)\n",
    "SW_MES['Acum_Jun']=acum_jun"
   ]
  },
  {
   "cell_type": "code",
   "execution_count": 91,
   "metadata": {},
   "outputs": [],
   "source": [
    "acum_jul=[]\n",
    "for e in list_fechas:\n",
    "    contador=0\n",
    "    if e == 'may':\n",
    "        acum_jul.append(contador+1)\n",
    "    else:\n",
    "        acum_jul.append(0)\n",
    "SW_MES['Acum_Jul']=acum_jul"
   ]
  },
  {
   "cell_type": "code",
   "execution_count": 92,
   "metadata": {},
   "outputs": [],
   "source": [
    "acum_ago=[]\n",
    "for e in list_fechas:\n",
    "    contador=0\n",
    "    if e == 'ago':\n",
    "        acum_ago.append(contador+1)\n",
    "    else:\n",
    "        acum_ago.append(0)\n",
    "SW_MES['Acum_Ago']=acum_ago"
   ]
  },
  {
   "cell_type": "code",
   "execution_count": 93,
   "metadata": {},
   "outputs": [],
   "source": [
    "acum_Sep=[]\n",
    "for e in list_fechas:\n",
    "    contador=0\n",
    "    if e == 'sep':\n",
    "        acum_Sep.append(contador+1)\n",
    "    else:\n",
    "        acum_Sep.append(0)\n",
    "SW_MES['Acum_Sep']=acum_Sep"
   ]
  },
  {
   "cell_type": "code",
   "execution_count": 94,
   "metadata": {},
   "outputs": [],
   "source": [
    "acum_oct=[]\n",
    "for e in list_fechas:\n",
    "    contador=0\n",
    "    if e == 'oct':\n",
    "        acum_oct.append(contador+1)\n",
    "    else:\n",
    "        acum_oct.append(0)\n",
    "SW_MES['Acum_Oct']=acum_oct"
   ]
  },
  {
   "cell_type": "code",
   "execution_count": 95,
   "metadata": {},
   "outputs": [],
   "source": [
    "acum_nov=[]\n",
    "for e in list_fechas:\n",
    "    contador=0\n",
    "    if e == 'nov':\n",
    "        acum_nov.append(contador+1)\n",
    "    else:\n",
    "        acum_nov.append(0)\n",
    "SW_MES['Acum_Nov']=acum_nov"
   ]
  },
  {
   "cell_type": "code",
   "execution_count": 96,
   "metadata": {},
   "outputs": [],
   "source": [
    "acum_dic=[]\n",
    "for e in list_fechas:\n",
    "    contador=0\n",
    "    if e == 'dic':\n",
    "        acum_dic.append(contador+1)\n",
    "    else:\n",
    "        acum_dic.append(0)\n",
    "SW_MES['Acum_Dic']=acum_dic"
   ]
  },
  {
   "cell_type": "code",
   "execution_count": 97,
   "metadata": {},
   "outputs": [],
   "source": [
    "SW_MES['Acum_SW']=SW_MES[ 'Acum_Ene']+SW_MES[ 'Acum_Feb']+SW_MES[ 'Acum_Mar']+SW_MES['Acum_Abr']+SW_MES[ 'Acum_May']+SW_MES[ 'Acum_Jun']+SW_MES[ 'Acum_Jul']+SW_MES[ 'Acum_Ago']+SW_MES[ 'Acum_Sep']+SW_MES[ 'Acum_Oct']+SW_MES[ 'Acum_Nov']+SW_MES[ 'Acum_Dic']"
   ]
  },
  {
   "cell_type": "code",
   "execution_count": 98,
   "metadata": {},
   "outputs": [
    {
     "data": {
      "text/plain": [
       "Index(['Nombre completo OBSERVADOR', 'ESTADO DEL EMPLEADO',\n",
       "       'MANAGER/COORDINADOR', 'FAMILIA', 'PAIS', 'EMPRESA', 'RAZON SOCIAL',\n",
       "       'CIF', 'CODIGO FLEX EMPRESA', 'CODIGO GPCN', 'PRIMER APELLIDO',\n",
       "       'SEGUNDO APELLIDO', 'NOMBRE', 'FECHA NACIMIENTO', 'Nº FLEX',\n",
       "       'CODIGO SF', 'MAIL TRABAJADOR', 'FECHA ANTIGUEDAD', 'NIF', 'SEXO',\n",
       "       'MODALIDAD DEL CONTRATO', 'NIVEL1', 'NIVEL2', 'NIVEL3', 'PC',\n",
       "       'OFICINA FISICA', 'CODIGO FLEX OFICINA', 'CATEGORIA / PUESTO',\n",
       "       'CONVENIO', 'NIVEL SALARIAL', 'FTE', 'GRUPO COSTE', 'MANAGER',\n",
       "       'Nº S.S.', 'GRUPO COTIZACION', 'CENTRO DE COTIZACION', 'RESPONSABLE PC',\n",
       "       'APROBADOR PORTAL DEL EMPLEADO', 'MAIL APROBADOR',\n",
       "       'SEGUNDO APROBADOR COMPRAS', 'Nombre completo OBSERVADOR', 'index',\n",
       "       'Número', 'Fecha de creación', 'Mes',\n",
       "       'Nombre de la persona o personas observadas', 'Grupo Operativo', 'País',\n",
       "       'Entidad', 'Sitio', 'Nombre del sitio de BV', 'Nombre del cliente',\n",
       "       'Dirección del sitio', 'eneP', 'Acum_Ene', 'febP', 'Acum_Feb', 'marP',\n",
       "       'Acum_Mar', 'abrP', 'Acum_Abr', 'mayP', 'Acum_May', 'junP', 'Acum_Jun',\n",
       "       'julP', 'Acum_Jul', 'agoP', 'Acum_Ago', 'sepP', 'Acum_Sep', 'octP',\n",
       "       'Acum_Oct', 'novP', 'Acum_Nov', 'dicP', 'Acum_Dic', 'Objetivos_año',\n",
       "       'Acum_SW'],\n",
       "      dtype='object')"
      ]
     },
     "execution_count": 98,
     "metadata": {},
     "output_type": "execute_result"
    }
   ],
   "source": [
    "SW_MES.columns"
   ]
  },
  {
   "cell_type": "code",
   "execution_count": 99,
   "metadata": {},
   "outputs": [],
   "source": [
    "#METER LISTA"
   ]
  },
  {
   "cell_type": "code",
   "execution_count": 100,
   "metadata": {},
   "outputs": [],
   "source": [
    "SW_MES.reset_index(drop=False, inplace = True)"
   ]
  },
  {
   "cell_type": "code",
   "execution_count": 101,
   "metadata": {},
   "outputs": [],
   "source": [
    "SW_MES = SW_MES.loc[:,~SW_MES.columns.duplicated()]"
   ]
  },
  {
   "cell_type": "code",
   "execution_count": 102,
   "metadata": {},
   "outputs": [],
   "source": [
    "SW_MES_lista=SW_MES[SW_MES['Nombre completo OBSERVADOR'].isin(lista_sw)]\n"
   ]
  },
  {
   "cell_type": "code",
   "execution_count": 104,
   "metadata": {},
   "outputs": [],
   "source": [
    "SW_MES.to_excel('../Data/SW_MES.xlsx')"
   ]
  },
  {
   "cell_type": "code",
   "execution_count": 105,
   "metadata": {},
   "outputs": [],
   "source": [
    "SW_MES_lista.to_excel('../Data/SW_MES_lista.xlsx')"
   ]
  },
  {
   "cell_type": "code",
   "execution_count": null,
   "metadata": {},
   "outputs": [],
   "source": []
  }
 ],
 "metadata": {
  "kernelspec": {
   "display_name": "Python 3",
   "language": "python",
   "name": "python3"
  },
  "language_info": {
   "codemirror_mode": {
    "name": "ipython",
    "version": 3
   },
   "file_extension": ".py",
   "mimetype": "text/x-python",
   "name": "python",
   "nbconvert_exporter": "python",
   "pygments_lexer": "ipython3",
   "version": "3.6.9"
  }
 },
 "nbformat": 4,
 "nbformat_minor": 4
}
