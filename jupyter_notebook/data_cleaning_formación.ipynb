{
 "cells": [
  {
   "cell_type": "code",
   "execution_count": 31,
   "metadata": {},
   "outputs": [],
   "source": [
    "import pandas as pd\n",
    "import missingno"
   ]
  },
  {
   "cell_type": "code",
   "execution_count": 32,
   "metadata": {},
   "outputs": [
    {
     "data": {
      "text/plain": [
       "Index(['PERSONAL_C010_Empresa', 'EMPRESAS_C010_RAZONSOCIAL',\n",
       "       'PERSONAL_C010_Codigo', 'PERSONAL_C010_SFId', 'PERSONAL_C020_NIF',\n",
       "       'PERSONAL_C010_CONVENIO', 'PERSONAL_C010_APELLIDOSYNOM',\n",
       "       'PERSONAL_C010_NOMBRE', 'PERSONAL_C010_APELLIDO1',\n",
       "       'PERSONAL_C010_APELLIDO2', 'PERSONAL_C020_Mail',\n",
       "       'PERSONAL_C010_FECHAALTA', 'PERSONAL_C010_FECHABAJA',\n",
       "       'PERSONAL_C010_CATEGORIA', 'TABLA_CATEGORIA_DENOMINACION',\n",
       "       'PERSONAL_C361_Codigo', 'PERSONAL_C361_Denominacion',\n",
       "       'PERSONAL_C361_FechaInicio', 'PERSONAL_C100_OrgBL',\n",
       "       'PERSONAL_C100_OrgPC', 'TABLA_ORG_BL_Denominacion',\n",
       "       'TABLA_ORG_SBL_Denominacion', 'TABLA_ORG_REG_Denominacion',\n",
       "       'TABLA_CENTROFIS_Denominacion', 'PERSONAL_C010_APELLIDOSYNOM.1',\n",
       "       'PERSONAL_C020_Mail.1', 'PERSONAL_C361_C361Inactivo',\n",
       "       'PERSONAL_C100_CentroTrabajo'],\n",
       "      dtype='object')"
      ]
     },
     "execution_count": 32,
     "metadata": {},
     "output_type": "execute_result"
    }
   ],
   "source": [
    "#Carga el excel en un Dataframe (datos de las SW)\n",
    "df= pd.read_excel('../Data/Formacion_PRL.xlsx',engine='openpyxl')\n",
    "df.columns"
   ]
  },
  {
   "cell_type": "code",
   "execution_count": 35,
   "metadata": {},
   "outputs": [],
   "source": [
    "df['PERSONAL_C010_APELLIDO2']=df['PERSONAL_C010_APELLIDO2'].fillna(\".\")"
   ]
  },
  {
   "cell_type": "code",
   "execution_count": 37,
   "metadata": {},
   "outputs": [],
   "source": [
    "df['Nombre completo OBSERVADOR'] = df['PERSONAL_C010_NOMBRE'] + \" \" + df['PERSONAL_C010_APELLIDO1']+ \" \" +df['PERSONAL_C010_APELLIDO2']"
   ]
  },
  {
   "cell_type": "code",
   "execution_count": 38,
   "metadata": {},
   "outputs": [],
   "source": [
    "df['Nombre completo OBSERVADOR']=df['Nombre completo OBSERVADOR'].fillna(\"\")"
   ]
  },
  {
   "cell_type": "code",
   "execution_count": 39,
   "metadata": {},
   "outputs": [],
   "source": [
    "nombres=[]\n",
    "for e in list(df['Nombre completo OBSERVADOR']):\n",
    "            word_list = e.split()\n",
    "            nombres.append(word_list)\n",
    "    "
   ]
  },
  {
   "cell_type": "code",
   "execution_count": 41,
   "metadata": {},
   "outputs": [
    {
     "data": {
      "text/plain": [
       "Index(['PAIS', 'EMPRESA', 'RAZON SOCIAL', 'CIF', 'CODIGO FLEX EMPRESA',\n",
       "       'CODIGO GPCN', 'PRIMER APELLIDO', 'SEGUNDO APELLIDO', 'NOMBRE',\n",
       "       'FECHA NACIMIENTO', 'Nº FLEX', 'CODIGO SF', 'MAIL TRABAJADOR',\n",
       "       'FECHA ANTIGUEDAD', 'NIF', 'SEXO', 'MODALIDAD DEL CONTRATO', 'NIVEL1',\n",
       "       'NIVEL2', 'NIVEL3', 'PC', 'OFICINA FISICA', 'CODIGO FLEX OFICINA',\n",
       "       'CATEGORIA / PUESTO', 'CONVENIO', 'NIVEL SALARIAL', 'FTE',\n",
       "       'GRUPO COSTE', 'MANAGER', 'Nº S.S.', 'GRUPO COTIZACION',\n",
       "       'CENTRO DE COTIZACION', 'RESPONSABLE PC',\n",
       "       'APROBADOR PORTAL DEL EMPLEADO', 'MAIL APROBADOR',\n",
       "       'SEGUNDO APROBADOR COMPRAS', 'MAIL SEGUNDO APROV. COMPRAS',\n",
       "       'Unnamed: 37', 'Unnamed: 38', 'HC y FTE (sin contar ETT)',\n",
       "       'Unnamed: 40', 'Unnamed: 41', 'Unnamed: 42',\n",
       "       'FTE GRUPO DE COSTE (sin contar ETT)', 'Unnamed: 44', 'Unnamed: 45',\n",
       "       'Unnamed: 46', 'Unnamed: 47', 'Unnamed: 48', 'FTE MANAGERS',\n",
       "       'Unnamed: 50', 'Unnamed: 51', 'Unnamed: 52',\n",
       "       'INDEFINIDOS MENSUALES (sin contar ETT)', 'Unnamed: 54'],\n",
       "      dtype='object')"
      ]
     },
     "execution_count": 41,
     "metadata": {},
     "output_type": "execute_result"
    }
   ],
   "source": [
    "#Carga el excel en un Dataframe (datos de las SW)\n",
    "df_empleados= pd.read_excel('../Data/Resumen HC Enero 2021.xlsx',engine='openpyxl',sheet_name='HC ENERO')\n",
    "df_empleados.columns"
   ]
  },
  {
   "cell_type": "code",
   "execution_count": 42,
   "metadata": {},
   "outputs": [],
   "source": [
    "df_empleados['SEGUNDO APELLIDO'] = df_empleados['SEGUNDO APELLIDO'].fillna('.')"
   ]
  },
  {
   "cell_type": "code",
   "execution_count": 43,
   "metadata": {},
   "outputs": [],
   "source": [
    "df_empleados['Nombre completo OBSERVADOR'] = df_empleados['NOMBRE'] + \" \" + df_empleados['PRIMER APELLIDO']+ \" \" +df_empleados['SEGUNDO APELLIDO']"
   ]
  },
  {
   "cell_type": "code",
   "execution_count": 45,
   "metadata": {},
   "outputs": [],
   "source": [
    "df_empleados['Nombre completo OBSERVADOR']=df_empleados['Nombre completo OBSERVADOR'].str.upper()\n"
   ]
  },
  {
   "cell_type": "code",
   "execution_count": 51,
   "metadata": {},
   "outputs": [
    {
     "data": {
      "text/plain": [
       "Index(['PERSONAL_C010_Empresa', 'EMPRESAS_C010_RAZONSOCIAL',\n",
       "       'PERSONAL_C010_Codigo', 'PERSONAL_C010_SFId', 'PERSONAL_C020_NIF',\n",
       "       'PERSONAL_C010_CONVENIO', 'PERSONAL_C010_APELLIDOSYNOM',\n",
       "       'PERSONAL_C010_NOMBRE', 'PERSONAL_C010_APELLIDO1',\n",
       "       'PERSONAL_C010_APELLIDO2', 'PERSONAL_C020_Mail',\n",
       "       'PERSONAL_C010_FECHAALTA', 'PERSONAL_C010_FECHABAJA',\n",
       "       'PERSONAL_C010_CATEGORIA', 'TABLA_CATEGORIA_DENOMINACION',\n",
       "       'PERSONAL_C361_Codigo', 'PERSONAL_C361_Denominacion',\n",
       "       'PERSONAL_C361_FechaInicio', 'PERSONAL_C100_OrgBL',\n",
       "       'PERSONAL_C100_OrgPC', 'TABLA_ORG_BL_Denominacion',\n",
       "       'TABLA_ORG_SBL_Denominacion', 'TABLA_ORG_REG_Denominacion',\n",
       "       'TABLA_CENTROFIS_Denominacion', 'PERSONAL_C010_APELLIDOSYNOM.1',\n",
       "       'PERSONAL_C020_Mail.1', 'PERSONAL_C361_C361Inactivo',\n",
       "       'PERSONAL_C100_CentroTrabajo', 'Nombre completo OBSERVADOR', 'PAIS',\n",
       "       'EMPRESA', 'RAZON SOCIAL', 'CIF', 'CODIGO FLEX EMPRESA', 'CODIGO GPCN',\n",
       "       'PRIMER APELLIDO', 'SEGUNDO APELLIDO', 'NOMBRE', 'FECHA NACIMIENTO',\n",
       "       'Nº FLEX', 'CODIGO SF', 'MAIL TRABAJADOR', 'FECHA ANTIGUEDAD', 'NIF',\n",
       "       'SEXO', 'MODALIDAD DEL CONTRATO', 'NIVEL1', 'NIVEL2', 'NIVEL3', 'PC',\n",
       "       'OFICINA FISICA', 'CODIGO FLEX OFICINA', 'CATEGORIA / PUESTO',\n",
       "       'CONVENIO', 'NIVEL SALARIAL', 'FTE', 'GRUPO COSTE', 'MANAGER',\n",
       "       'Nº S.S.', 'GRUPO COTIZACION', 'CENTRO DE COTIZACION', 'RESPONSABLE PC',\n",
       "       'APROBADOR PORTAL DEL EMPLEADO', 'MAIL APROBADOR',\n",
       "       'SEGUNDO APROBADOR COMPRAS', 'MAIL SEGUNDO APROV. COMPRAS',\n",
       "       'Unnamed: 37', 'Unnamed: 38', 'HC y FTE (sin contar ETT)',\n",
       "       'Unnamed: 40', 'Unnamed: 41', 'Unnamed: 42',\n",
       "       'FTE GRUPO DE COSTE (sin contar ETT)', 'Unnamed: 44', 'Unnamed: 45',\n",
       "       'Unnamed: 46', 'Unnamed: 47', 'Unnamed: 48', 'FTE MANAGERS',\n",
       "       'Unnamed: 50', 'Unnamed: 51', 'Unnamed: 52',\n",
       "       'INDEFINIDOS MENSUALES (sin contar ETT)', 'Unnamed: 54'],\n",
       "      dtype='object')"
      ]
     },
     "execution_count": 51,
     "metadata": {},
     "output_type": "execute_result"
    }
   ],
   "source": [
    "#Combina los 2 archivos EXCEL por el Nombre del empleado\n",
    "formacion_PRL=pd.merge(df, df_empleados, on='Nombre completo OBSERVADOR', how='outer')\n",
    "formacion_PRL.columns"
   ]
  },
  {
   "cell_type": "code",
   "execution_count": 52,
   "metadata": {},
   "outputs": [],
   "source": [
    "formacion_PRL.dropna(subset=['PERSONAL_C010_NOMBRE'], how='all', inplace = True)"
   ]
  },
  {
   "cell_type": "code",
   "execution_count": 56,
   "metadata": {},
   "outputs": [
    {
     "data": {
      "text/plain": [
       "array([False,  True])"
      ]
     },
     "execution_count": 56,
     "metadata": {},
     "output_type": "execute_result"
    }
   ],
   "source": [
    "formacion_PRL['ESTADO DEL EMPLEADO'] = formacion_PRL['PAIS'].isnull()\n",
    "formacion_PRL['ESTADO DEL EMPLEADO'].unique()"
   ]
  },
  {
   "cell_type": "code",
   "execution_count": 57,
   "metadata": {},
   "outputs": [],
   "source": [
    "formacion_PRL['ESTADO DEL EMPLEADO'] =formacion_PRL['ESTADO DEL EMPLEADO'].replace({True: 'Baja',False: 'Activo',})"
   ]
  },
  {
   "cell_type": "code",
   "execution_count": 58,
   "metadata": {},
   "outputs": [
    {
     "data": {
      "text/plain": [
       "array(['Activo', 'Baja'], dtype=object)"
      ]
     },
     "execution_count": 58,
     "metadata": {},
     "output_type": "execute_result"
    }
   ],
   "source": [
    "formacion_PRL['ESTADO DEL EMPLEADO'].unique()"
   ]
  },
  {
   "cell_type": "code",
   "execution_count": 59,
   "metadata": {},
   "outputs": [],
   "source": [
    "formacion_PRL.to_excel('../Data/formacion_PRL.xlsx')"
   ]
  },
  {
   "cell_type": "code",
   "execution_count": null,
   "metadata": {},
   "outputs": [],
   "source": []
  }
 ],
 "metadata": {
  "kernelspec": {
   "display_name": "Python 3",
   "language": "python",
   "name": "python3"
  },
  "language_info": {
   "codemirror_mode": {
    "name": "ipython",
    "version": 3
   },
   "file_extension": ".py",
   "mimetype": "text/x-python",
   "name": "python",
   "nbconvert_exporter": "python",
   "pygments_lexer": "ipython3",
   "version": "3.6.9"
  }
 },
 "nbformat": 4,
 "nbformat_minor": 4
}
