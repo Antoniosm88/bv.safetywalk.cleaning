{
 "cells": [
  {
   "cell_type": "code",
   "execution_count": 1,
   "metadata": {},
   "outputs": [],
   "source": [
    "import pandas as pd\n",
    "import numpy as np"
   ]
  },
  {
   "cell_type": "code",
   "execution_count": 2,
   "metadata": {},
   "outputs": [
    {
     "data": {
      "text/plain": [
       "Index(['Application: BV Safety', 'Unnamed: 1', 'Unnamed: 2', 'Unnamed: 3',\n",
       "       'Unnamed: 4', 'Unnamed: 5', 'Unnamed: 6', 'Unnamed: 7', 'Unnamed: 8',\n",
       "       'Unnamed: 9', 'Unnamed: 10', 'Unnamed: 11', 'Unnamed: 12',\n",
       "       'Unnamed: 13', 'Unnamed: 14', 'Unnamed: 15', 'Unnamed: 16',\n",
       "       'Unnamed: 17', 'Unnamed: 18', 'Unnamed: 19', 'Unnamed: 20',\n",
       "       'Unnamed: 21', 'Unnamed: 22', 'Unnamed: 23', 'Unnamed: 24',\n",
       "       'Unnamed: 25', 'Unnamed: 26', 'Unnamed: 27', 'Unnamed: 28',\n",
       "       'Unnamed: 29', 'Unnamed: 30', 'Unnamed: 31', 'Unnamed: 32',\n",
       "       'Unnamed: 33', 'Unnamed: 34', 'Unnamed: 35', 'Unnamed: 36',\n",
       "       'Unnamed: 37', 'Unnamed: 38', 'Unnamed: 39'],\n",
       "      dtype='object')"
      ]
     },
     "execution_count": 2,
     "metadata": {},
     "output_type": "execute_result"
    }
   ],
   "source": [
    "#Carga el excel en un Dataframe (datos de las SW)\n",
    "df= pd.read_excel('/home/antonio/Documentos/BV/SW_informe_dataCleaning/Data/BV Safety_All Safety Walks.xlsx', engine='openpyxl')\n",
    "df.columns"
   ]
  },
  {
   "cell_type": "code",
   "execution_count": 3,
   "metadata": {},
   "outputs": [],
   "source": [
    "#Borra las primeras 4 filas del Df\n",
    "df1=df.drop([0,1,2,3])"
   ]
  },
  {
   "cell_type": "code",
   "execution_count": 4,
   "metadata": {},
   "outputs": [],
   "source": [
    "new_header = df1.iloc[0] #grab the first row for the header\n",
    "df2 = df1[1:] #take the data less the header row\n",
    "df2.columns = new_header #set the header row as the df header"
   ]
  },
  {
   "cell_type": "code",
   "execution_count": 5,
   "metadata": {},
   "outputs": [],
   "source": [
    "df3=df2.reset_index()"
   ]
  },
  {
   "cell_type": "code",
   "execution_count": 6,
   "metadata": {},
   "outputs": [],
   "source": [
    "#Cambiamos el nómbre de las columnas\n",
    "df4 = df3.rename(columns = {'Number':'Número',\n",
    "                            'Created Date':'Fecha de creación',\n",
    "                            'Name of the Observer':'Nombre del observador',\n",
    "                            'Name of the Observed Person(s)':'Nombre de la persona o personas observadas',\n",
    "                            'Operating Group':'Grupo Operativo',\n",
    "                            'Country':'País',\n",
    "                            'Entity':'Entidad',\n",
    "                            'Site':'Sitio',\n",
    "                            'BV Site Name':'Nombre del sitio de BV',\n",
    "                            'Client Name':'Nombre del cliente',\n",
    "                            'Site Address':'Dirección del sitio',\n",
    "                            '1. Mind On Task?': '1. ¿Mente en la tarea?', \n",
    "                            '2. Eyes on Task?': '2. ¿Ojos puestos en la tarea?',\n",
    "                            '3. Using equpment properly?': \"3. ¿Utiliza el equipo correctamente?\",\n",
    "                            '4. Performing task while not rushing?': \"4. ¿Realiza la tarea sin apresurarse?\",\n",
    "                            '5. Wearing prescribed PPE?': '5. ¿Usa el EPI definido?',\n",
    "                            '6. Following Safe Working Procedures?':'6. ¿Sigue procedimientos de trabajo seguros?',\n",
    "                            '7. Authorization is obtained...':'7. Se obtiene la autorización ...',\n",
    "                            '8. Check surrounding work areas...':'8. Verifica el entorno de trabajo, 2 min para mi seguridad',\n",
    "                            '9. Personnel acted safely for the task observed':'9. El personal actuó con seguridad para la tarea observada.',\n",
    "                            '10. Aware of the Emergency Evacuation...':'10.Conoce la Ruta de Evaluación de Emergencias y el Punto de Reunión',\n",
    "                            '11. The person is aware of the need to report near hit and unsafe situation.':'11. La persona es consciente de la necesidad de reportar Cuasi Accidentes y Condiciones Inseguras?.',\n",
    "                            '12. Personnel stops Working if the situation is unsafe.':'12. El personal deja de trabajar si la situación no es segura.',\n",
    "                            '13. Personnel is competent and trained...':'13. El personal esta capacitado y suficientemente formado para la Tarea.',\n",
    "                            '14. Adequate and worn correctly the applicable PPE':'14. Los EPIS definidos son adecuados y se usan correctamente.',\n",
    "                            '15. Good conditions, well maintained and properly stored.':'15. los EPIS estan en buen estado, bien mantenidos y se almacenan correctamente.',\n",
    "                            '16. Good housekeeping of the work area...':'16. Buena limpieza del área de trabajo',\n",
    "                            '17. Area Free of Slip Trip and Fall Hazards':'17. Área libre de riesgos de resbalones, tropiezos y caídas',\n",
    "                            '18. Walkways, aisles, emergency exits...':'18. Pasillos, salidas de emergencia y equipos de emergencia no estan obstruidos.',\n",
    "                            '19. Spillage controlled':'19. Derrames controlados',\n",
    "                            '20. All containers in use and in the area are labelled.':'20. Todos los contenedores en uso y en el área están etiquetados.',\n",
    "                            '21. No Noise, Dust, Odor Issues':'21. Sin ruidos, polvo ni olores',\n",
    "                            '22. Hazardous substances are stored properly':'22. Las sustancias peligrosas se almacenan adecuadamente',\n",
    "                            '23. The work area is secured from hazards...':'23. El área de trabajo está protegida contra riesgos',\n",
    "                            '24. Sufficient lighting and ventilation.':'24. Iluminación y ventilación suficientes.',\n",
    "                            '25. Use intrinsically safe equipment...':'25. Uso de equipos intrínsecamente seguro.',\n",
    "                            '26. Machine guarding or Lock-Out-Tag-Out...':'26. Protección de la maquina o señal de bloqueo-etiquetado disponible',\n",
    "                            '27. Scaffold or ladder is safe for use.':'27. El andamio o la escalera son seguros para su uso.',\n",
    "                            'Did I use my Stop Work Authority?':'¿Usé mi autorización para detener el trabajo?',\n",
    "                            'Comments / Action Plan':'Comentarios / Plan de acción'},\n",
    "                            \n",
    "                                             inplace = False)\n",
    "                                        \n",
    "                                        \n",
    "                                        \n",
    "                                        "
   ]
  },
  {
   "cell_type": "code",
   "execution_count": 7,
   "metadata": {},
   "outputs": [
    {
     "data": {
      "text/plain": [
       "Index(['index', 'Número', 'Fecha de creación', 'Nombre del observador',\n",
       "       'Nombre de la persona o personas observadas', 'Grupo Operativo', 'País',\n",
       "       'Entidad', 'Sitio', 'Nombre del sitio de BV', 'Nombre del cliente',\n",
       "       'Dirección del sitio', '1. ¿Mente en la tarea?',\n",
       "       '2. ¿Ojos puestos en la tarea?', '3. ¿Utiliza el equipo correctamente?',\n",
       "       '4. ¿Realiza la tarea sin apresurarse?', '5. ¿Usa el EPI definido?',\n",
       "       '6. ¿Sigue procedimientos de trabajo seguros?',\n",
       "       '7. Se obtiene la autorización ...',\n",
       "       '8. Verifica el entorno de trabajo, 2 min para mi seguridad',\n",
       "       '9. El personal actuó con seguridad para la tarea observada.',\n",
       "       '10.Conoce la Ruta de Evaluación de Emergencias y el Punto de Reunión',\n",
       "       '11. La persona es consciente de la necesidad de reportar Cuasi Accidentes y Condiciones Inseguras?.',\n",
       "       '12. El personal deja de trabajar si la situación no es segura.',\n",
       "       '13. El personal esta capacitado y suficientemente formado para la Tarea.',\n",
       "       '14. Los EPIS definidos son adecuados y se usan correctamente.',\n",
       "       '15. los EPIS estan en buen estado, bien mantenidos y se almacenan correctamente.',\n",
       "       '16. Buena limpieza del área de trabajo',\n",
       "       '17. Área libre de riesgos de resbalones, tropiezos y caídas',\n",
       "       '18. Pasillos, salidas de emergencia y equipos de emergencia no estan obstruidos.',\n",
       "       '19. Derrames controlados',\n",
       "       '20. Todos los contenedores en uso y en el área están etiquetados.',\n",
       "       '21. Sin ruidos, polvo ni olores',\n",
       "       '22. Las sustancias peligrosas se almacenan adecuadamente',\n",
       "       '23. El área de trabajo está protegida contra riesgos',\n",
       "       '24. Iluminación y ventilación suficientes.',\n",
       "       '25. Uso de equipos intrínsecamente seguro.',\n",
       "       '26. Protección de la maquina o señal de bloqueo-etiquetado disponible',\n",
       "       '27. El andamio o la escalera son seguros para su uso.',\n",
       "       '¿Usé mi autorización para detener el trabajo?',\n",
       "       'Comentarios / Plan de acción'],\n",
       "      dtype='object', name=4)"
      ]
     },
     "execution_count": 7,
     "metadata": {},
     "output_type": "execute_result"
    }
   ],
   "source": [
    "df4.columns"
   ]
  },
  {
   "cell_type": "code",
   "execution_count": 8,
   "metadata": {},
   "outputs": [],
   "source": [
    "#Cargamos el excel donde están los empreados que realizan las SW\n",
    "Lista_sw2= pd.read_excel('/home/antonio/Documentos/BV/SW_informe_dataCleaning/Data/LISTA SW.xlsx',engine='openpyxl',sheet_name='Hoja1')"
   ]
  },
  {
   "cell_type": "code",
   "execution_count": 9,
   "metadata": {},
   "outputs": [
    {
     "data": {
      "text/plain": [
       "Index(['Nombres de los que hacen SW', 'objetivo año', 'CRUCE'], dtype='object')"
      ]
     },
     "execution_count": 9,
     "metadata": {},
     "output_type": "execute_result"
    }
   ],
   "source": [
    "Lista_sw2.columns"
   ]
  },
  {
   "cell_type": "code",
   "execution_count": 10,
   "metadata": {},
   "outputs": [],
   "source": [
    "col_one_list=list(Lista_sw2['Nombres de los que hacen SW'])"
   ]
  },
  {
   "cell_type": "code",
   "execution_count": 11,
   "metadata": {},
   "outputs": [
    {
     "data": {
      "text/plain": [
       "140"
      ]
     },
     "execution_count": 11,
     "metadata": {},
     "output_type": "execute_result"
    }
   ],
   "source": [
    "len(col_one_list)"
   ]
  },
  {
   "cell_type": "code",
   "execution_count": 12,
   "metadata": {},
   "outputs": [],
   "source": [
    "#Homogeneizamos la columna donde estan los nombres de los empleados que han subido las SW a QESIS\n",
    "nombres=[]\n",
    "for e in df4['Nombre del observador']:\n",
    "    word_list = e.split()\n",
    "    if word_list[-1].isupper()==True:\n",
    "        nombres.append(word_list)\n",
    "    if word_list[-1].isupper()==False:\n",
    "        word_list.remove(word_list[-1])\n",
    "        nombres.append(word_list)"
   ]
  },
  {
   "cell_type": "markdown",
   "metadata": {},
   "source": [
    "for e in nombres:\n",
    "    if len(e)==2:\n",
    "        e.extend([\".\"])\n",
    "len(nombres)"
   ]
  },
  {
   "cell_type": "code",
   "execution_count": 13,
   "metadata": {},
   "outputs": [],
   "source": [
    "#Esta función convierte las listas en strings\n",
    "def listToString(s):  \n",
    "    \n",
    "    # initialize an empty string \n",
    "    str1 = \" \" \n",
    "    \n",
    "    # return string   \n",
    "    return (str1.join(s))"
   ]
  },
  {
   "cell_type": "code",
   "execution_count": 14,
   "metadata": {},
   "outputs": [],
   "source": [
    "#La lista donde se ha homogeneizado los nombres se transforma en strings\n",
    "nombres2=[]\n",
    "for e in nombres:\n",
    "    nombres2.append(listToString(e))  "
   ]
  },
  {
   "cell_type": "code",
   "execution_count": 15,
   "metadata": {},
   "outputs": [
    {
     "data": {
      "text/plain": [
       "2330"
      ]
     },
     "execution_count": 15,
     "metadata": {},
     "output_type": "execute_result"
    }
   ],
   "source": [
    "len(nombres2)"
   ]
  },
  {
   "cell_type": "code",
   "execution_count": 16,
   "metadata": {},
   "outputs": [
    {
     "data": {
      "text/plain": [
       "2330"
      ]
     },
     "execution_count": 16,
     "metadata": {},
     "output_type": "execute_result"
    }
   ],
   "source": [
    "len(df4['Nombre del observador'])"
   ]
  },
  {
   "cell_type": "code",
   "execution_count": 17,
   "metadata": {},
   "outputs": [],
   "source": [
    "#Agregamos la lista con los nombres limpios a la columna del Df y las pasamos a mayúsculas.\n",
    "\n",
    "df4['Nombre del observador']=nombres2\n",
    "df4['Nombre del observador']= df4['Nombre del observador'].str.upper()\n"
   ]
  },
  {
   "cell_type": "code",
   "execution_count": 18,
   "metadata": {},
   "outputs": [],
   "source": [
    "nombres_PORTUGAL = df4[(df4['País'] == ' Portugal ')]"
   ]
  },
  {
   "cell_type": "code",
   "execution_count": 19,
   "metadata": {},
   "outputs": [
    {
     "data": {
      "text/plain": [
       "Index(['index', 'Número', 'Fecha de creación', 'Nombre del observador',\n",
       "       'Nombre de la persona o personas observadas', 'Grupo Operativo', 'País',\n",
       "       'Entidad', 'Sitio', 'Nombre del sitio de BV', 'Nombre del cliente',\n",
       "       'Dirección del sitio', '1. ¿Mente en la tarea?',\n",
       "       '2. ¿Ojos puestos en la tarea?', '3. ¿Utiliza el equipo correctamente?',\n",
       "       '4. ¿Realiza la tarea sin apresurarse?', '5. ¿Usa el EPI definido?',\n",
       "       '6. ¿Sigue procedimientos de trabajo seguros?',\n",
       "       '7. Se obtiene la autorización ...',\n",
       "       '8. Verifica el entorno de trabajo, 2 min para mi seguridad',\n",
       "       '9. El personal actuó con seguridad para la tarea observada.',\n",
       "       '10.Conoce la Ruta de Evaluación de Emergencias y el Punto de Reunión',\n",
       "       '11. La persona es consciente de la necesidad de reportar Cuasi Accidentes y Condiciones Inseguras?.',\n",
       "       '12. El personal deja de trabajar si la situación no es segura.',\n",
       "       '13. El personal esta capacitado y suficientemente formado para la Tarea.',\n",
       "       '14. Los EPIS definidos son adecuados y se usan correctamente.',\n",
       "       '15. los EPIS estan en buen estado, bien mantenidos y se almacenan correctamente.',\n",
       "       '16. Buena limpieza del área de trabajo',\n",
       "       '17. Área libre de riesgos de resbalones, tropiezos y caídas',\n",
       "       '18. Pasillos, salidas de emergencia y equipos de emergencia no estan obstruidos.',\n",
       "       '19. Derrames controlados',\n",
       "       '20. Todos los contenedores en uso y en el área están etiquetados.',\n",
       "       '21. Sin ruidos, polvo ni olores',\n",
       "       '22. Las sustancias peligrosas se almacenan adecuadamente',\n",
       "       '23. El área de trabajo está protegida contra riesgos',\n",
       "       '24. Iluminación y ventilación suficientes.',\n",
       "       '25. Uso de equipos intrínsecamente seguro.',\n",
       "       '26. Protección de la maquina o señal de bloqueo-etiquetado disponible',\n",
       "       '27. El andamio o la escalera son seguros para su uso.',\n",
       "       '¿Usé mi autorización para detener el trabajo?',\n",
       "       'Comentarios / Plan de acción'],\n",
       "      dtype='object', name=4)"
      ]
     },
     "execution_count": 19,
     "metadata": {},
     "output_type": "execute_result"
    }
   ],
   "source": [
    "df4.columns"
   ]
  },
  {
   "cell_type": "code",
   "execution_count": 20,
   "metadata": {},
   "outputs": [],
   "source": [
    "\n",
    "\n",
    "#df4['Nombre del observador']  = np.where((df4['País'] == ' Portugal '), df4['Nombre del observador'].apply(lambda x: nombresPortugal(x)),df4['Nombre del observador'])"
   ]
  },
  {
   "cell_type": "code",
   "execution_count": 21,
   "metadata": {},
   "outputs": [],
   "source": [
    "#creamos un nuevo Df con un filtro para elegir Portugal\n",
    "nombres_PORTUGAL = df4[(df4['País'] == ' Portugal ')]"
   ]
  },
  {
   "cell_type": "code",
   "execution_count": 22,
   "metadata": {},
   "outputs": [
    {
     "data": {
      "text/plain": [
       "[['DAVID', 'KARIM'],\n",
       " ['IGOR', 'SANTOS'],\n",
       " ['ANA', 'GUIMARÃES'],\n",
       " ['DAVID', 'KARIM'],\n",
       " ['RAQUEL', 'CARVALHO'],\n",
       " ['DAVID', 'KARIM']]"
      ]
     },
     "execution_count": 22,
     "metadata": {},
     "output_type": "execute_result"
    }
   ],
   "source": [
    "#Bucle for para introducir en una lista los nombres de los portugueses que tienen 2 apellidos.\n",
    "#Si tienen + de 3 elementos debe de coger el 2º elemento y borrarlo.\n",
    "nombre_portugal=[]\n",
    "for e in nombres_PORTUGAL['Nombre del observador']:\n",
    "    word_list = e.split()\n",
    "    if len(word_list) >= 3:\n",
    "        word_list.remove(word_list[-2])\n",
    "        nombre_portugal.append(word_list)\n",
    "    else:\n",
    "        nombre_portugal.append(word_list)\n",
    "nombre_portugal"
   ]
  },
  {
   "cell_type": "code",
   "execution_count": 23,
   "metadata": {},
   "outputs": [],
   "source": [
    "#aplicamos la función para pasar de list a string.\n",
    "nombres3=[]\n",
    "for e in nombre_portugal:\n",
    "    nombres3.append(listToString(e))\n"
   ]
  },
  {
   "cell_type": "code",
   "execution_count": 24,
   "metadata": {},
   "outputs": [],
   "source": [
    "nombres_ESPAÑAs = df4[(df4['País'] == ' Spain ')]"
   ]
  },
  {
   "cell_type": "code",
   "execution_count": 25,
   "metadata": {},
   "outputs": [
    {
     "data": {
      "text/plain": [
       "103"
      ]
     },
     "execution_count": 25,
     "metadata": {},
     "output_type": "execute_result"
    }
   ],
   "source": [
    "len(nombres_ESPAÑAs)"
   ]
  },
  {
   "cell_type": "code",
   "execution_count": 26,
   "metadata": {},
   "outputs": [],
   "source": [
    "nombres4=[]\n",
    "for e in nombres_ESPAÑAs:\n",
    "    nombres4.append(listToString(e))"
   ]
  },
  {
   "cell_type": "code",
   "execution_count": 27,
   "metadata": {},
   "outputs": [
    {
     "name": "stderr",
     "output_type": "stream",
     "text": [
      "/home/antonio/.local/lib/python3.6/site-packages/ipykernel_launcher.py:2: SettingWithCopyWarning: \n",
      "A value is trying to be set on a copy of a slice from a DataFrame.\n",
      "Try using .loc[row_indexer,col_indexer] = value instead\n",
      "\n",
      "See the caveats in the documentation: https://pandas.pydata.org/pandas-docs/stable/user_guide/indexing.html#returning-a-view-versus-a-copy\n",
      "  \n"
     ]
    }
   ],
   "source": [
    "#Añadimos los nombres modificados a la columna del Df que creamos con el filtro.\n",
    "nombres_PORTUGAL['Nombre del observador']=nombres3"
   ]
  },
  {
   "cell_type": "code",
   "execution_count": 28,
   "metadata": {},
   "outputs": [],
   "source": [
    "#Concatenamos el df principal con el que creamos con el filtro.\n",
    "\n",
    "df4 = pd.concat([df4, nombres_PORTUGAL],ignore_index=True)"
   ]
  },
  {
   "cell_type": "code",
   "execution_count": 29,
   "metadata": {},
   "outputs": [],
   "source": [
    "nombre_5=[]\n",
    "for e in df4['Nombre del observador']:\n",
    "    word_list = e.split()\n",
    "    nombre_5.append(word_list)\n",
    "    "
   ]
  },
  {
   "cell_type": "code",
   "execution_count": 30,
   "metadata": {},
   "outputs": [
    {
     "data": {
      "text/plain": [
       "2336"
      ]
     },
     "execution_count": 30,
     "metadata": {},
     "output_type": "execute_result"
    }
   ],
   "source": [
    "for e in nombre_5:\n",
    "    if len(e)==2:\n",
    "        e.extend([\".\"])\n",
    "len(nombre_5)"
   ]
  },
  {
   "cell_type": "code",
   "execution_count": 31,
   "metadata": {},
   "outputs": [],
   "source": [
    "nombres6=[]\n",
    "for e in nombre_5:\n",
    "    nombres6.append(listToString(e))  "
   ]
  },
  {
   "cell_type": "code",
   "execution_count": 32,
   "metadata": {},
   "outputs": [],
   "source": [
    "df4['Nombre del observador']=nombres6"
   ]
  },
  {
   "cell_type": "code",
   "execution_count": 33,
   "metadata": {},
   "outputs": [],
   "source": [
    "df4.reset_index(drop=True, inplace=True)"
   ]
  },
  {
   "cell_type": "code",
   "execution_count": 34,
   "metadata": {},
   "outputs": [],
   "source": [
    "lista_pais=pd.unique(df4['País']).tolist()"
   ]
  },
  {
   "cell_type": "code",
   "execution_count": 35,
   "metadata": {},
   "outputs": [],
   "source": [
    "\n",
    "clean_country = df4[(df4['País'] != ' Spain ')& (df4['País'] != ' Portugal ')].index\n",
    "# Delete these row indexes from dataFrame\n",
    "df4.drop(clean_country , inplace=True)"
   ]
  },
  {
   "cell_type": "code",
   "execution_count": 36,
   "metadata": {},
   "outputs": [
    {
     "data": {
      "text/plain": [
       "['S&WE - SWE ', 'M&O ']"
      ]
     },
     "execution_count": 36,
     "metadata": {},
     "output_type": "execute_result"
    }
   ],
   "source": [
    "lista_grupo=pd.unique(df4['Grupo Operativo']).tolist()\n",
    "lista_grupo"
   ]
  },
  {
   "cell_type": "code",
   "execution_count": 37,
   "metadata": {},
   "outputs": [],
   "source": [
    "# Filtro para S&WE - SWE\n",
    "#clean_grupo = df4[(df4['Grupo Operativo'] != 'S&WE - SWE ')].index\n",
    "#Delete these row indexes from dataFrame\n",
    "#df4.drop(clean_grupo, inplace=True)"
   ]
  },
  {
   "cell_type": "code",
   "execution_count": 38,
   "metadata": {},
   "outputs": [],
   "source": [
    "#fecha=[]\n",
    "#for e in df4['Fecha de creación']:\n",
    "    #date_list = e.split()\n",
    "    #date_list.remove(date_list[-1])\n",
    "    #fecha.append(date_list)"
   ]
  },
  {
   "cell_type": "code",
   "execution_count": 39,
   "metadata": {},
   "outputs": [],
   "source": [
    "#fecha2=[]\n",
    "#for e in fecha:\n",
    "    #fecha2.append(listToString(e))  "
   ]
  },
  {
   "cell_type": "code",
   "execution_count": 40,
   "metadata": {},
   "outputs": [],
   "source": [
    "#df4['Fecha de creación']=fecha2\n"
   ]
  },
  {
   "cell_type": "code",
   "execution_count": 41,
   "metadata": {},
   "outputs": [],
   "source": [
    "df4 = df4.rename(columns={'Nombre del observador':'Nombre completo OBSERVADOR'})\n"
   ]
  },
  {
   "cell_type": "code",
   "execution_count": 42,
   "metadata": {},
   "outputs": [],
   "source": [
    "#Creamos una lista con las preguntas de las SW\n",
    "list_preguntas=['1. ¿Mente en la tarea?',\n",
    "       '2. ¿Ojos puestos en la tarea?', '3. ¿Utiliza el equipo correctamente?',\n",
    "       '4. ¿Realiza la tarea sin apresurarse?', '5. ¿Usa el EPI definido?',\n",
    "       '6. ¿Sigue procedimientos de trabajo seguros?',\n",
    "       '7. Se obtiene la autorización ...',\n",
    "       '8. Verifica el entorno de trabajo, 2 min para mi seguridad',\n",
    "       '9. El personal actuó con seguridad para la tarea observada.',\n",
    "       '10.Conoce la Ruta de Evaluación de Emergencias y el Punto de Reunión',\n",
    "       '11. La persona es consciente de la necesidad de reportar Cuasi Accidentes y Condiciones Inseguras?.',\n",
    "       '12. El personal deja de trabajar si la situación no es segura.',\n",
    "       '13. El personal esta capacitado y suficientemente formado para la Tarea.',\n",
    "       '14. Los EPIS definidos son adecuados y se usan correctamente.',\n",
    "       '15. los EPIS estan en buen estado, bien mantenidos y se almacenan correctamente.',\n",
    "       '16. Buena limpieza del área de trabajo',\n",
    "       '17. Área libre de riesgos de resbalones, tropiezos y caídas',\n",
    "       '18. Pasillos, salidas de emergencia y equipos de emergencia no estan obstruidos.',\n",
    "       '19. Derrames controlados',\n",
    "       '20. Todos los contenedores en uso y en el área están etiquetados.',\n",
    "       '21. Sin ruidos, polvo ni olores',\n",
    "       '22. Las sustancias peligrosas se almacenan adecuadamente',\n",
    "       '23. El área de trabajo está protegida contra riesgos',\n",
    "       '24. Iluminación y ventilación suficientes.',\n",
    "       '25. Uso de equipos intrínsecamente seguro.',\n",
    "       '26. Protección de la maquina o señal de bloqueo-etiquetado disponible',\n",
    "       '27. El andamio o la escalera son seguros para su uso.']"
   ]
  },
  {
   "cell_type": "code",
   "execution_count": 43,
   "metadata": {},
   "outputs": [],
   "source": [
    "#Realizamos a  todas las columnas y sustituimos los elementos vacios por N/A.\n",
    "df4[list_preguntas] = df4[list_preguntas].fillna('N/A')"
   ]
  },
  {
   "cell_type": "code",
   "execution_count": 44,
   "metadata": {},
   "outputs": [
    {
     "data": {
      "text/plain": [
       "Index(['PAIS', 'EMPRESA', 'RAZON SOCIAL', 'CIF', 'CODIGO FLEX EMPRESA',\n",
       "       'CODIGO GPCN', 'PRIMER APELLIDO', 'SEGUNDO APELLIDO', 'NOMBRE',\n",
       "       'FECHA NACIMIENTO', 'Nº FLEX', 'CODIGO SF', 'MAIL TRABAJADOR',\n",
       "       'FECHA ANTIGUEDAD', 'NIF', 'SEXO', 'MODALIDAD DEL CONTRATO', 'NIVEL1',\n",
       "       'NIVEL2', 'NIVEL3', 'PC', 'OFICINA FISICA', 'CODIGO FLEX OFICINA',\n",
       "       'CATEGORIA / PUESTO', 'CONVENIO', 'NIVEL SALARIAL', 'FTE',\n",
       "       'GRUPO COSTE', 'MANAGER', 'Nº S.S.', 'GRUPO COTIZACION',\n",
       "       'CENTRO DE COTIZACION', 'RESPONSABLE PC',\n",
       "       'APROBADOR PORTAL DEL EMPLEADO', 'MAIL APROBADOR',\n",
       "       'SEGUNDO APROBADOR COMPRAS', 'MAIL SEGUNDO APROV. COMPRAS',\n",
       "       'Unnamed: 37', 'Unnamed: 38', 'HC y FTE (sin contar ETT)',\n",
       "       'Unnamed: 40', 'Unnamed: 41', 'Unnamed: 42',\n",
       "       'FTE GRUPO DE COSTE (sin contar ETT)', 'Unnamed: 44', 'Unnamed: 45',\n",
       "       'Unnamed: 46', 'Unnamed: 47', 'Unnamed: 48', 'FTE MANAGERS',\n",
       "       'Unnamed: 50', 'Unnamed: 51', 'Unnamed: 52',\n",
       "       'INDEFINIDOS MENSUALES (sin contar ETT)', 'Unnamed: 54', 'Unnamed: 55',\n",
       "       'Unnamed: 56', 'Unnamed: 57'],\n",
       "      dtype='object')"
      ]
     },
     "execution_count": 44,
     "metadata": {},
     "output_type": "execute_result"
    }
   ],
   "source": [
    "#Carga el excel de los datos de los empleados del archívo HC (datos de las SW)\n",
    "df_empleados= pd.read_excel('/home/antonio/Documentos/BV/SW_informe_dataCleaning/Data/Resumen HC Enero 2021.xlsx',engine='openpyxl',sheet_name='HC ENERO')\n",
    "df_empleados.columns"
   ]
  },
  {
   "cell_type": "code",
   "execution_count": 45,
   "metadata": {},
   "outputs": [],
   "source": [
    "#Sustituimos el los nombres sin segundo apellido por un  \".\".\n",
    "df_empleados['SEGUNDO APELLIDO'] = df_empleados['SEGUNDO APELLIDO'].fillna('.')"
   ]
  },
  {
   "cell_type": "code",
   "execution_count": 46,
   "metadata": {},
   "outputs": [],
   "source": [
    "#Creamos un nuevo df con el filtro de NO ESPAÑA(Portugal) y Segundo apellido \".\"\n",
    "clean_country_PORTUGAL = df_empleados[(df_empleados['PAIS'] != 'ESPAÑA')& (df_empleados['SEGUNDO APELLIDO'] != '.')]"
   ]
  },
  {
   "cell_type": "code",
   "execution_count": 47,
   "metadata": {},
   "outputs": [
    {
     "name": "stderr",
     "output_type": "stream",
     "text": [
      "/home/antonio/.local/lib/python3.6/site-packages/ipykernel_launcher.py:2: SettingWithCopyWarning: \n",
      "A value is trying to be set on a copy of a slice from a DataFrame.\n",
      "Try using .loc[row_indexer,col_indexer] = value instead\n",
      "\n",
      "See the caveats in the documentation: https://pandas.pydata.org/pandas-docs/stable/user_guide/indexing.html#returning-a-view-versus-a-copy\n",
      "  \n"
     ]
    }
   ],
   "source": [
    "#Sustituimos la columna de primer apellido por la de segundo apellido\n",
    "clean_country_PORTUGAL['PRIMER APELLIDO']=clean_country_PORTUGAL['SEGUNDO APELLIDO']"
   ]
  },
  {
   "cell_type": "code",
   "execution_count": 48,
   "metadata": {},
   "outputs": [
    {
     "name": "stderr",
     "output_type": "stream",
     "text": [
      "/home/antonio/.local/lib/python3.6/site-packages/ipykernel_launcher.py:2: SettingWithCopyWarning: \n",
      "A value is trying to be set on a copy of a slice from a DataFrame.\n",
      "Try using .loc[row_indexer,col_indexer] = value instead\n",
      "\n",
      "See the caveats in the documentation: https://pandas.pydata.org/pandas-docs/stable/user_guide/indexing.html#returning-a-view-versus-a-copy\n",
      "  \n"
     ]
    }
   ],
   "source": [
    "# Modificamos toda la columna de segundo apellido por \".\"\n",
    "clean_country_PORTUGAL['SEGUNDO APELLIDO']='.'"
   ]
  },
  {
   "cell_type": "code",
   "execution_count": 49,
   "metadata": {},
   "outputs": [],
   "source": [
    "#concatenamos el df de empleados con el que hemos creado y modificado\n",
    "df_empleados = pd.concat([df_empleados, clean_country_PORTUGAL],ignore_index=True)\n"
   ]
  },
  {
   "cell_type": "code",
   "execution_count": 50,
   "metadata": {},
   "outputs": [],
   "source": [
    "#creamos una columna uniendo Nombre+primerapellido+segundoapellido\n",
    "df_empleados['Nombre completo OBSERVADOR'] = df_empleados['NOMBRE'] + \" \" + df_empleados['PRIMER APELLIDO']+ \" \" +df_empleados['SEGUNDO APELLIDO']"
   ]
  },
  {
   "cell_type": "code",
   "execution_count": 51,
   "metadata": {},
   "outputs": [],
   "source": [
    "#Pasamos a mayúsculas la nueva columna creada.\n",
    "df_empleados['Nombre completo OBSERVADOR']=df_empleados['Nombre completo OBSERVADOR'].str.upper()\n"
   ]
  },
  {
   "cell_type": "code",
   "execution_count": 52,
   "metadata": {},
   "outputs": [],
   "source": [
    "#creamos un nuevo df con los nombres que aparecen en la lista de los empleados que tienen que hacer las sw en 2021.\n",
    "df_empleados=df_empleados[df_empleados['Nombre completo OBSERVADOR'].isin(col_one_list)]"
   ]
  },
  {
   "cell_type": "code",
   "execution_count": 53,
   "metadata": {},
   "outputs": [
    {
     "data": {
      "text/plain": [
       "137"
      ]
     },
     "execution_count": 53,
     "metadata": {},
     "output_type": "execute_result"
    }
   ],
   "source": [
    "len(df_empleados['Nombre completo OBSERVADOR'])"
   ]
  },
  {
   "cell_type": "code",
   "execution_count": 54,
   "metadata": {},
   "outputs": [],
   "source": [
    "#Guardamos como \"empleados_limpios\" el df_emplados en Excel.\n",
    "df_empleados.to_excel('/home/antonio/Documentos/BV/SW_informe_dataCleaning/Data/prueba_py.xlsx')"
   ]
  },
  {
   "cell_type": "code",
   "execution_count": 55,
   "metadata": {},
   "outputs": [],
   "source": [
    "#Combina los 2 archivos EXCEL por el Nombre del empleado\n",
    "SW2021=pd.merge(df4, df_empleados, on='Nombre completo OBSERVADOR', how='outer')"
   ]
  },
  {
   "cell_type": "code",
   "execution_count": 56,
   "metadata": {},
   "outputs": [
    {
     "data": {
      "text/plain": [
       "190"
      ]
     },
     "execution_count": 56,
     "metadata": {},
     "output_type": "execute_result"
    }
   ],
   "source": [
    "len(SW2021['Nombre completo OBSERVADOR'])"
   ]
  },
  {
   "cell_type": "code",
   "execution_count": 57,
   "metadata": {},
   "outputs": [
    {
     "data": {
      "text/plain": [
       "0      False\n",
       "1      False\n",
       "2      False\n",
       "3      False\n",
       "4      False\n",
       "       ...  \n",
       "185    False\n",
       "186    False\n",
       "187    False\n",
       "188    False\n",
       "189    False\n",
       "Name: ESTADO DEL EMPLEADO, Length: 190, dtype: bool"
      ]
     },
     "execution_count": 57,
     "metadata": {},
     "output_type": "execute_result"
    }
   ],
   "source": [
    "SW2021['ESTADO DEL EMPLEADO'] = SW2021['PAIS'].isnull()\n",
    "SW2021['ESTADO DEL EMPLEADO']"
   ]
  },
  {
   "cell_type": "code",
   "execution_count": 58,
   "metadata": {},
   "outputs": [],
   "source": [
    "#reemplaza True por Baja y False por Activo.\n",
    "SW2021['ESTADO DEL EMPLEADO'] =SW2021['ESTADO DEL EMPLEADO'].replace({True: 'Baja',False: 'Activo',})"
   ]
  },
  {
   "cell_type": "code",
   "execution_count": 59,
   "metadata": {},
   "outputs": [
    {
     "data": {
      "text/plain": [
       "array(['Activo', 'Baja'], dtype=object)"
      ]
     },
     "execution_count": 59,
     "metadata": {},
     "output_type": "execute_result"
    }
   ],
   "source": [
    "SW2021['ESTADO DEL EMPLEADO'].unique()"
   ]
  },
  {
   "cell_type": "code",
   "execution_count": 60,
   "metadata": {},
   "outputs": [],
   "source": [
    "#SW2021['Fecha de creación'] = SW2021['Fecha de creación'].fillna('No realizada')"
   ]
  },
  {
   "cell_type": "code",
   "execution_count": 61,
   "metadata": {},
   "outputs": [
    {
     "data": {
      "text/plain": [
       "dtype('O')"
      ]
     },
     "execution_count": 61,
     "metadata": {},
     "output_type": "execute_result"
    }
   ],
   "source": [
    "SW2021['Fecha de creación'].dtypes"
   ]
  },
  {
   "cell_type": "code",
   "execution_count": 62,
   "metadata": {},
   "outputs": [
    {
     "data": {
      "text/plain": [
       "array(['feb', 'ene', nan], dtype=object)"
      ]
     },
     "execution_count": 62,
     "metadata": {},
     "output_type": "execute_result"
    }
   ],
   "source": [
    "#Extraemos de la fecha de la columna \"fecha de creación\" el mes en este caso \"ene\" y lo guardamos \n",
    "#en una nueva columna llamada \"Mes\"\n",
    "SW2021['Mes']=SW2021['Fecha de creación'].str.extract(r'([a-z]+)')\n",
    "SW2021['Mes'].unique()\n"
   ]
  },
  {
   "cell_type": "code",
   "execution_count": 63,
   "metadata": {},
   "outputs": [
    {
     "data": {
      "text/plain": [
       "array(['COORDINADOR 1', 'MANAGER', nan, 'COORDINADOR 2',\n",
       "       'GESTOR DE PROYECTOS 2', 'Coordinador', 'INSPECTOR 4', 'DELEGADO',\n",
       "       'QHSE', 'GESTOR DE PROYECTOS 1', 'TECNICO PRL 2', 'Presidente',\n",
       "       'Manager', 'INGENIEROS, ARQ .Y LCDO', 'JEFE DE OPERACIONES',\n",
       "       'INSPECTOR 1', 'DIRECTOR DE AGRI', 'DIRECTOR DE M+M',\n",
       "       'DIRECTOR TECNICO LABORATORIO', 'JEFE/A DE LABORATORIO',\n",
       "       'Inspector IND 2', 'Coordenador Actividade 1',\n",
       "       'Coordenador Actividade 3', 'Coordenador Actividade 2',\n",
       "       'Técnico IND 2', 'Diretor M&M', 'Analista Tecnico Lab MM',\n",
       "       'Coordenador Sines', 'Analista Tecnico Lab OP',\n",
       "       'Coordenador Lisboa', 'Coordenador Setubal', 'Director Operações'],\n",
       "      dtype=object)"
      ]
     },
     "execution_count": 63,
     "metadata": {},
     "output_type": "execute_result"
    }
   ],
   "source": [
    "SW2021['CATEGORIA / PUESTO'].unique()"
   ]
  },
  {
   "cell_type": "markdown",
   "metadata": {},
   "source": [
    "coordinador=['COORDINADOR 2','COORDINADOR DE CALIDAD', 'COORDINADOR DE FACTURACION','COORDINADOR 1','COORD. SEG & SALUD','COORDINADOR DE COMPRAS_x000D_\\n',\n",
    "           'Coordenador Actividade 3','Coordenador Actividade 2','Coordenador Actividade 1','Coordenador Sines','Coordenador Lisboa','Coordenador Setubal','GESTOR DE PROYECTOS 1',\n",
    "            'TECNICO PRL 2','Coordinador']\n",
    "manager=['MANAGER','PC MANAGER','Manager']"
   ]
  },
  {
   "cell_type": "code",
   "execution_count": 64,
   "metadata": {},
   "outputs": [
    {
     "data": {
      "text/plain": [
       "array([nan, 'Manager'], dtype=object)"
      ]
     },
     "execution_count": 64,
     "metadata": {},
     "output_type": "execute_result"
    }
   ],
   "source": [
    "SW2021['MANAGER'].unique()"
   ]
  },
  {
   "cell_type": "code",
   "execution_count": 65,
   "metadata": {},
   "outputs": [],
   "source": [
    "columna_categoria=[]\n",
    "for e in SW2021['MANAGER']:\n",
    "    if e == 'Manager':\n",
    "        columna_categoria.append(\"MANAGER\")\n",
    "        \n",
    "    else:\n",
    "        columna_categoria.append(\"COORDINADOR\")\n",
    "    \n",
    "          \n",
    "   "
   ]
  },
  {
   "cell_type": "code",
   "execution_count": 66,
   "metadata": {},
   "outputs": [],
   "source": [
    "SW2021['MANAGER/COORDINADOR']=columna_categoria"
   ]
  },
  {
   "cell_type": "code",
   "execution_count": 67,
   "metadata": {},
   "outputs": [
    {
     "data": {
      "text/plain": [
       "array(['COORDINADOR', 'MANAGER'], dtype=object)"
      ]
     },
     "execution_count": 67,
     "metadata": {},
     "output_type": "execute_result"
    }
   ],
   "source": [
    "SW2021['MANAGER/COORDINADOR'].unique()"
   ]
  },
  {
   "cell_type": "code",
   "execution_count": 68,
   "metadata": {},
   "outputs": [
    {
     "data": {
      "text/plain": [
       "array(['ENV', 'CTC', 'ISV', 'STF', 'HSE', nan, 'SALES&MARKETING', 'IND',\n",
       "       'CER', 'OIL & PETROL', 'HSE Endesa', 'MANAGEMENT', 'AGRICOLA',\n",
       "       'METAL & MINERAL', 'ISO17025', 'HUMAN RESOURCES', 'TQR', 'OFFICE'],\n",
       "      dtype=object)"
      ]
     },
     "execution_count": 68,
     "metadata": {},
     "output_type": "execute_result"
    }
   ],
   "source": [
    "\n",
    "SW2021['NIVEL3'].unique()"
   ]
  },
  {
   "cell_type": "code",
   "execution_count": 69,
   "metadata": {},
   "outputs": [],
   "source": [
    "\n",
    "operacional=['CER', 'GTS', 'NS', 'BVN',\n",
    "       'IoperacionalSO 17021/65', 'NC', 'VOC', 'HSE', 'IAA', 'C&O', 'TRAINING',\n",
    "       'IND', 'VOC MARRUECOS', 'ICA', 'STF', 'OIL & PETROL', 'ISV',\n",
    "       'METAL & MINERAL', 'AGRICOLA', 'CTC', 'ISO17020', 'ENV', 'TQR', 'HSI', 'ISO17025', \n",
    "          'HSE Endesa','VDT' ]\n",
    "\n",
    "\n",
    "sales=['SALES','SALES&MARKETING']\n",
    "\n",
    "soporte=['INFORMATION TECHNOLOGY','FINANCE','MANAGEMENT','HUMAN RESOURCES','OFFICE','LEGAL' 'INFORMATION SYSTEM','PURCHASING & G.S.',\n",
    "         'CREDIT COLLECTION','GIS']\n",
    "\n",
    "\n",
    "   \n",
    "    \n",
    "        "
   ]
  },
  {
   "cell_type": "code",
   "execution_count": 70,
   "metadata": {},
   "outputs": [],
   "source": [
    "columna_familia=[]\n",
    "for e in SW2021['NIVEL3']:\n",
    "    if e in operacional:\n",
    "        columna_familia.append(\"OPERACIONAL\")\n",
    "    elif e in sales:\n",
    "        columna_familia.append(\"SALES\")\n",
    "    elif e in soporte:\n",
    "        columna_familia.append(\"SOPORTE\")\n",
    "    elif e not in operacional or sales or soporte:\n",
    "        columna_familia.append(\"NIVEL 3 No definido\")"
   ]
  },
  {
   "cell_type": "code",
   "execution_count": 71,
   "metadata": {},
   "outputs": [],
   "source": [
    "SW2021['FAMILIA']=columna_familia"
   ]
  },
  {
   "cell_type": "code",
   "execution_count": 72,
   "metadata": {},
   "outputs": [
    {
     "data": {
      "text/plain": [
       "array(['OPERACIONAL', 'NIVEL 3 No definido', 'SALES', 'SOPORTE'],\n",
       "      dtype=object)"
      ]
     },
     "execution_count": 72,
     "metadata": {},
     "output_type": "execute_result"
    }
   ],
   "source": [
    "SW2021['FAMILIA'].unique()"
   ]
  },
  {
   "cell_type": "code",
   "execution_count": 73,
   "metadata": {},
   "outputs": [],
   "source": [
    "#creamos un nuevo Df con las columnas de la union entre DF_empleados y el archívo de las SW.\n",
    "SW_MES=SW2021[['Nombre completo OBSERVADOR','ESTADO DEL EMPLEADO','MANAGER/COORDINADOR', 'FAMILIA','PAIS', 'EMPRESA', 'RAZON SOCIAL', 'CIF', 'CODIGO FLEX EMPRESA',\n",
    "       'CODIGO GPCN', 'PRIMER APELLIDO', 'SEGUNDO APELLIDO', 'NOMBRE',\n",
    "       'FECHA NACIMIENTO', 'Nº FLEX', 'CODIGO SF', 'MAIL TRABAJADOR',\n",
    "       'FECHA ANTIGUEDAD', 'NIF', 'SEXO', 'MODALIDAD DEL CONTRATO', 'NIVEL1',\n",
    "       'NIVEL2', 'NIVEL3', 'PC', 'OFICINA FISICA', 'CODIGO FLEX OFICINA',\n",
    "       'CATEGORIA / PUESTO', 'CONVENIO', 'NIVEL SALARIAL', 'FTE',\n",
    "       'GRUPO COSTE', 'MANAGER', 'Nº S.S.', 'GRUPO COTIZACION',\n",
    "       'CENTRO DE COTIZACION', 'RESPONSABLE PC',\n",
    "       'APROBADOR PORTAL DEL EMPLEADO', 'MAIL APROBADOR',\n",
    "       'SEGUNDO APROBADOR COMPRAS', 'index', 'Número', 'Fecha de creación','Mes', 'Nombre de la persona o personas observadas', 'Grupo Operativo', 'País',\n",
    "       'Entidad', 'Sitio', 'Nombre del sitio de BV', 'Nombre del cliente',\n",
    "       'Dirección del sitio','1. ¿Mente en la tarea?',\n",
    "       '2. ¿Ojos puestos en la tarea?', '3. ¿Utiliza el equipo correctamente?',\n",
    "       '4. ¿Realiza la tarea sin apresurarse?', '5. ¿Usa el EPI definido?',\n",
    "       '6. ¿Sigue procedimientos de trabajo seguros?',\n",
    "       '7. Se obtiene la autorización ...',\n",
    "       '8. Verifica el entorno de trabajo, 2 min para mi seguridad',\n",
    "       '9. El personal actuó con seguridad para la tarea observada.',\n",
    "       '10.Conoce la Ruta de Evaluación de Emergencias y el Punto de Reunión',\n",
    "       '11. La persona es consciente de la necesidad de reportar Cuasi Accidentes y Condiciones Inseguras?.',\n",
    "       '12. El personal deja de trabajar si la situación no es segura.',\n",
    "       '13. El personal esta capacitado y suficientemente formado para la Tarea.',\n",
    "       '14. Los EPIS definidos son adecuados y se usan correctamente.',\n",
    "       '15. los EPIS estan en buen estado, bien mantenidos y se almacenan correctamente.',\n",
    "       '16. Buena limpieza del área de trabajo',\n",
    "       '17. Área libre de riesgos de resbalones, tropiezos y caídas',\n",
    "       '18. Pasillos, salidas de emergencia y equipos de emergencia no estan obstruidos.',\n",
    "       '19. Derrames controlados',\n",
    "       '20. Todos los contenedores en uso y en el área están etiquetados.',\n",
    "       '21. Sin ruidos, polvo ni olores',\n",
    "       '22. Las sustancias peligrosas se almacenan adecuadamente',\n",
    "       '23. El área de trabajo está protegida contra riesgos',\n",
    "       '24. Iluminación y ventilación suficientes.',\n",
    "       '25. Uso de equipos intrínsecamente seguro.',\n",
    "       '26. Protección de la maquina o señal de bloqueo-etiquetado disponible',\n",
    "       '27. El andamio o la escalera son seguros para su uso.',\n",
    "       '¿Usé mi autorización para detener el trabajo?',\n",
    "       'Comentarios / Plan de acción']]"
   ]
  },
  {
   "cell_type": "code",
   "execution_count": 74,
   "metadata": {},
   "outputs": [],
   "source": [
    "SW_MES=SW_MES.assign(eneP='',Acum_Ene='',febP='',Acum_Feb='',marP='',Acum_Mar='',abrP='',Acum_Abr='',mayP='',Acum_May='',\n",
    "       junP='',Acum_Jun='',julP='',Acum_Jul='',agoP='',Acum_Ago='',sepP='',Acum_Sep='',octP='',Acum_Oct='',\n",
    "        novP='',Acum_Nov='',dicP='',Acum_Dic='')"
   ]
  },
  {
   "cell_type": "code",
   "execution_count": 75,
   "metadata": {},
   "outputs": [
    {
     "data": {
      "text/plain": [
       "Index(['Nombre completo OBSERVADOR', 'ESTADO DEL EMPLEADO',\n",
       "       'MANAGER/COORDINADOR', 'FAMILIA', 'PAIS', 'EMPRESA', 'RAZON SOCIAL',\n",
       "       'CIF', 'CODIGO FLEX EMPRESA', 'CODIGO GPCN',\n",
       "       ...\n",
       "       'agoP', 'Acum_Ago', 'sepP', 'Acum_Sep', 'octP', 'Acum_Oct', 'novP',\n",
       "       'Acum_Nov', 'dicP', 'Acum_Dic'],\n",
       "      dtype='object', length=105)"
      ]
     },
     "execution_count": 75,
     "metadata": {},
     "output_type": "execute_result"
    }
   ],
   "source": [
    "SW_MES.columns"
   ]
  },
  {
   "cell_type": "code",
   "execution_count": 76,
   "metadata": {},
   "outputs": [],
   "source": [
    "del Lista_sw2['CRUCE']"
   ]
  },
  {
   "cell_type": "code",
   "execution_count": 77,
   "metadata": {},
   "outputs": [],
   "source": [
    "dict_names = Lista_sw2.to_dict()"
   ]
  },
  {
   "cell_type": "code",
   "execution_count": 78,
   "metadata": {},
   "outputs": [],
   "source": [
    "df_nombres= pd.read_excel('/home/antonio/Documentos/BV/SW_informe_dataCleaning/Data/LISTA SW.xlsx', engine='openpyxl')\n"
   ]
  },
  {
   "cell_type": "code",
   "execution_count": 79,
   "metadata": {},
   "outputs": [],
   "source": [
    "def fun_to_apply(name):\n",
    "    area_dict = dict(zip(df_nombres['Nombres de los que hacen SW'], df_nombres['objetivo año']))\n",
    "    if name in area_dict:\n",
    "            return area_dict[name]\n",
    "    else:\n",
    "            return 0\n",
    "        "
   ]
  },
  {
   "cell_type": "code",
   "execution_count": 80,
   "metadata": {},
   "outputs": [],
   "source": [
    "SW_MES['Objetivo 2021']  = SW_MES['Nombre completo OBSERVADOR'].apply(lambda x: fun_to_apply(x))\n",
    "\n",
    "\n"
   ]
  },
  {
   "cell_type": "code",
   "execution_count": 81,
   "metadata": {},
   "outputs": [
    {
     "data": {
      "text/plain": [
       "190"
      ]
     },
     "execution_count": 81,
     "metadata": {},
     "output_type": "execute_result"
    }
   ],
   "source": [
    "len(SW_MES['Objetivo 2021'])"
   ]
  },
  {
   "cell_type": "code",
   "execution_count": 82,
   "metadata": {},
   "outputs": [],
   "source": [
    "#dict_names2=area_dict = dict(zip(Lista_sw2['Nombres de los que hacen SW'], Lista_sw2['objetivo año']))"
   ]
  },
  {
   "cell_type": "code",
   "execution_count": 83,
   "metadata": {},
   "outputs": [],
   "source": [
    "meses=['ene','feb','mar','abr','may','jun','jul','ago','sep','oct','nov','dic']"
   ]
  },
  {
   "cell_type": "code",
   "execution_count": 84,
   "metadata": {},
   "outputs": [],
   "source": [
    "SW_MES.to_excel('/home/antonio/Documentos/BV/SW_informe_dataCleaning/Data/empleados_limpios.xlsx')"
   ]
  },
  {
   "cell_type": "code",
   "execution_count": 85,
   "metadata": {},
   "outputs": [],
   "source": [
    "import numpy as np"
   ]
  },
  {
   "cell_type": "code",
   "execution_count": 86,
   "metadata": {},
   "outputs": [],
   "source": [
    "objetivos_doce_al_año=[ 'eneP', 'febP', 'marP',\n",
    "        'abrP',  'mayP',  'junP','julP',  'agoP', 'sepP', 'octP', 'novP', 'dicP']"
   ]
  },
  {
   "cell_type": "code",
   "execution_count": 87,
   "metadata": {},
   "outputs": [],
   "source": [
    "SW_MES['eneP'] = np.where((SW_MES['Objetivo 2021'] == 12), 1, 0)"
   ]
  },
  {
   "cell_type": "code",
   "execution_count": 88,
   "metadata": {},
   "outputs": [],
   "source": [
    "SW_MES['febP'] = np.where((SW_MES['Objetivo 2021'] == 12), 1, 0)"
   ]
  },
  {
   "cell_type": "code",
   "execution_count": 89,
   "metadata": {},
   "outputs": [],
   "source": [
    "SW_MES['marP'] = np.where((SW_MES['Objetivo 2021'] == 12), 1, 0)"
   ]
  },
  {
   "cell_type": "code",
   "execution_count": 90,
   "metadata": {},
   "outputs": [],
   "source": [
    "SW_MES['abrP'] = np.where((SW_MES['Objetivo 2021'] == 12), 1, 0)"
   ]
  },
  {
   "cell_type": "code",
   "execution_count": 91,
   "metadata": {},
   "outputs": [],
   "source": [
    "SW_MES['mayP'] = np.where((SW_MES['Objetivo 2021'] == 12), 1, 0)"
   ]
  },
  {
   "cell_type": "code",
   "execution_count": 92,
   "metadata": {},
   "outputs": [],
   "source": [
    "SW_MES['junP'] = np.where((SW_MES['Objetivo 2021'] == 12), 1, 0)"
   ]
  },
  {
   "cell_type": "code",
   "execution_count": 93,
   "metadata": {},
   "outputs": [],
   "source": [
    "SW_MES['julP'] = np.where((SW_MES['Objetivo 2021'] == 12), 1, 0)"
   ]
  },
  {
   "cell_type": "code",
   "execution_count": 94,
   "metadata": {},
   "outputs": [],
   "source": [
    "SW_MES['agoP'] = np.where((SW_MES['Objetivo 2021'] == 12), 1, 0)"
   ]
  },
  {
   "cell_type": "code",
   "execution_count": 95,
   "metadata": {},
   "outputs": [],
   "source": [
    "SW_MES['sepP'] = np.where((SW_MES['Objetivo 2021'] == 12), 1, 0)"
   ]
  },
  {
   "cell_type": "code",
   "execution_count": 96,
   "metadata": {},
   "outputs": [],
   "source": [
    "SW_MES['octP'] = np.where((SW_MES['Objetivo 2021'] == 12), 1, 0)"
   ]
  },
  {
   "cell_type": "code",
   "execution_count": 97,
   "metadata": {},
   "outputs": [],
   "source": [
    "SW_MES['novP'] = np.where((SW_MES['Objetivo 2021'] == 12), 1, 0)"
   ]
  },
  {
   "cell_type": "code",
   "execution_count": 98,
   "metadata": {},
   "outputs": [],
   "source": [
    "#SW_MES['dicP'] = np.where((SW_MES['Objetivo 2021'] == 12), 1, 0)"
   ]
  },
  {
   "cell_type": "code",
   "execution_count": 99,
   "metadata": {},
   "outputs": [],
   "source": [
    "SW_MES['marP'] = np.where((SW_MES['Objetivo 2021'] == 4), 1, 0)"
   ]
  },
  {
   "cell_type": "code",
   "execution_count": 100,
   "metadata": {},
   "outputs": [],
   "source": [
    "SW_MES['junP'] = np.where((SW_MES['Objetivo 2021'] == 4), 1, 0)"
   ]
  },
  {
   "cell_type": "code",
   "execution_count": 101,
   "metadata": {},
   "outputs": [],
   "source": [
    "SW_MES['sepP'] = np.where((SW_MES['Objetivo 2021'] == 4), 1, 0)"
   ]
  },
  {
   "cell_type": "code",
   "execution_count": 102,
   "metadata": {},
   "outputs": [],
   "source": [
    "#SW_MES['dicP'] = np.where((SW_MES['Objetivo 2021'] == 4), 1, 0)"
   ]
  },
  {
   "cell_type": "code",
   "execution_count": 103,
   "metadata": {},
   "outputs": [],
   "source": [
    "SW_MES['dicP'] = np.where((SW_MES['Objetivo 2021'] == 12), 1, 0)"
   ]
  },
  {
   "cell_type": "code",
   "execution_count": 104,
   "metadata": {},
   "outputs": [],
   "source": [
    "SW_MES['dicP'] = np.where((SW_MES['dicP'] == 0), 1, SW_MES['dicP'])"
   ]
  },
  {
   "cell_type": "code",
   "execution_count": 105,
   "metadata": {},
   "outputs": [],
   "source": [
    "SW_MES['Acum_SW']=0"
   ]
  },
  {
   "cell_type": "code",
   "execution_count": 106,
   "metadata": {},
   "outputs": [
    {
     "data": {
      "text/plain": [
       "array(['OPERACIONAL', 'NIVEL 3 No definido', 'SALES', 'SOPORTE'],\n",
       "      dtype=object)"
      ]
     },
     "execution_count": 106,
     "metadata": {},
     "output_type": "execute_result"
    }
   ],
   "source": [
    "SW_MES['FAMILIA'].unique()"
   ]
  },
  {
   "cell_type": "code",
   "execution_count": 107,
   "metadata": {},
   "outputs": [
    {
     "data": {
      "text/plain": [
       "Index(['Nombre completo OBSERVADOR', 'ESTADO DEL EMPLEADO',\n",
       "       'MANAGER/COORDINADOR', 'FAMILIA', 'PAIS', 'EMPRESA', 'RAZON SOCIAL',\n",
       "       'CIF', 'CODIGO FLEX EMPRESA', 'CODIGO GPCN',\n",
       "       ...\n",
       "       'sepP', 'Acum_Sep', 'octP', 'Acum_Oct', 'novP', 'Acum_Nov', 'dicP',\n",
       "       'Acum_Dic', 'Objetivo 2021', 'Acum_SW'],\n",
       "      dtype='object', length=107)"
      ]
     },
     "execution_count": 107,
     "metadata": {},
     "output_type": "execute_result"
    }
   ],
   "source": [
    "SW_MES.columns"
   ]
  },
  {
   "cell_type": "code",
   "execution_count": 108,
   "metadata": {},
   "outputs": [],
   "source": [
    "\n",
    "SW_MES['Mes'] = SW_MES['Mes'].fillna(0)"
   ]
  },
  {
   "cell_type": "code",
   "execution_count": 109,
   "metadata": {},
   "outputs": [],
   "source": [
    "lista_fecha=[]\n",
    "for e in SW_MES['Mes']:\n",
    "    lista_fecha.append(e)"
   ]
  },
  {
   "cell_type": "code",
   "execution_count": 110,
   "metadata": {},
   "outputs": [],
   "source": [
    "SW_MES['Mes']=lista_fecha"
   ]
  },
  {
   "cell_type": "code",
   "execution_count": 111,
   "metadata": {},
   "outputs": [
    {
     "data": {
      "text/plain": [
       "array(['feb', 'ene', 0], dtype=object)"
      ]
     },
     "execution_count": 111,
     "metadata": {},
     "output_type": "execute_result"
    }
   ],
   "source": [
    "SW_MES['Mes'].unique()"
   ]
  },
  {
   "cell_type": "code",
   "execution_count": 112,
   "metadata": {},
   "outputs": [
    {
     "data": {
      "text/plain": [
       "Index(['Nombres de los que hacen SW', 'objetivo año'], dtype='object')"
      ]
     },
     "execution_count": 112,
     "metadata": {},
     "output_type": "execute_result"
    }
   ],
   "source": [
    "Lista_sw2.columns"
   ]
  },
  {
   "cell_type": "code",
   "execution_count": 113,
   "metadata": {},
   "outputs": [],
   "source": [
    "list_fechas=list(SW_MES['Mes'])\n",
    "acum_ene=[]\n",
    "for e in list_fechas:\n",
    "    contador=0\n",
    "    if e == 'ene':\n",
    "        acum_ene.append(contador+1)\n",
    "    else:\n",
    "        acum_ene.append(0)\n",
    "SW_MES['Acum_Ene']=acum_ene"
   ]
  },
  {
   "cell_type": "code",
   "execution_count": 114,
   "metadata": {},
   "outputs": [],
   "source": [
    "acum_feb=[]\n",
    "for e in list_fechas:\n",
    "    contador=0\n",
    "    if e == 'feb':\n",
    "        acum_feb.append(contador+1)\n",
    "    else:\n",
    "        acum_feb.append(0)\n",
    "SW_MES['Acum_Feb']=acum_feb"
   ]
  },
  {
   "cell_type": "code",
   "execution_count": 115,
   "metadata": {},
   "outputs": [],
   "source": [
    "acum_mar=[]\n",
    "for e in list_fechas:\n",
    "    contador=0\n",
    "    if e == 'mar':\n",
    "        acum_mar.append(contador+1)\n",
    "    else:\n",
    "        acum_mar.append(0)\n",
    "SW_MES['Acum_Mar']=acum_mar"
   ]
  },
  {
   "cell_type": "code",
   "execution_count": 116,
   "metadata": {},
   "outputs": [],
   "source": [
    "objetivos_doce_al_año=[ 'eneP', 'febP', 'marP',\n",
    "        'abrP',  'mayP',  'junP','julP',  'agoP', 'sepP', 'octP', 'novP', 'dicP']"
   ]
  },
  {
   "cell_type": "code",
   "execution_count": 117,
   "metadata": {},
   "outputs": [],
   "source": [
    "acum_abr=[]\n",
    "for e in list_fechas:\n",
    "    contador=0\n",
    "    if e == 'abr':\n",
    "        acum_abr.append(contador+1)\n",
    "    else:\n",
    "        acum_abr.append(0)\n",
    "SW_MES['Acum_Abr']=acum_abr"
   ]
  },
  {
   "cell_type": "code",
   "execution_count": 118,
   "metadata": {},
   "outputs": [],
   "source": [
    "acum_may=[]\n",
    "for e in list_fechas:\n",
    "    contador=0\n",
    "    if e == 'may':\n",
    "        acum_may.append(contador+1)\n",
    "    else:\n",
    "        acum_may.append(0)\n",
    "SW_MES['Acum_May']=acum_may"
   ]
  },
  {
   "cell_type": "code",
   "execution_count": 119,
   "metadata": {},
   "outputs": [],
   "source": [
    "acum_jun=[]\n",
    "for e in list_fechas:\n",
    "    contador=0\n",
    "    if e == 'jun':\n",
    "        acum_jun.append(contador+1)\n",
    "    else:\n",
    "        acum_jun.append(0)\n",
    "SW_MES['Acum_Jun']=acum_jun"
   ]
  },
  {
   "cell_type": "code",
   "execution_count": 120,
   "metadata": {},
   "outputs": [],
   "source": [
    "acum_jul=[]\n",
    "for e in list_fechas:\n",
    "    contador=0\n",
    "    if e == 'may':\n",
    "        acum_jul.append(contador+1)\n",
    "    else:\n",
    "        acum_jul.append(0)\n",
    "SW_MES['Acum_Jul']=acum_jul"
   ]
  },
  {
   "cell_type": "code",
   "execution_count": 121,
   "metadata": {},
   "outputs": [],
   "source": [
    "acum_ago=[]\n",
    "for e in list_fechas:\n",
    "    contador=0\n",
    "    if e == 'ago':\n",
    "        acum_ago.append(contador+1)\n",
    "    else:\n",
    "        acum_ago.append(0)\n",
    "SW_MES['Acum_Ago']=acum_ago"
   ]
  },
  {
   "cell_type": "code",
   "execution_count": 122,
   "metadata": {},
   "outputs": [],
   "source": [
    "acum_Sep=[]\n",
    "for e in list_fechas:\n",
    "    contador=0\n",
    "    if e == 'sep':\n",
    "        acum_Sep.append(contador+1)\n",
    "    else:\n",
    "        acum_Sep.append(0)\n",
    "SW_MES['Acum_Sep']=acum_Sep"
   ]
  },
  {
   "cell_type": "code",
   "execution_count": 123,
   "metadata": {},
   "outputs": [],
   "source": [
    "acum_oct=[]\n",
    "for e in list_fechas:\n",
    "    contador=0\n",
    "    if e == 'oct':\n",
    "        acum_oct.append(contador+1)\n",
    "    else:\n",
    "        acum_oct.append(0)\n",
    "SW_MES['Acum_Oct']=acum_oct"
   ]
  },
  {
   "cell_type": "code",
   "execution_count": 124,
   "metadata": {},
   "outputs": [],
   "source": [
    "acum_nov=[]\n",
    "for e in list_fechas:\n",
    "    contador=0\n",
    "    if e == 'nov':\n",
    "        acum_nov.append(contador+1)\n",
    "    else:\n",
    "        acum_nov.append(0)\n",
    "SW_MES['Acum_Nov']=acum_nov"
   ]
  },
  {
   "cell_type": "code",
   "execution_count": 125,
   "metadata": {},
   "outputs": [],
   "source": [
    "acum_dic=[]\n",
    "for e in list_fechas:\n",
    "    contador=0\n",
    "    if e == 'dic':\n",
    "        acum_dic.append(contador+1)\n",
    "    else:\n",
    "        acum_dic.append(0)\n",
    "SW_MES['Acum_Dic']=acum_dic"
   ]
  },
  {
   "cell_type": "code",
   "execution_count": 126,
   "metadata": {},
   "outputs": [],
   "source": [
    "SW_MES['Acum_SW']=SW_MES[ 'Acum_Ene']+SW_MES[ 'Acum_Feb']+SW_MES[ 'Acum_Mar']+SW_MES['Acum_Abr']+SW_MES[ 'Acum_May']+SW_MES[ 'Acum_Jun']+SW_MES[ 'Acum_Jul']+SW_MES[ 'Acum_Ago']+SW_MES[ 'Acum_Sep']+SW_MES[ 'Acum_Oct']+SW_MES[ 'Acum_Nov']+SW_MES[ 'Acum_Dic']"
   ]
  },
  {
   "cell_type": "code",
   "execution_count": 127,
   "metadata": {},
   "outputs": [
    {
     "data": {
      "text/plain": [
       "Index(['Nombre completo OBSERVADOR', 'ESTADO DEL EMPLEADO',\n",
       "       'MANAGER/COORDINADOR', 'FAMILIA', 'PAIS', 'EMPRESA', 'RAZON SOCIAL',\n",
       "       'CIF', 'CODIGO FLEX EMPRESA', 'CODIGO GPCN',\n",
       "       ...\n",
       "       'sepP', 'Acum_Sep', 'octP', 'Acum_Oct', 'novP', 'Acum_Nov', 'dicP',\n",
       "       'Acum_Dic', 'Objetivo 2021', 'Acum_SW'],\n",
       "      dtype='object', length=107)"
      ]
     },
     "execution_count": 127,
     "metadata": {},
     "output_type": "execute_result"
    }
   ],
   "source": [
    "SW_MES.columns"
   ]
  },
  {
   "cell_type": "code",
   "execution_count": 128,
   "metadata": {},
   "outputs": [],
   "source": [
    "\n",
    "SW_MES = SW_MES.loc[:,~SW_MES.columns.duplicated()]\n"
   ]
  },
  {
   "cell_type": "code",
   "execution_count": 129,
   "metadata": {},
   "outputs": [],
   "source": [
    "for i in range(len(col_one_list)):\n",
    "    col_one_list[i] = col_one_list[i].upper()  "
   ]
  },
  {
   "cell_type": "code",
   "execution_count": 130,
   "metadata": {},
   "outputs": [
    {
     "data": {
      "text/plain": [
       "0         JESUS SANZ PALOMARES\n",
       "1         JESUS SANZ PALOMARES\n",
       "2         JESUS SANZ PALOMARES\n",
       "3      FERNANDO BANGO DE PRADO\n",
       "4      FERNANDO BANGO DE PRADO\n",
       "                ...           \n",
       "185             DÁRIO MATEUS .\n",
       "186        MARGARIDA PAULINO .\n",
       "187             PAULO SIMÕES .\n",
       "188            RICARDO SOUSA .\n",
       "189            EDGAR VERDADE .\n",
       "Name: Nombre completo OBSERVADOR, Length: 171, dtype: object"
      ]
     },
     "execution_count": 130,
     "metadata": {},
     "output_type": "execute_result"
    }
   ],
   "source": [
    "SW_MES_lista=SW_MES[SW_MES['Nombre completo OBSERVADOR'].isin(col_one_list)]\n",
    "SW_MES_lista['Nombre completo OBSERVADOR'].str.strip().str.lstrip()"
   ]
  },
  {
   "cell_type": "code",
   "execution_count": 131,
   "metadata": {},
   "outputs": [
    {
     "data": {
      "text/plain": [
       "171"
      ]
     },
     "execution_count": 131,
     "metadata": {},
     "output_type": "execute_result"
    }
   ],
   "source": [
    "len(SW_MES_lista['Nombre completo OBSERVADOR'])"
   ]
  },
  {
   "cell_type": "code",
   "execution_count": 132,
   "metadata": {},
   "outputs": [
    {
     "name": "stderr",
     "output_type": "stream",
     "text": [
      "/home/antonio/.local/lib/python3.6/site-packages/ipykernel_launcher.py:1: SettingWithCopyWarning: \n",
      "A value is trying to be set on a copy of a slice from a DataFrame.\n",
      "Try using .loc[row_indexer,col_indexer] = value instead\n",
      "\n",
      "See the caveats in the documentation: https://pandas.pydata.org/pandas-docs/stable/user_guide/indexing.html#returning-a-view-versus-a-copy\n",
      "  \"\"\"Entry point for launching an IPython kernel.\n"
     ]
    }
   ],
   "source": [
    "SW_MES_lista['Nombre completo OBSERVADOR'] = SW_MES_lista['Nombre completo OBSERVADOR'].str.replace('.', '')"
   ]
  },
  {
   "cell_type": "code",
   "execution_count": 133,
   "metadata": {},
   "outputs": [],
   "source": [
    "#Borra los elementos de la columna index y se queda con el primero que encuentra:\n",
    "#SW_MES_lista=SW_MES_lista.drop_duplicates(subset=['index'], keep='first')"
   ]
  },
  {
   "cell_type": "code",
   "execution_count": 134,
   "metadata": {},
   "outputs": [
    {
     "data": {
      "text/plain": [
       "171"
      ]
     },
     "execution_count": 134,
     "metadata": {},
     "output_type": "execute_result"
    }
   ],
   "source": [
    "len(SW_MES_lista['Nombre completo OBSERVADOR'])"
   ]
  },
  {
   "cell_type": "code",
   "execution_count": 135,
   "metadata": {},
   "outputs": [
    {
     "data": {
      "text/plain": [
       "(171, 107)"
      ]
     },
     "execution_count": 135,
     "metadata": {},
     "output_type": "execute_result"
    }
   ],
   "source": [
    "SW_MES_lista.shape"
   ]
  },
  {
   "cell_type": "code",
   "execution_count": 136,
   "metadata": {},
   "outputs": [],
   "source": [
    "SW_MES_lista.to_excel('/home/antonio/Documentos/BV/SW_informe_dataCleaning/Data/SW_MES_lista.xlsx')"
   ]
  },
  {
   "cell_type": "code",
   "execution_count": 137,
   "metadata": {},
   "outputs": [
    {
     "data": {
      "text/plain": [
       "(171, 108)"
      ]
     },
     "execution_count": 137,
     "metadata": {},
     "output_type": "execute_result"
    }
   ],
   "source": [
    "df= pd.read_excel('/home/antonio/Documentos/BV/SW_informe_dataCleaning/Data/SW_MES_lista.xlsx', engine='openpyxl')\n",
    "df.shape"
   ]
  },
  {
   "cell_type": "code",
   "execution_count": 138,
   "metadata": {},
   "outputs": [],
   "source": [
    "listaaanombre=[]\n",
    "listaaobjetivo=[]\n",
    "count=0\n",
    "for e in df['Nombre completo OBSERVADOR']:\n",
    "    if count==171:\n",
    "        break\n",
    "    if e not in listaaanombre:\n",
    "        listaaobjetivo.append(df['Objetivo 2021'][count])\n",
    "        count=count + 1\n",
    "        listaaanombre.append(e)\n",
    "    elif e in listaaanombre:\n",
    "        count=count + 1\n",
    "        listaaobjetivo.append(0)\n",
    "        listaaanombre.append(0)"
   ]
  },
  {
   "cell_type": "code",
   "execution_count": 139,
   "metadata": {},
   "outputs": [],
   "source": [
    "df['Objetivos 2021_unicos']=listaaobjetivo"
   ]
  },
  {
   "cell_type": "code",
   "execution_count": 140,
   "metadata": {},
   "outputs": [],
   "source": [
    "del df['Unnamed: 0']"
   ]
  },
  {
   "cell_type": "code",
   "execution_count": 141,
   "metadata": {},
   "outputs": [],
   "source": [
    "df[['1. ¿Mente en la tarea?',\n",
    "       '2. ¿Ojos puestos en la tarea?', '3. ¿Utiliza el equipo correctamente?',\n",
    "       '4. ¿Realiza la tarea sin apresurarse?', '5. ¿Usa el EPI definido?',\n",
    "       '6. ¿Sigue procedimientos de trabajo seguros?',\n",
    "       '7. Se obtiene la autorización ...',\n",
    "       '8. Verifica el entorno de trabajo, 2 min para mi seguridad',\n",
    "       '9. El personal actuó con seguridad para la tarea observada.',\n",
    "       '10.Conoce la Ruta de Evaluación de Emergencias y el Punto de Reunión',\n",
    "       '11. La persona es consciente de la necesidad de reportar Cuasi Accidentes y Condiciones Inseguras?.',\n",
    "       '12. El personal deja de trabajar si la situación no es segura.',\n",
    "       '13. El personal esta capacitado y suficientemente formado para la Tarea.',\n",
    "       '14. Los EPIS definidos son adecuados y se usan correctamente.',\n",
    "       '15. los EPIS estan en buen estado, bien mantenidos y se almacenan correctamente.',\n",
    "       '16. Buena limpieza del área de trabajo',\n",
    "       '17. Área libre de riesgos de resbalones, tropiezos y caídas',\n",
    "       '18. Pasillos, salidas de emergencia y equipos de emergencia no estan obstruidos.',\n",
    "       '19. Derrames controlados',\n",
    "       '20. Todos los contenedores en uso y en el área están etiquetados.',\n",
    "       '21. Sin ruidos, polvo ni olores',\n",
    "       '22. Las sustancias peligrosas se almacenan adecuadamente',\n",
    "       '23. El área de trabajo está protegida contra riesgos',\n",
    "       '24. Iluminación y ventilación suficientes.',\n",
    "       '25. Uso de equipos intrínsecamente seguro.',\n",
    "       '26. Protección de la maquina o señal de bloqueo-etiquetado disponible',\n",
    "       '27. El andamio o la escalera son seguros para su uso.',\n",
    "       '¿Usé mi autorización para detener el trabajo?',\n",
    "       'Comentarios / Plan de acción']] = df[['1. ¿Mente en la tarea?',\n",
    "       '2. ¿Ojos puestos en la tarea?', '3. ¿Utiliza el equipo correctamente?',\n",
    "       '4. ¿Realiza la tarea sin apresurarse?', '5. ¿Usa el EPI definido?',\n",
    "       '6. ¿Sigue procedimientos de trabajo seguros?',\n",
    "       '7. Se obtiene la autorización ...',\n",
    "       '8. Verifica el entorno de trabajo, 2 min para mi seguridad',\n",
    "       '9. El personal actuó con seguridad para la tarea observada.',\n",
    "       '10.Conoce la Ruta de Evaluación de Emergencias y el Punto de Reunión',\n",
    "       '11. La persona es consciente de la necesidad de reportar Cuasi Accidentes y Condiciones Inseguras?.',\n",
    "       '12. El personal deja de trabajar si la situación no es segura.',\n",
    "       '13. El personal esta capacitado y suficientemente formado para la Tarea.',\n",
    "       '14. Los EPIS definidos son adecuados y se usan correctamente.',\n",
    "       '15. los EPIS estan en buen estado, bien mantenidos y se almacenan correctamente.',\n",
    "       '16. Buena limpieza del área de trabajo',\n",
    "       '17. Área libre de riesgos de resbalones, tropiezos y caídas',\n",
    "       '18. Pasillos, salidas de emergencia y equipos de emergencia no estan obstruidos.',\n",
    "       '19. Derrames controlados',\n",
    "       '20. Todos los contenedores en uso y en el área están etiquetados.',\n",
    "       '21. Sin ruidos, polvo ni olores',\n",
    "       '22. Las sustancias peligrosas se almacenan adecuadamente',\n",
    "       '23. El área de trabajo está protegida contra riesgos',\n",
    "       '24. Iluminación y ventilación suficientes.',\n",
    "       '25. Uso de equipos intrínsecamente seguro.',\n",
    "       '26. Protección de la maquina o señal de bloqueo-etiquetado disponible',\n",
    "       '27. El andamio o la escalera son seguros para su uso.',\n",
    "       '¿Usé mi autorización para detener el trabajo?',\n",
    "       'Comentarios / Plan de acción']].fillna('N/A')"
   ]
  },
  {
   "cell_type": "code",
   "execution_count": 142,
   "metadata": {},
   "outputs": [],
   "source": [
    "df_SPM= pd.read_excel('/home/antonio/Documentos/BV/SW_informe_dataCleaning/Data/TECNICO SPM.xlsx', engine='openpyxl')"
   ]
  },
  {
   "cell_type": "code",
   "execution_count": 143,
   "metadata": {},
   "outputs": [],
   "source": [
    "def fun_to_apply(name):\n",
    "    area_dict = dict(zip(df_SPM['NIVEL2'], df_SPM['NOMBRE TECNICO SPM']))\n",
    "    if name in area_dict:\n",
    "            return area_dict[name]\n",
    "    else:\n",
    "            return 'SIN ASIGNAR'"
   ]
  },
  {
   "cell_type": "code",
   "execution_count": 144,
   "metadata": {},
   "outputs": [],
   "source": [
    "df['NOMBRE TECNICO SPM']  = df['NIVEL2'].apply(lambda x: fun_to_apply(x))"
   ]
  },
  {
   "cell_type": "code",
   "execution_count": 145,
   "metadata": {},
   "outputs": [],
   "source": [
    "df.to_excel('/home/antonio/Documentos/BV/SW_informe_dataCleaning/Data/SW_MES_PWB.xlsx')"
   ]
  },
  {
   "cell_type": "code",
   "execution_count": null,
   "metadata": {},
   "outputs": [],
   "source": []
  },
  {
   "cell_type": "code",
   "execution_count": null,
   "metadata": {},
   "outputs": [],
   "source": []
  },
  {
   "cell_type": "code",
   "execution_count": null,
   "metadata": {},
   "outputs": [],
   "source": []
  },
  {
   "cell_type": "code",
   "execution_count": null,
   "metadata": {},
   "outputs": [],
   "source": []
  },
  {
   "cell_type": "code",
   "execution_count": null,
   "metadata": {},
   "outputs": [],
   "source": []
  }
 ],
 "metadata": {
  "kernelspec": {
   "display_name": "Python 3",
   "language": "python",
   "name": "python3"
  },
  "language_info": {
   "codemirror_mode": {
    "name": "ipython",
    "version": 3
   },
   "file_extension": ".py",
   "mimetype": "text/x-python",
   "name": "python",
   "nbconvert_exporter": "python",
   "pygments_lexer": "ipython3",
   "version": "3.6.9"
  }
 },
 "nbformat": 4,
 "nbformat_minor": 4
}
