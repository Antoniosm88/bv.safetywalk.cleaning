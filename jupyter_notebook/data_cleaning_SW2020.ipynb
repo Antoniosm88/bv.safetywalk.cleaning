{
 "cells": [
  {
   "cell_type": "code",
   "execution_count": 1,
   "metadata": {},
   "outputs": [],
   "source": [
    "import pandas as pd\n",
    "import missingno"
   ]
  },
  {
   "cell_type": "code",
   "execution_count": 2,
   "metadata": {},
   "outputs": [
    {
     "data": {
      "text/plain": [
       "Index(['Application: BV Safety', 'Unnamed: 1', 'Unnamed: 2', 'Unnamed: 3',\n",
       "       'Unnamed: 4', 'Unnamed: 5', 'Unnamed: 6', 'Unnamed: 7', 'Unnamed: 8',\n",
       "       'Unnamed: 9', 'Unnamed: 10', 'Unnamed: 11', 'Unnamed: 12',\n",
       "       'Unnamed: 13', 'Unnamed: 14', 'Unnamed: 15', 'Unnamed: 16',\n",
       "       'Unnamed: 17', 'Unnamed: 18', 'Unnamed: 19', 'Unnamed: 20',\n",
       "       'Unnamed: 21', 'Unnamed: 22', 'Unnamed: 23', 'Unnamed: 24',\n",
       "       'Unnamed: 25', 'Unnamed: 26', 'Unnamed: 27', 'Unnamed: 28',\n",
       "       'Unnamed: 29', 'Unnamed: 30', 'Unnamed: 31', 'Unnamed: 32',\n",
       "       'Unnamed: 33', 'Unnamed: 34', 'Unnamed: 35', 'Unnamed: 36',\n",
       "       'Unnamed: 37', 'Unnamed: 38', 'Unnamed: 39'],\n",
       "      dtype='object')"
      ]
     },
     "execution_count": 2,
     "metadata": {},
     "output_type": "execute_result"
    }
   ],
   "source": [
    "#Carga el excel en un Dataframe (datos de las SW)\n",
    "df= pd.read_excel('../Data/BV Safety_All Safety Walks.xlsx',engine='openpyxl')\n",
    "df.columns"
   ]
  },
  {
   "cell_type": "code",
   "execution_count": 3,
   "metadata": {},
   "outputs": [],
   "source": [
    "df1=df.drop([0,1,2,3])"
   ]
  },
  {
   "cell_type": "code",
   "execution_count": 4,
   "metadata": {},
   "outputs": [],
   "source": [
    "new_header = df1.iloc[0] #grab the first row for the header\n",
    "df2 = df1[1:] #take the data less the header row\n",
    "df2.columns = new_header #set the header row as the df header"
   ]
  },
  {
   "cell_type": "code",
   "execution_count": 5,
   "metadata": {},
   "outputs": [],
   "source": [
    "df3=df2.reset_index()"
   ]
  },
  {
   "cell_type": "code",
   "execution_count": 6,
   "metadata": {},
   "outputs": [],
   "source": [
    "df4 = df3.rename(columns = {'Number':'Número',\n",
    "                            'Created Date':'Fecha de creación',\n",
    "                            'Name of the Observer':'Nombre del observador',\n",
    "                            'Name of the Observed Person(s)':'Nombre de la persona o personas observadas',\n",
    "                            'Operating Group':'Grupo Operativo',\n",
    "                            'Country':'País',\n",
    "                            'Entity':'Entidad',\n",
    "                            'Site':'Sitio',\n",
    "                            'BV Site Name':'Nombre del sitio de BV',\n",
    "                            'Client Name':'Nombre del cliente',\n",
    "                            'Site Address':'Dirección del sitio',\n",
    "                            '1. Mind On Task?': '1. ¿Mente en la tarea?', \n",
    "                            '2. Eyes on Task?': '2. ¿Ojos puestos en la tarea?',\n",
    "                            '3. Using equpment properly?': \"3. ¿Utiliza el equipo correctamente?\",\n",
    "                            '4. Performing task while not rushing?': \"4. ¿Realiza la tarea sin apresurarse?\",\n",
    "                            '5. Wearing prescribed PPE?': '5. ¿Usa el EPI definido?',\n",
    "                            '6. Following Safe Working Procedures?':'6. ¿Sigue procedimientos de trabajo seguros?',\n",
    "                            '7. Authorization is obtained...':'7. Se obtiene la autorización ...',\n",
    "                            '8. Check surrounding work areas...':'8. Verifica el entorno de trabajo, 2 min para mi seguridad',\n",
    "                            '9. Personnel acted safely for the task observed':'9. El personal actuó con seguridad para la tarea observada.',\n",
    "                            '10. Aware of the Emergency Evacuation...':'10.Conoce la Ruta de Evaluación de Emergencias y el Punto de Reunión',\n",
    "                            '11. The person is aware of the need to report near hit and unsafe situation.':'11. La persona es consciente de la necesidad de reportar Cuasi Accidentes y Condiciones Inseguras?.',\n",
    "                            '12. Personnel stops Working if the situation is unsafe.':'12. El personal deja de trabajar si la situación no es segura.',\n",
    "                            '13. Personnel is competent and trained...':'13. El personal esta capacitado y suficientemente formado para la Tarea.',\n",
    "                            '14. Adequate and worn correctly the applicable PPE':'14. Los EPIS definidos son adecuados y se usan correctamente.',\n",
    "                            '15. Good conditions, well maintained and properly stored.':'15. los EPIS estan en buen estado, bien mantenidos y se almacenan correctamente.',\n",
    "                            '16. Good housekeeping of the work area...':'16. Buena limpieza del área de trabajo',\n",
    "                            '17. Area Free of Slip Trip and Fall Hazards':'17. Área libre de riesgos de resbalones, tropiezos y caídas',\n",
    "                            '18. Walkways, aisles, emergency exits...':'18. Pasillos, salidas de emergencia y equipos de emergencia no estan obstruidos.',\n",
    "                            '19. Spillage controlled':'19. Derrames controlados',\n",
    "                            '20. All containers in use and in the area are labelled.':'20. Todos los contenedores en uso y en el área están etiquetados.',\n",
    "                            '21. No Noise, Dust, Odor Issues':'21. Sin ruidos, polvo ni olores',\n",
    "                            '22. Hazardous substances are stored properly':'22. Las sustancias peligrosas se almacenan adecuadamente',\n",
    "                            '23. The work area is secured from hazards...':'23. El área de trabajo está protegida contra riesgos',\n",
    "                            '24. Sufficient lighting and ventilation.':'24. Iluminación y ventilación suficientes.',\n",
    "                            '25. Use intrinsically safe equipment...':'25. Uso de equipos intrínsecamente seguro.',\n",
    "                            '26. Machine guarding or Lock-Out-Tag-Out...':'26. Protección de la maquina o señal de bloqueo-etiquetado disponible',\n",
    "                            '27. Scaffold or ladder is safe for use.':'27. El andamio o la escalera son seguros para su uso.',\n",
    "                            'Did I use my Stop Work Authority?':'¿Usé mi autorización para detener el trabajo?',\n",
    "                            'Comments / Action Plan':'Comentarios / Plan de acción'},\n",
    "                            \n",
    "                                             inplace = False)\n",
    "                                        \n",
    "                                        \n",
    "                                        \n",
    "                                        "
   ]
  },
  {
   "cell_type": "code",
   "execution_count": 7,
   "metadata": {},
   "outputs": [],
   "source": [
    "#missingno.heatmap(df4[list_preguntas], figsize=(30,15))"
   ]
  },
  {
   "cell_type": "code",
   "execution_count": 8,
   "metadata": {},
   "outputs": [],
   "source": [
    "nombres=[]\n",
    "for e in df4['Nombre del observador']:\n",
    "    word_list = e.split()\n",
    "    if word_list[-1].isupper()==True:\n",
    "        nombres.append(word_list)\n",
    "    if word_list[-1].isupper()==False:\n",
    "        word_list.remove(word_list[-1])\n",
    "        nombres.append(word_list)"
   ]
  },
  {
   "cell_type": "code",
   "execution_count": 9,
   "metadata": {},
   "outputs": [
    {
     "data": {
      "text/plain": [
       "18215"
      ]
     },
     "execution_count": 9,
     "metadata": {},
     "output_type": "execute_result"
    }
   ],
   "source": [
    "for e in nombres:\n",
    "    if len(e)==2:\n",
    "        e.extend([\".\"])\n",
    "len(nombres)"
   ]
  },
  {
   "cell_type": "code",
   "execution_count": 10,
   "metadata": {},
   "outputs": [],
   "source": [
    "def listToString(s):  \n",
    "    \n",
    "    # initialize an empty string \n",
    "    str1 = \" \" \n",
    "    \n",
    "    # return string   \n",
    "    return (str1.join(s))"
   ]
  },
  {
   "cell_type": "code",
   "execution_count": 11,
   "metadata": {},
   "outputs": [],
   "source": [
    "nombres2=[]\n",
    "for e in nombres:\n",
    "    nombres2.append(listToString(e))  "
   ]
  },
  {
   "cell_type": "code",
   "execution_count": 12,
   "metadata": {},
   "outputs": [
    {
     "data": {
      "text/plain": [
       "18215"
      ]
     },
     "execution_count": 12,
     "metadata": {},
     "output_type": "execute_result"
    }
   ],
   "source": [
    "len(nombres2)"
   ]
  },
  {
   "cell_type": "code",
   "execution_count": 13,
   "metadata": {},
   "outputs": [
    {
     "data": {
      "text/plain": [
       "18215"
      ]
     },
     "execution_count": 13,
     "metadata": {},
     "output_type": "execute_result"
    }
   ],
   "source": [
    "len(df4['Nombre del observador'])"
   ]
  },
  {
   "cell_type": "code",
   "execution_count": 14,
   "metadata": {},
   "outputs": [],
   "source": [
    "#Limpiamos la columna de Nombre completo para poder cruzarlo con el otro DF\n",
    "df4['Nombre del observador']=nombres2\n",
    "df4['Nombre del observador']= df4['Nombre del observador'].str.lower()"
   ]
  },
  {
   "cell_type": "code",
   "execution_count": 15,
   "metadata": {},
   "outputs": [],
   "source": [
    "df4.reset_index(drop=True, inplace=True)"
   ]
  },
  {
   "cell_type": "code",
   "execution_count": 16,
   "metadata": {},
   "outputs": [],
   "source": [
    "lista_pais=pd.unique(df4['País']).tolist()"
   ]
  },
  {
   "cell_type": "code",
   "execution_count": 17,
   "metadata": {},
   "outputs": [],
   "source": [
    "\n",
    "clean_country = df4[(df4['País'] != ' Spain ')& (df4['País'] != ' Portugal ')].index\n",
    "# Delete these row indexes from dataFrame\n",
    "df4.drop(clean_country , inplace=True)"
   ]
  },
  {
   "cell_type": "code",
   "execution_count": 18,
   "metadata": {},
   "outputs": [
    {
     "data": {
      "text/plain": [
       "['CPS ', 'M&O ', 'S&WE - CTD WE ', 'S&WE - SWE ']"
      ]
     },
     "execution_count": 18,
     "metadata": {},
     "output_type": "execute_result"
    }
   ],
   "source": [
    "lista_grupo=pd.unique(df4['Grupo Operativo']).tolist()\n",
    "lista_grupo"
   ]
  },
  {
   "cell_type": "code",
   "execution_count": 19,
   "metadata": {},
   "outputs": [],
   "source": [
    "# Filtro para S&WE - SWE\n",
    "#clean_grupo = df4[(df4['Grupo Operativo'] != 'S&WE - SWE ')].index\n",
    "#Delete these row indexes from dataFrame\n",
    "#df4.drop(clean_grupo, inplace=True)"
   ]
  },
  {
   "cell_type": "code",
   "execution_count": 20,
   "metadata": {},
   "outputs": [],
   "source": [
    "#fecha=[]\n",
    "#for e in df4['Fecha de creación']:\n",
    "    #date_list = e.split()\n",
    "    #date_list.remove(date_list[-1])\n",
    "    #fecha.append(date_list)"
   ]
  },
  {
   "cell_type": "code",
   "execution_count": 21,
   "metadata": {},
   "outputs": [],
   "source": [
    "#fecha2=[]\n",
    "#for e in fecha:\n",
    "    #fecha2.append(listToString(e))  "
   ]
  },
  {
   "cell_type": "code",
   "execution_count": 22,
   "metadata": {},
   "outputs": [],
   "source": [
    "#df4['Fecha de creación']=fecha2\n"
   ]
  },
  {
   "cell_type": "code",
   "execution_count": 23,
   "metadata": {},
   "outputs": [],
   "source": [
    "df4 = df4.rename(columns={'Nombre del observador':'Nombre completo OBSERVADOR'})\n"
   ]
  },
  {
   "cell_type": "code",
   "execution_count": 24,
   "metadata": {},
   "outputs": [
    {
     "data": {
      "text/plain": [
       "Index(['index', 'Número', 'Fecha de creación', 'Nombre completo OBSERVADOR',\n",
       "       'Nombre de la persona o personas observadas', 'Grupo Operativo', 'País',\n",
       "       'Entidad', 'Sitio', 'Nombre del sitio de BV', 'Nombre del cliente',\n",
       "       'Dirección del sitio', '1. ¿Mente en la tarea?',\n",
       "       '2. ¿Ojos puestos en la tarea?', '3. ¿Utiliza el equipo correctamente?',\n",
       "       '4. ¿Realiza la tarea sin apresurarse?', '5. ¿Usa el EPI definido?',\n",
       "       '6. ¿Sigue procedimientos de trabajo seguros?',\n",
       "       '7. Se obtiene la autorización ...',\n",
       "       '8. Verifica el entorno de trabajo, 2 min para mi seguridad',\n",
       "       '9. El personal actuó con seguridad para la tarea observada.',\n",
       "       '10.Conoce la Ruta de Evaluación de Emergencias y el Punto de Reunión',\n",
       "       '11. La persona es consciente de la necesidad de reportar Cuasi Accidentes y Condiciones Inseguras?.',\n",
       "       '12. El personal deja de trabajar si la situación no es segura.',\n",
       "       '13. El personal esta capacitado y suficientemente formado para la Tarea.',\n",
       "       '14. Los EPIS definidos son adecuados y se usan correctamente.',\n",
       "       '15. los EPIS estan en buen estado, bien mantenidos y se almacenan correctamente.',\n",
       "       '16. Buena limpieza del área de trabajo',\n",
       "       '17. Área libre de riesgos de resbalones, tropiezos y caídas',\n",
       "       '18. Pasillos, salidas de emergencia y equipos de emergencia no estan obstruidos.',\n",
       "       '19. Derrames controlados',\n",
       "       '20. Todos los contenedores en uso y en el área están etiquetados.',\n",
       "       '21. Sin ruidos, polvo ni olores',\n",
       "       '22. Las sustancias peligrosas se almacenan adecuadamente',\n",
       "       '23. El área de trabajo está protegida contra riesgos',\n",
       "       '24. Iluminación y ventilación suficientes.',\n",
       "       '25. Uso de equipos intrínsecamente seguro.',\n",
       "       '26. Protección de la maquina o señal de bloqueo-etiquetado disponible',\n",
       "       '27. El andamio o la escalera son seguros para su uso.',\n",
       "       '¿Usé mi autorización para detener el trabajo?',\n",
       "       'Comentarios / Plan de acción'],\n",
       "      dtype='object', name=4)"
      ]
     },
     "execution_count": 24,
     "metadata": {},
     "output_type": "execute_result"
    }
   ],
   "source": [
    "df4.columns"
   ]
  },
  {
   "cell_type": "code",
   "execution_count": 25,
   "metadata": {},
   "outputs": [],
   "source": [
    "for e in df4['Nombre completo OBSERVADOR']:\n",
    "    if len(e.split())==2:\n",
    "        e.split().extend([\".\"])\n",
    "        "
   ]
  },
  {
   "cell_type": "code",
   "execution_count": 26,
   "metadata": {},
   "outputs": [],
   "source": [
    "list_preguntas=['1. ¿Mente en la tarea?',\n",
    "       '2. ¿Ojos puestos en la tarea?', '3. ¿Utiliza el equipo correctamente?',\n",
    "       '4. ¿Realiza la tarea sin apresurarse?', '5. ¿Usa el EPI definido?',\n",
    "       '6. ¿Sigue procedimientos de trabajo seguros?',\n",
    "       '7. Se obtiene la autorización ...',\n",
    "       '8. Verifica el entorno de trabajo, 2 min para mi seguridad',\n",
    "       '9. El personal actuó con seguridad para la tarea observada.',\n",
    "       '10.Conoce la Ruta de Evaluación de Emergencias y el Punto de Reunión',\n",
    "       '11. La persona es consciente de la necesidad de reportar Cuasi Accidentes y Condiciones Inseguras?.',\n",
    "       '12. El personal deja de trabajar si la situación no es segura.',\n",
    "       '13. El personal esta capacitado y suficientemente formado para la Tarea.',\n",
    "       '14. Los EPIS definidos son adecuados y se usan correctamente.',\n",
    "       '15. los EPIS estan en buen estado, bien mantenidos y se almacenan correctamente.',\n",
    "       '16. Buena limpieza del área de trabajo',\n",
    "       '17. Área libre de riesgos de resbalones, tropiezos y caídas',\n",
    "       '18. Pasillos, salidas de emergencia y equipos de emergencia no estan obstruidos.',\n",
    "       '19. Derrames controlados',\n",
    "       '20. Todos los contenedores en uso y en el área están etiquetados.',\n",
    "       '21. Sin ruidos, polvo ni olores',\n",
    "       '22. Las sustancias peligrosas se almacenan adecuadamente',\n",
    "       '23. El área de trabajo está protegida contra riesgos',\n",
    "       '24. Iluminación y ventilación suficientes.',\n",
    "       '25. Uso de equipos intrínsecamente seguro.',\n",
    "       '26. Protección de la maquina o señal de bloqueo-etiquetado disponible',\n",
    "       '27. El andamio o la escalera son seguros para su uso.']"
   ]
  },
  {
   "cell_type": "code",
   "execution_count": 27,
   "metadata": {},
   "outputs": [],
   "source": [
    "df4[list_preguntas] = df4[list_preguntas].fillna('N/A')"
   ]
  },
  {
   "cell_type": "code",
   "execution_count": 28,
   "metadata": {},
   "outputs": [],
   "source": [
    "df4.to_excel('../Data/Safety_Clean.xlsx')"
   ]
  },
  {
   "cell_type": "code",
   "execution_count": 30,
   "metadata": {},
   "outputs": [
    {
     "data": {
      "text/plain": [
       "Index(['PAIS', 'EMPRESA', 'RAZON SOCIAL', 'CIF', 'CODIGO FLEX EMPRESA',\n",
       "       'CODIGO GPCN', 'PRIMER APELLIDO', 'SEGUNDO APELLIDO', 'NOMBRE',\n",
       "       'FECHA NACIMIENTO', 'Nº FLEX', 'CODIGO SF', 'MAIL TRABAJADOR',\n",
       "       'FECHA ANTIGUEDAD', 'NIF', 'SEXO', 'MODALIDAD DEL CONTRATO', 'NIVEL1',\n",
       "       'NIVEL2', 'NIVEL3', 'PC', 'OFICINA FISICA', 'CODIGO FLEX OFICINA',\n",
       "       'CATEGORIA / PUESTO', 'CONVENIO', 'NIVEL SALARIAL', 'FTE',\n",
       "       'GRUPO COSTE', 'MANAGER', 'Nº S.S.', 'GRUPO COTIZACION',\n",
       "       'CENTRO DE COTIZACION', 'RESPONSABLE PC',\n",
       "       'APROBADOR PORTAL DEL EMPLEADO', 'MAIL APROBADOR',\n",
       "       'SEGUNDO APROBADOR COMPRAS', 'MAIL SEGUNDO APROV. COMPRAS',\n",
       "       'Unnamed: 37', 'Unnamed: 38', 'HC y FTE (sin contar ETT)',\n",
       "       'Unnamed: 40', 'Unnamed: 41', 'Unnamed: 42',\n",
       "       'FTE GRUPO DE COSTE (sin contar ETT)', 'Unnamed: 44', 'Unnamed: 45',\n",
       "       'Unnamed: 46', 'Unnamed: 47', 'Unnamed: 48', 'FTE MANAGERS',\n",
       "       'Unnamed: 50', 'Unnamed: 51', 'Unnamed: 52',\n",
       "       'INDEFINIDOS MENSUALES (sin contar ETT)', 'Unnamed: 54'],\n",
       "      dtype='object')"
      ]
     },
     "execution_count": 30,
     "metadata": {},
     "output_type": "execute_result"
    }
   ],
   "source": [
    "#Carga el excel en un Dataframe (datos de las SW)\n",
    "df_empleados= pd.read_excel('../Data/Resumen HC Enero 2021.xlsx',engine='openpyxl',sheet_name='HC ENERO')\n",
    "df_empleados.columns"
   ]
  },
  {
   "cell_type": "code",
   "execution_count": 31,
   "metadata": {},
   "outputs": [],
   "source": [
    "df_empleados['SEGUNDO APELLIDO'] = df_empleados['SEGUNDO APELLIDO'].fillna('.')"
   ]
  },
  {
   "cell_type": "code",
   "execution_count": 37,
   "metadata": {},
   "outputs": [
    {
     "data": {
      "text/plain": [
       "Index(['PAIS', 'EMPRESA', 'RAZON SOCIAL', 'CIF', 'CODIGO FLEX EMPRESA',\n",
       "       'CODIGO GPCN', 'PRIMER APELLIDO', 'SEGUNDO APELLIDO', 'NOMBRE',\n",
       "       'FECHA NACIMIENTO', 'Nº FLEX', 'CODIGO SF', 'MAIL TRABAJADOR',\n",
       "       'FECHA ANTIGUEDAD', 'NIF', 'SEXO', 'MODALIDAD DEL CONTRATO', 'NIVEL1',\n",
       "       'NIVEL2', 'NIVEL3', 'PC', 'OFICINA FISICA', 'CODIGO FLEX OFICINA',\n",
       "       'CATEGORIA / PUESTO', 'CONVENIO', 'NIVEL SALARIAL', 'FTE',\n",
       "       'GRUPO COSTE', 'MANAGER', 'Nº S.S.', 'GRUPO COTIZACION',\n",
       "       'CENTRO DE COTIZACION', 'RESPONSABLE PC',\n",
       "       'APROBADOR PORTAL DEL EMPLEADO', 'MAIL APROBADOR',\n",
       "       'SEGUNDO APROBADOR COMPRAS', 'MAIL SEGUNDO APROV. COMPRAS',\n",
       "       'Unnamed: 37', 'Unnamed: 38', 'HC y FTE (sin contar ETT)',\n",
       "       'Unnamed: 40', 'Unnamed: 41', 'Unnamed: 42',\n",
       "       'FTE GRUPO DE COSTE (sin contar ETT)', 'Unnamed: 44', 'Unnamed: 45',\n",
       "       'Unnamed: 46', 'Unnamed: 47', 'Unnamed: 48', 'FTE MANAGERS',\n",
       "       'Unnamed: 50', 'Unnamed: 51', 'Unnamed: 52',\n",
       "       'INDEFINIDOS MENSUALES (sin contar ETT)', 'Unnamed: 54'],\n",
       "      dtype='object')"
      ]
     },
     "execution_count": 37,
     "metadata": {},
     "output_type": "execute_result"
    }
   ],
   "source": [
    "clean_country_PORTUGAL = df_empleados[(df_empleados['PAIS'] != 'ESPAÑA')& (df_empleados['SEGUNDO APELLIDO'] != '.')]\n",
    "clean_country_PORTUGAL.columns"
   ]
  },
  {
   "cell_type": "code",
   "execution_count": 38,
   "metadata": {},
   "outputs": [
    {
     "name": "stderr",
     "output_type": "stream",
     "text": [
      "/home/antonio/.local/lib/python3.6/site-packages/ipykernel_launcher.py:1: SettingWithCopyWarning: \n",
      "A value is trying to be set on a copy of a slice from a DataFrame.\n",
      "Try using .loc[row_indexer,col_indexer] = value instead\n",
      "\n",
      "See the caveats in the documentation: https://pandas.pydata.org/pandas-docs/stable/user_guide/indexing.html#returning-a-view-versus-a-copy\n",
      "  \"\"\"Entry point for launching an IPython kernel.\n"
     ]
    }
   ],
   "source": [
    "clean_country_PORTUGAL['PRIMER APELLIDO']=clean_country_PORTUGAL['SEGUNDO APELLIDO']"
   ]
  },
  {
   "cell_type": "code",
   "execution_count": 39,
   "metadata": {},
   "outputs": [
    {
     "name": "stderr",
     "output_type": "stream",
     "text": [
      "/home/antonio/.local/lib/python3.6/site-packages/ipykernel_launcher.py:1: SettingWithCopyWarning: \n",
      "A value is trying to be set on a copy of a slice from a DataFrame.\n",
      "Try using .loc[row_indexer,col_indexer] = value instead\n",
      "\n",
      "See the caveats in the documentation: https://pandas.pydata.org/pandas-docs/stable/user_guide/indexing.html#returning-a-view-versus-a-copy\n",
      "  \"\"\"Entry point for launching an IPython kernel.\n"
     ]
    }
   ],
   "source": [
    "clean_country_PORTUGAL['SEGUNDO APELLIDO']='.'"
   ]
  },
  {
   "cell_type": "code",
   "execution_count": 40,
   "metadata": {},
   "outputs": [
    {
     "data": {
      "text/plain": [
       "176"
      ]
     },
     "execution_count": 40,
     "metadata": {},
     "output_type": "execute_result"
    }
   ],
   "source": [
    "len(clean_country_PORTUGAL['PRIMER APELLIDO'])"
   ]
  },
  {
   "cell_type": "code",
   "execution_count": 41,
   "metadata": {},
   "outputs": [],
   "source": [
    "df_empleados = pd.concat([df_empleados, clean_country_PORTUGAL])\n"
   ]
  },
  {
   "cell_type": "code",
   "execution_count": 42,
   "metadata": {},
   "outputs": [],
   "source": [
    "df_empleados['Nombre completo OBSERVADOR'] = df_empleados['NOMBRE'] + \" \" + df_empleados['PRIMER APELLIDO']+ \" \" +df_empleados['SEGUNDO APELLIDO']"
   ]
  },
  {
   "cell_type": "code",
   "execution_count": 43,
   "metadata": {},
   "outputs": [
    {
     "data": {
      "text/plain": [
       "2151"
      ]
     },
     "execution_count": 43,
     "metadata": {},
     "output_type": "execute_result"
    }
   ],
   "source": [
    "df_empleados['Nombre completo OBSERVADOR']=df_empleados['Nombre completo OBSERVADOR'].str.lower()\n",
    "len(df_empleados)"
   ]
  },
  {
   "cell_type": "code",
   "execution_count": 44,
   "metadata": {},
   "outputs": [],
   "source": [
    "df_empleados.to_excel('../Data/empleados_limpios.xlsx')"
   ]
  },
  {
   "cell_type": "code",
   "execution_count": 45,
   "metadata": {},
   "outputs": [],
   "source": [
    "#Combina los 2 archivos EXCEL por el Nombre del empleado\n",
    "SW=pd.merge(df_empleados, df4, on='Nombre completo OBSERVADOR', how='outer')"
   ]
  },
  {
   "cell_type": "code",
   "execution_count": 46,
   "metadata": {},
   "outputs": [],
   "source": [
    "SW['Nombre completo OBSERVADOR']=SW['Nombre completo OBSERVADOR'].str.upper()\n"
   ]
  },
  {
   "cell_type": "code",
   "execution_count": 47,
   "metadata": {},
   "outputs": [
    {
     "data": {
      "text/plain": [
       "0       False\n",
       "1       False\n",
       "2       False\n",
       "3       False\n",
       "4       False\n",
       "        ...  \n",
       "3033     True\n",
       "3034     True\n",
       "3035     True\n",
       "3036     True\n",
       "3037     True\n",
       "Name: ESTADO DEL EMPLEADO, Length: 3038, dtype: bool"
      ]
     },
     "execution_count": 47,
     "metadata": {},
     "output_type": "execute_result"
    }
   ],
   "source": [
    "SW['ESTADO DEL EMPLEADO'] = SW['PAIS'].isnull()\n",
    "SW['ESTADO DEL EMPLEADO']"
   ]
  },
  {
   "cell_type": "code",
   "execution_count": 48,
   "metadata": {},
   "outputs": [],
   "source": [
    "SW['ESTADO DEL EMPLEADO'] =SW['ESTADO DEL EMPLEADO'].replace({True: 'Baja',False: 'Activo',})"
   ]
  },
  {
   "cell_type": "code",
   "execution_count": 49,
   "metadata": {},
   "outputs": [
    {
     "data": {
      "text/plain": [
       "array(['Activo', 'Baja'], dtype=object)"
      ]
     },
     "execution_count": 49,
     "metadata": {},
     "output_type": "execute_result"
    }
   ],
   "source": [
    "SW['ESTADO DEL EMPLEADO'].unique()"
   ]
  },
  {
   "cell_type": "code",
   "execution_count": 50,
   "metadata": {},
   "outputs": [],
   "source": [
    "SW.to_excel('../Data/SW.xlsx')"
   ]
  },
  {
   "cell_type": "code",
   "execution_count": 51,
   "metadata": {},
   "outputs": [
    {
     "data": {
      "text/plain": [
       "Index(['PAIS', 'EMPRESA', 'RAZON SOCIAL', 'CIF', 'CODIGO FLEX EMPRESA',\n",
       "       'CODIGO GPCN', 'PRIMER APELLIDO', 'SEGUNDO APELLIDO', 'NOMBRE',\n",
       "       'FECHA NACIMIENTO', 'Nº FLEX', 'CODIGO SF', 'MAIL TRABAJADOR',\n",
       "       'FECHA ANTIGUEDAD', 'NIF', 'SEXO', 'MODALIDAD DEL CONTRATO', 'NIVEL1',\n",
       "       'NIVEL2', 'NIVEL3', 'PC', 'OFICINA FISICA', 'CODIGO FLEX OFICINA',\n",
       "       'CATEGORIA / PUESTO', 'CONVENIO', 'NIVEL SALARIAL', 'FTE',\n",
       "       'GRUPO COSTE', 'MANAGER', 'Nº S.S.', 'GRUPO COTIZACION',\n",
       "       'CENTRO DE COTIZACION', 'RESPONSABLE PC',\n",
       "       'APROBADOR PORTAL DEL EMPLEADO', 'MAIL APROBADOR',\n",
       "       'SEGUNDO APROBADOR COMPRAS', 'MAIL SEGUNDO APROV. COMPRAS',\n",
       "       'Unnamed: 37', 'Unnamed: 38', 'HC y FTE (sin contar ETT)',\n",
       "       'Unnamed: 40', 'Unnamed: 41', 'Unnamed: 42',\n",
       "       'FTE GRUPO DE COSTE (sin contar ETT)', 'Unnamed: 44', 'Unnamed: 45',\n",
       "       'Unnamed: 46', 'Unnamed: 47', 'Unnamed: 48', 'FTE MANAGERS',\n",
       "       'Unnamed: 50', 'Unnamed: 51', 'Unnamed: 52',\n",
       "       'INDEFINIDOS MENSUALES (sin contar ETT)', 'Unnamed: 54',\n",
       "       'Nombre completo OBSERVADOR', 'index', 'Número', 'Fecha de creación',\n",
       "       'Nombre de la persona o personas observadas', 'Grupo Operativo', 'País',\n",
       "       'Entidad', 'Sitio', 'Nombre del sitio de BV', 'Nombre del cliente',\n",
       "       'Dirección del sitio', '1. ¿Mente en la tarea?',\n",
       "       '2. ¿Ojos puestos en la tarea?', '3. ¿Utiliza el equipo correctamente?',\n",
       "       '4. ¿Realiza la tarea sin apresurarse?', '5. ¿Usa el EPI definido?',\n",
       "       '6. ¿Sigue procedimientos de trabajo seguros?',\n",
       "       '7. Se obtiene la autorización ...',\n",
       "       '8. Verifica el entorno de trabajo, 2 min para mi seguridad',\n",
       "       '9. El personal actuó con seguridad para la tarea observada.',\n",
       "       '10.Conoce la Ruta de Evaluación de Emergencias y el Punto de Reunión',\n",
       "       '11. La persona es consciente de la necesidad de reportar Cuasi Accidentes y Condiciones Inseguras?.',\n",
       "       '12. El personal deja de trabajar si la situación no es segura.',\n",
       "       '13. El personal esta capacitado y suficientemente formado para la Tarea.',\n",
       "       '14. Los EPIS definidos son adecuados y se usan correctamente.',\n",
       "       '15. los EPIS estan en buen estado, bien mantenidos y se almacenan correctamente.',\n",
       "       '16. Buena limpieza del área de trabajo',\n",
       "       '17. Área libre de riesgos de resbalones, tropiezos y caídas',\n",
       "       '18. Pasillos, salidas de emergencia y equipos de emergencia no estan obstruidos.',\n",
       "       '19. Derrames controlados',\n",
       "       '20. Todos los contenedores en uso y en el área están etiquetados.',\n",
       "       '21. Sin ruidos, polvo ni olores',\n",
       "       '22. Las sustancias peligrosas se almacenan adecuadamente',\n",
       "       '23. El área de trabajo está protegida contra riesgos',\n",
       "       '24. Iluminación y ventilación suficientes.',\n",
       "       '25. Uso de equipos intrínsecamente seguro.',\n",
       "       '26. Protección de la maquina o señal de bloqueo-etiquetado disponible',\n",
       "       '27. El andamio o la escalera son seguros para su uso.',\n",
       "       '¿Usé mi autorización para detener el trabajo?',\n",
       "       'Comentarios / Plan de acción', 'ESTADO DEL EMPLEADO'],\n",
       "      dtype='object')"
      ]
     },
     "execution_count": 51,
     "metadata": {},
     "output_type": "execute_result"
    }
   ],
   "source": [
    "SW.columns"
   ]
  },
  {
   "cell_type": "code",
   "execution_count": 62,
   "metadata": {},
   "outputs": [],
   "source": [
    "#SW['Fecha de creación'].unique()"
   ]
  },
  {
   "cell_type": "markdown",
   "metadata": {},
   "source": [
    "## Visualización"
   ]
  },
  {
   "cell_type": "code",
   "execution_count": 64,
   "metadata": {},
   "outputs": [],
   "source": [
    "Preguntas_sw=SW[['1. ¿Mente en la tarea?',\n",
    "       '2. ¿Ojos puestos en la tarea?', '3. ¿Utiliza el equipo correctamente?',\n",
    "       '4. ¿Realiza la tarea sin apresurarse?', '5. ¿Usa el EPI definido?',\n",
    "       '6. ¿Sigue procedimientos de trabajo seguros?',\n",
    "       '7. Se obtiene la autorización ...',\n",
    "       '8. Verifica el entorno de trabajo, 2 min para mi seguridad',\n",
    "       '9. El personal actuó con seguridad para la tarea observada.',\n",
    "       '10.Conoce la Ruta de Evaluación de Emergencias y el Punto de Reunión',\n",
    "       '11. La persona es consciente de la necesidad de reportar Cuasi Accidentes y Condiciones Inseguras?.',\n",
    "       '12. El personal deja de trabajar si la situación no es segura.',\n",
    "       '13. El personal esta capacitado y suficientemente formado para la Tarea.',\n",
    "       '14. Los EPIS definidos son adecuados y se usan correctamente.',\n",
    "       '15. los EPIS estan en buen estado, bien mantenidos y se almacenan correctamente.',\n",
    "       '16. Buena limpieza del área de trabajo',\n",
    "       '17. Área libre de riesgos de resbalones, tropiezos y caídas',\n",
    "       '18. Pasillos, salidas de emergencia y equipos de emergencia no estan obstruidos.',\n",
    "       '19. Derrames controlados',\n",
    "       '20. Todos los contenedores en uso y en el área están etiquetados.',\n",
    "       '21. Sin ruidos, polvo ni olores',\n",
    "       '22. Las sustancias peligrosas se almacenan adecuadamente',\n",
    "       '23. El área de trabajo está protegida contra riesgos',\n",
    "       '24. Iluminación y ventilación suficientes.',\n",
    "       '25. Uso de equipos intrínsecamente seguro.',\n",
    "       '26. Protección de la maquina o señal de bloqueo-etiquetado disponible',\n",
    "       '27. El andamio o la escalera son seguros para su uso.']]"
   ]
  },
  {
   "cell_type": "code",
   "execution_count": 69,
   "metadata": {},
   "outputs": [],
   "source": [
    "df2_tidy = Preguntas_sw.rename(columns = {'1. ¿Mente en la tarea?': 'P1', \n",
    "                                          '2. ¿Ojos puestos en la tarea?': 'P2',\n",
    "                                          '3. ¿Utiliza el equipo correctamente?': 'P3',\n",
    "                                          '4. ¿Realiza la tarea sin apresurarse?': 'P4',\n",
    "                                          '5. ¿Usa el EPI definido?': 'P5',\n",
    "                                          '6. ¿Sigue procedimientos de trabajo seguros?': 'P6',\n",
    "                                           '7. Se obtiene la autorización ...': 'P7',\n",
    "                                          '8. Verifica el entorno de trabajo, 2 min para mi seguridad': 'P8',\n",
    "                                          '9. El personal actuó con seguridad para la tarea observada.': 'P9',\n",
    "                                          '10.Conoce la Ruta de Evaluación de Emergencias y el Punto de Reunión': 'P10',\n",
    "                                          '11. La persona es consciente de la necesidad de reportar Cuasi Accidentes y Condiciones Inseguras?.': 'P11',\n",
    "                                          '12. El personal deja de trabajar si la situación no es segura.': 'P12',\n",
    "                                          '13. El personal esta capacitado y suficientemente formado para la Tarea.': 'P13',\n",
    "                                          '14. Los EPIS definidos son adecuados y se usan correctamente.': 'P14',\n",
    "                                          '15. los EPIS estan en buen estado, bien mantenidos y se almacenan correctamente.': 'P15',\n",
    "                                          '16. Buena limpieza del área de trabajo': 'P16',\n",
    "                                          '17. Área libre de riesgos de resbalones, tropiezos y caídas': 'P17',\n",
    "                                          '18. Pasillos, salidas de emergencia y equipos de emergencia no estan obstruidos.': 'P18',\n",
    "                                           '19. Derrames controlados': 'P19',\n",
    "                                          '20. Todos los contenedores en uso y en el área están etiquetados.': 'P20',\n",
    "                                          '21. Sin ruidos, polvo ni olores':'P21',\n",
    "                                          '22. Las sustancias peligrosas se almacenan adecuadamente': 'P22',\n",
    "                                          '23. El área de trabajo está protegida contra riesgos': 'P23',\n",
    "                                          '24. Iluminación y ventilación suficientes.': 'P24',\n",
    "                                          '25. Uso de equipos intrínsecamente seguro.': 'P25',\n",
    "                                          '26. Protección de la maquina o señal de bloqueo-etiquetado disponible': 'P26',\n",
    "                                          '27. El andamio o la escalera son seguros para su uso.': 'P27'\n",
    "                                         }, inplace = False)\n"
   ]
  },
  {
   "cell_type": "code",
   "execution_count": 74,
   "metadata": {},
   "outputs": [
    {
     "data": {
      "text/plain": [
       "Index(['P1', 'P2', 'P3', 'P4', 'P5', 'P6', 'P7', 'P8', 'P9', 'P10', 'P11',\n",
       "       'P12', 'P13', 'P14', 'P15', 'P16', 'P17', 'P18', 'P19', 'P20', 'P21',\n",
       "       'P22', 'P23', 'P24', 'P25', 'P26', 'P27'],\n",
       "      dtype='object')"
      ]
     },
     "execution_count": 74,
     "metadata": {},
     "output_type": "execute_result"
    }
   ],
   "source": [
    "df2_tidy.columns"
   ]
  },
  {
   "cell_type": "code",
   "execution_count": 71,
   "metadata": {},
   "outputs": [],
   "source": [
    "import missingno as msno\n",
    "%matplotlib inline"
   ]
  },
  {
   "cell_type": "code",
   "execution_count": 72,
   "metadata": {},
   "outputs": [
    {
     "data": {
      "text/plain": [
       "<matplotlib.axes._subplots.AxesSubplot at 0x7f97af2dfb00>"
      ]
     },
     "execution_count": 72,
     "metadata": {},
     "output_type": "execute_result"
    },
    {
     "data": {
      "image/png": "[encoded data removed]",
      "text/plain": [
       "<Figure size 1440x864 with 2 Axes>"
      ]
     },
     "metadata": {
      "needs_background": "light"
     },
     "output_type": "display_data"
    }
   ],
   "source": [
    "msno.heatmap(df2_tidy)"
   ]
  },
  {
   "cell_type": "code",
   "execution_count": 54,
   "metadata": {},
   "outputs": [],
   "source": [
    "DOCUMENTACION_PRL = pd.DataFrame(SW[['1. ¿Mente en la tarea?','2. ¿Ojos puestos en la tarea?', '3. ¿Utiliza el equipo correctamente?',\n",
    "       '4. ¿Realiza la tarea sin apresurarse?', '5. ¿Usa el EPI definido?',\n",
    "       '6. ¿Sigue procedimientos de trabajo seguros?',\n",
    "       '7. Se obtiene la autorización ...',\n",
    "       '8. Verifica el entorno de trabajo, 2 min para mi seguridad',\n",
    "       '9. El personal actuó con seguridad para la tarea observada.',\n",
    "       '10.Conoce la Ruta de Evaluación de Emergencias y el Punto de Reunión',\n",
    "       '11. La persona es consciente de la necesidad de reportar Cuasi Accidentes y Condiciones Inseguras?.']])\n",
    "\n",
    "ENTORNO_DE_TRABAJO= pd.DataFrame(SW[['12. El personal deja de trabajar si la situación no es segura.',\n",
    "       '13. El personal esta capacitado y suficientemente formado para la Tarea.','16. Buena limpieza del área de trabajo',\n",
    "       '17. Área libre de riesgos de resbalones, tropiezos y caídas',\n",
    "       '18. Pasillos, salidas de emergencia y equipos de emergencia no estan obstruidos.',\n",
    "       '19. Derrames controlados',\n",
    "       '20. Todos los contenedores en uso y en el área están etiquetados.',\n",
    "       '21. Sin ruidos, polvo ni olores',\n",
    "       '22. Las sustancias peligrosas se almacenan adecuadamente',\n",
    "       '23. El área de trabajo está protegida contra riesgos',\n",
    "       '24. Iluminación y ventilación suficientes.']])\n",
    "\n",
    "EPI_s= pd.DataFrame(SW[['14. Los EPIS definidos son adecuados y se usan correctamente.',\n",
    "       '15. los EPIS estan en buen estado, bien mantenidos y se almacenan correctamente.']])\n",
    "\n",
    "EQ_DE_TRABAJO= pd.DataFrame(SW[['25. Uso de equipos intrínsecamente seguro.',\n",
    "       '26. Protección de la maquina o señal de bloqueo-etiquetado disponible',\n",
    "       '27. El andamio o la escalera son seguros para su uso.']])\n",
    "\n",
    "\n",
    "OBSERVACIONES= pd.DataFrame(SW[['Comentarios / Plan de acción']])\n",
    "\n",
    "INFO_VARIA=pd.DataFrame(SW[['PAIS', 'EMPRESA', 'RAZON SOCIAL', 'CIF', 'CODIGO FLEX EMPRESA',\n",
    "       'CODIGO GPCN', 'PRIMER APELLIDO', 'SEGUNDO APELLIDO', 'NOMBRE',\n",
    "       'FECHA NACIMIENTO', 'Nº FLEX', 'CODIGO SF', 'MAIL TRABAJADOR',\n",
    "       'FECHA ANTIGUEDAD', 'NIF', 'SEXO', 'MODALIDAD DEL CONTRATO', 'NIVEL1',\n",
    "       'NIVEL2', 'NIVEL3', 'PC', 'OFICINA FISICA', 'CODIGO FLEX OFICINA',\n",
    "       'CATEGORIA / PUESTO', 'CONVENIO', 'NIVEL SALARIAL', 'FTE',\n",
    "       'GRUPO COSTE', 'MANAGER', 'Nº S.S.', 'GRUPO COTIZACION',\n",
    "       'CENTRO DE COTIZACION', 'RESPONSABLE PC',\n",
    "       'APROBADOR PORTAL DEL EMPLEADO', 'MAIL APROBADOR',\n",
    "       'SEGUNDO APROBADOR COMPRAS',\n",
    "       'Nombre completo OBSERVADOR','ESTADO DEL EMPLEADO', 'index', 'Número', 'Fecha de creación',\n",
    "       'Nombre de la persona o personas observadas', 'Grupo Operativo', 'País',\n",
    "       'Entidad', 'Sitio', 'Nombre del sitio de BV', 'Nombre del cliente',\n",
    "       'Dirección del sitio']])\n",
    "\n"
   ]
  },
  {
   "cell_type": "code",
   "execution_count": 55,
   "metadata": {},
   "outputs": [],
   "source": [
    "df5 = pd.concat([INFO_VARIA,DOCUMENTACION_PRL,ENTORNO_DE_TRABAJO,EPI_s,EQ_DE_TRABAJO,OBSERVACIONES],axis=1,keys=['INFO_VARIA','DOCUMENTACION_PRL','ENTORNO_DE_TRABAJO','EPI_s','EQ_DE_TRABAJO','OBSERVACIONES'])\n",
    "df.to_excel('table.xlsx', sheet_name='sheet1', index=True, index_label='id')"
   ]
  },
  {
   "cell_type": "code",
   "execution_count": 56,
   "metadata": {},
   "outputs": [],
   "source": [
    "df5.to_excel('../Data/SW2.xlsx')"
   ]
  },
  {
   "cell_type": "code",
   "execution_count": 57,
   "metadata": {},
   "outputs": [
    {
     "data": {
      "text/html": [
       "<div>\n",
       "<style scoped>\n",
       "    .dataframe tbody tr th:only-of-type {\n",
       "        vertical-align: middle;\n",
       "    }\n",
       "\n",
       "    .dataframe tbody tr th {\n",
       "        vertical-align: top;\n",
       "    }\n",
       "\n",
       "    .dataframe thead th {\n",
       "        text-align: right;\n",
       "    }\n",
       "</style>\n",
       "<table border=\"1\" class=\"dataframe\">\n",
       "  <thead>\n",
       "    <tr style=\"text-align: right;\">\n",
       "      <th></th>\n",
       "      <th>1. ¿Mente en la tarea?</th>\n",
       "      <th>2. ¿Ojos puestos en la tarea?</th>\n",
       "      <th>3. ¿Utiliza el equipo correctamente?</th>\n",
       "      <th>4. ¿Realiza la tarea sin apresurarse?</th>\n",
       "      <th>5. ¿Usa el EPI definido?</th>\n",
       "      <th>6. ¿Sigue procedimientos de trabajo seguros?</th>\n",
       "      <th>7. Se obtiene la autorización ...</th>\n",
       "      <th>8. Verifica el entorno de trabajo, 2 min para mi seguridad</th>\n",
       "      <th>9. El personal actuó con seguridad para la tarea observada.</th>\n",
       "      <th>10.Conoce la Ruta de Evaluación de Emergencias y el Punto de Reunión</th>\n",
       "      <th>11. La persona es consciente de la necesidad de reportar Cuasi Accidentes y Condiciones Inseguras?.</th>\n",
       "    </tr>\n",
       "  </thead>\n",
       "  <tbody>\n",
       "    <tr>\n",
       "      <th>count</th>\n",
       "      <td>1019</td>\n",
       "      <td>1019</td>\n",
       "      <td>1019</td>\n",
       "      <td>1019</td>\n",
       "      <td>1019</td>\n",
       "      <td>1019</td>\n",
       "      <td>1019</td>\n",
       "      <td>1019</td>\n",
       "      <td>1019</td>\n",
       "      <td>1019</td>\n",
       "      <td>1019</td>\n",
       "    </tr>\n",
       "    <tr>\n",
       "      <th>unique</th>\n",
       "      <td>3</td>\n",
       "      <td>2</td>\n",
       "      <td>3</td>\n",
       "      <td>3</td>\n",
       "      <td>3</td>\n",
       "      <td>3</td>\n",
       "      <td>3</td>\n",
       "      <td>3</td>\n",
       "      <td>3</td>\n",
       "      <td>3</td>\n",
       "      <td>3</td>\n",
       "    </tr>\n",
       "    <tr>\n",
       "      <th>top</th>\n",
       "      <td>Yes</td>\n",
       "      <td>Yes</td>\n",
       "      <td>Yes</td>\n",
       "      <td>Yes</td>\n",
       "      <td>Yes</td>\n",
       "      <td>Yes</td>\n",
       "      <td>Yes</td>\n",
       "      <td>Yes</td>\n",
       "      <td>Yes</td>\n",
       "      <td>Yes</td>\n",
       "      <td>Yes</td>\n",
       "    </tr>\n",
       "    <tr>\n",
       "      <th>freq</th>\n",
       "      <td>960</td>\n",
       "      <td>975</td>\n",
       "      <td>901</td>\n",
       "      <td>960</td>\n",
       "      <td>904</td>\n",
       "      <td>956</td>\n",
       "      <td>707</td>\n",
       "      <td>899</td>\n",
       "      <td>947</td>\n",
       "      <td>816</td>\n",
       "      <td>950</td>\n",
       "    </tr>\n",
       "  </tbody>\n",
       "</table>\n",
       "</div>"
      ],
      "text/plain": [
       "       1. ¿Mente en la tarea? 2. ¿Ojos puestos en la tarea?  \\\n",
       "count                    1019                          1019   \n",
       "unique                      3                             2   \n",
       "top                       Yes                           Yes   \n",
       "freq                      960                           975   \n",
       "\n",
       "       3. ¿Utiliza el equipo correctamente?  \\\n",
       "count                                  1019   \n",
       "unique                                    3   \n",
       "top                                     Yes   \n",
       "freq                                    901   \n",
       "\n",
       "       4. ¿Realiza la tarea sin apresurarse? 5. ¿Usa el EPI definido?  \\\n",
       "count                                   1019                     1019   \n",
       "unique                                     3                        3   \n",
       "top                                      Yes                      Yes   \n",
       "freq                                     960                      904   \n",
       "\n",
       "       6. ¿Sigue procedimientos de trabajo seguros?  \\\n",
       "count                                          1019   \n",
       "unique                                            3   \n",
       "top                                             Yes   \n",
       "freq                                            956   \n",
       "\n",
       "       7. Se obtiene la autorización ...  \\\n",
       "count                               1019   \n",
       "unique                                 3   \n",
       "top                                  Yes   \n",
       "freq                                 707   \n",
       "\n",
       "       8. Verifica el entorno de trabajo, 2 min para mi seguridad  \\\n",
       "count                                                1019           \n",
       "unique                                                  3           \n",
       "top                                                   Yes           \n",
       "freq                                                  899           \n",
       "\n",
       "       9. El personal actuó con seguridad para la tarea observada.  \\\n",
       "count                                                1019            \n",
       "unique                                                  3            \n",
       "top                                                   Yes            \n",
       "freq                                                  947            \n",
       "\n",
       "       10.Conoce la Ruta de Evaluación de Emergencias y el Punto de Reunión  \\\n",
       "count                                                1019                     \n",
       "unique                                                  3                     \n",
       "top                                                   Yes                     \n",
       "freq                                                  816                     \n",
       "\n",
       "       11. La persona es consciente de la necesidad de reportar Cuasi Accidentes y Condiciones Inseguras?.  \n",
       "count                                                1019                                                   \n",
       "unique                                                  3                                                   \n",
       "top                                                   Yes                                                   \n",
       "freq                                                  950                                                   "
      ]
     },
     "execution_count": 57,
     "metadata": {},
     "output_type": "execute_result"
    }
   ],
   "source": [
    "df5['DOCUMENTACION_PRL'].describe()\n"
   ]
  },
  {
   "cell_type": "code",
   "execution_count": null,
   "metadata": {},
   "outputs": [],
   "source": []
  }
 ],
 "metadata": {
  "kernelspec": {
   "display_name": "Python 3",
   "language": "python",
   "name": "python3"
  },
  "language_info": {
   "codemirror_mode": {
    "name": "ipython",
    "version": 3
   },
   "file_extension": ".py",
   "mimetype": "text/x-python",
   "name": "python",
   "nbconvert_exporter": "python",
   "pygments_lexer": "ipython3",
   "version": "3.6.9"
  }
 },
 "nbformat": 4,
 "nbformat_minor": 4
}
